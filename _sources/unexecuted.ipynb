{
 "cells": [
  {
   "cell_type": "markdown",
   "id": "a82dfca6",
   "metadata": {
    "papermill": {
     "duration": 0.025782,
     "end_time": "2023-02-28T08:31:02.263441",
     "exception": false,
     "start_time": "2023-02-28T08:31:02.237659",
     "status": "completed"
    },
    "tags": []
   },
   "source": [
    "# [Unexecuted] Parameter estimation tutorial\n",
    "\n",
    "There are a quite a few steps to analyse GW data. Today we'll focus on the middle panel:\n",
    "![Screen-Shot-2022-11-21-at-10-35-12-pm-1.png](https://i.postimg.cc/dtLCYm7Y/Screen-Shot-2022-11-21-at-10-35-12-pm-1.png)\n",
    "\n",
    "Note: this notebook has been created by adapting materials from:\n",
    "1) [Colm Talbots' inference series](https://github.com/ColmTalbot/intoduction_to_inference)\n",
    "2) [Bilby's fast GW injection example](https://git.ligo.org/lscsoft/bilby/-/blob/master/examples/gw_examples/injection_examples/fast_tutorial.py)\n",
    "3) [Bilby's GW150914 example](https://git.ligo.org/lscsoft/bilby/-/blob/master/examples/gw_examples/data_examples/GW150914.py)"
   ]
  },
  {
   "cell_type": "code",
   "execution_count": 1,
   "id": "fd88acf1",
   "metadata": {
    "ExecuteTime": {
     "end_time": "2023-02-15T01:20:59.113925Z",
     "start_time": "2023-02-15T01:20:55.063933Z"
    },
    "execution": {
     "iopub.execute_input": "2023-02-28T08:31:02.313018Z",
     "iopub.status.busy": "2023-02-28T08:31:02.312471Z",
     "iopub.status.idle": "2023-02-28T08:31:06.843470Z",
     "shell.execute_reply": "2023-02-28T08:31:06.842383Z"
    },
    "papermill": {
     "duration": 4.55831,
     "end_time": "2023-02-28T08:31:06.846299",
     "exception": false,
     "start_time": "2023-02-28T08:31:02.287989",
     "status": "completed"
    },
    "ploomber": {
     "memory_usage": 101.3359375,
     "timestamp_end": 1677576276.325273,
     "timestamp_start": 1677576272.70838
    },
    "tags": []
   },
   "outputs": [],
   "source": [
    "! pip install bilby[gw]==1.4.1 -q\n",
    "# NOTE: you'll have to restart your runtime after this"
   ]
  },
  {
   "cell_type": "code",
   "execution_count": 2,
   "id": "2dc6e830",
   "metadata": {
    "ExecuteTime": {
     "end_time": "2023-02-15T01:18:33.855179Z",
     "start_time": "2023-02-15T01:18:31.492530Z"
    },
    "execution": {
     "iopub.execute_input": "2023-02-28T08:31:06.894261Z",
     "iopub.status.busy": "2023-02-28T08:31:06.893452Z",
     "iopub.status.idle": "2023-02-28T08:31:08.800187Z",
     "shell.execute_reply": "2023-02-28T08:31:08.799228Z"
    },
    "lines_to_next_cell": 2,
    "papermill": {
     "duration": 1.933596,
     "end_time": "2023-02-28T08:31:08.802838",
     "exception": false,
     "start_time": "2023-02-28T08:31:06.869242",
     "status": "completed"
    },
    "ploomber": {
     "memory_usage": 147.79296875,
     "timestamp_end": 1677576277.348335,
     "timestamp_start": 1677576276.327107
    },
    "tags": [
     "hide-cell"
    ]
   },
   "outputs": [],
   "source": [
    "%matplotlib inline\n",
    "import bilby\n",
    "import matplotlib.pyplot as plt\n",
    "import numpy as np\n",
    "from tqdm.auto import tqdm\n",
    "import pandas as pd\n",
    "from corner.core import quantile\n",
    "from corner import corner\n",
    "import requests\n",
    "from tqdm.auto import tqdm\n",
    "import logging\n",
    "import warnings\n",
    "import os\n",
    "\n",
    "\n",
    "np.random.seed(42)\n",
    "INJECTION_URL = \"https://sandbox.zenodo.org/record/1163982/files/injection_result.json?download=1\"\n",
    "GW150914_URL = \"https://sandbox.zenodo.org/record/1164558/files/GW150914_result.json?download=1\"\n",
    "GW200308_URL = \"https://zenodo.org/record/5546663/files/IGWN-GWTC3p0-v1-GW200308_173609_PEDataRelease_mixed_cosmo.h5?download=1\"\n",
    "\n",
    "\n",
    "\n",
    "def notebook_setup():\n",
    "    warnings.filterwarnings(\"ignore\", category=DeprecationWarning)\n",
    "    warnings.filterwarnings(\"ignore\", category=FutureWarning)\n",
    "    warnings.filterwarnings(\"ignore\", category=UserWarning)\n",
    "    warnings.filterwarnings(\"ignore\", category=RuntimeWarning)\n",
    "    logger = logging.getLogger(\"root\")\n",
    "    logger.setLevel(logging.ERROR)\n",
    "    logger = logging.getLogger(\"bilby\")\n",
    "    logger.setLevel(logging.INFO)\n",
    "    plt.style.use(\"default\")\n",
    "    plt.rcParams[\"savefig.dpi\"] = 100\n",
    "    plt.rcParams[\"figure.dpi\"] = 100\n",
    "    plt.rcParams[\"font.size\"] = 16\n",
    "    plt.rcParams[\"font.family\"] = \"sans-serif\"\n",
    "    plt.rcParams[\"font.sans-serif\"] = [\"Liberation Sans\"]\n",
    "    plt.rcParams[\"font.cursive\"] = [\"Liberation Sans\"]\n",
    "    plt.rcParams[\"mathtext.fontset\"] = \"custom\"\n",
    "    plt.rcParams[\"axes.grid\"] = False\n",
    "\n",
    "\n",
    "def download(url: str, fname: str):\n",
    "    resp = requests.get(url, stream=True)\n",
    "    total = int(resp.headers.get('content-length', 0))\n",
    "    if os.path.exists(fname):\n",
    "        return\n",
    "    with open(fname, 'wb') as file, tqdm(\n",
    "        desc=f\"Downloading {fname}\",\n",
    "        total=total,\n",
    "        unit='iB',\n",
    "        unit_scale=True,\n",
    "        unit_divisor=1024,\n",
    "    ) as bar:\n",
    "        for data in resp.iter_content(chunk_size=1024):\n",
    "            size = file.write(data)\n",
    "            bar.update(size)\n",
    "            \n",
    "\n",
    "\n",
    "notebook_setup()"
   ]
  },
  {
   "cell_type": "code",
   "execution_count": 3,
   "id": "34614d67",
   "metadata": {
    "ExecuteTime": {
     "end_time": "2023-02-15T01:18:33.859874Z",
     "start_time": "2023-02-15T01:18:33.856922Z"
    },
    "execution": {
     "iopub.execute_input": "2023-02-28T08:31:08.849909Z",
     "iopub.status.busy": "2023-02-28T08:31:08.849419Z",
     "iopub.status.idle": "2023-02-28T08:31:08.853782Z",
     "shell.execute_reply": "2023-02-28T08:31:08.852835Z"
    },
    "papermill": {
     "duration": 0.031012,
     "end_time": "2023-02-28T08:31:08.856094",
     "exception": false,
     "start_time": "2023-02-28T08:31:08.825082",
     "status": "completed"
    },
    "ploomber": {
     "memory_usage": 147.79296875,
     "timestamp_end": 1677576277.35217,
     "timestamp_start": 1677576277.348868
    },
    "tags": [
     "hide-cell"
    ]
   },
   "outputs": [],
   "source": [
    "RE_RUN_SLOW_CELLS = False\n",
    "OUTDIR = \"outdir\""
   ]
  },
  {
   "cell_type": "markdown",
   "id": "15769b42",
   "metadata": {
    "papermill": {
     "duration": 0.022458,
     "end_time": "2023-02-28T08:31:08.902232",
     "exception": false,
     "start_time": "2023-02-28T08:31:08.879774",
     "status": "completed"
    },
    "tags": []
   },
   "source": [
    "# Bayesian Inference intro\n",
    "\n",
    "\n",
    "To start, lets take a look at Bayes' theorem:\n",
    "\n",
    "\\begin{align}\n",
    "\\rm{Posterior} &= \\frac{\\rm{Prior} * \\rm{Likelihood}}{\\rm{Evidence}}  \\\\\n",
    "\\implies P(\\theta|\\rm{data}) &= \\frac{\\pi(\\theta)\\  \\mathcal{L}(\\rm{data}|\\theta)}{\\int_{\\theta} \\pi(\\theta)\\ \\mathcal{L}(\\rm{data}|\\theta)\\ d\\theta}\\\\\n",
    " &= \\frac{\\pi(\\theta)\\  \\mathcal{L}(\\rm{data}|\\theta)}{\\mathcal{Z}(data)}\n",
    "\\end{align}\n",
    "\n",
    "For a primer on Bayesian inference in GW, please look at [Eric Thrane + Colm Talbot's paper](https://arxiv.org/abs/1809.02293).\n",
    "\n",
    "\n",
    "\n",
    "In this workshop we will focus more on how we can perform inference and not focus too much on the maths. \n",
    "\n",
    "Lets look at an example of how we can use Bayesian inference to analyse the following data:"
   ]
  },
  {
   "cell_type": "code",
   "execution_count": 4,
   "id": "eaa90e50",
   "metadata": {
    "ExecuteTime": {
     "end_time": "2023-02-15T01:18:33.877496Z",
     "start_time": "2023-02-15T01:18:33.867908Z"
    },
    "execution": {
     "iopub.execute_input": "2023-02-28T08:31:08.949137Z",
     "iopub.status.busy": "2023-02-28T08:31:08.948732Z",
     "iopub.status.idle": "2023-02-28T08:31:08.961255Z",
     "shell.execute_reply": "2023-02-28T08:31:08.959985Z"
    },
    "papermill": {
     "duration": 0.039905,
     "end_time": "2023-02-28T08:31:08.964279",
     "exception": false,
     "start_time": "2023-02-28T08:31:08.924374",
     "status": "completed"
    },
    "ploomber": {
     "memory_usage": 148.05859375,
     "timestamp_end": 1677576277.359272,
     "timestamp_start": 1677576277.352351
    },
    "tags": [
     "hide-cell"
    ]
   },
   "outputs": [],
   "source": [
    "observation = np.array([\n",
    "    -1.65, 1.93, 2.88, -2.28, -1.02, 0.35, 1.49, 0.65, -1.95, \n",
    "    3.64, -2.47, 3.91, -2.16, 1.03, 0.6, 6.96, 1.07, -2.69, \n",
    "    -7.18, -0.94, -1.37, -1.09, -2.07, 6.28, 1.73, 1.0, 4.11,\n",
    "    1.29, -1.21, -1.06, 3.67, 0.91, 0.64, -0.4, 9.2, -3.51, \n",
    "    1.89, -2.49, 5.43, 2.36, 0.18, 0.01, 6.85, 2.25, 3.55, \n",
    "    3.43, 3.1, 3.98, -1.06, 6.79, 3.27, -1.62, -4.16, -0.19,\n",
    "    1.75, 6.18, -0.72, -1.4, 0.55, 4.85, 6.83, 10.35, 3.83, \n",
    "    5.46, -0.81, 0.91, 3.36, 2.01, 4.37, 4.03, 6.05, 2.62, \n",
    "    5.16, 3.57, 3.74, 7.07, 3.89, 9.91, 3.89, 3.41, 7.71, 2.79,\n",
    "    3.98, 4.91, 1.87, 2.65, 3.4, 3.42, 11.26, 5.06, 8.83, 2.87, \n",
    "    8.66, 3.95, 6.05, 8.2, 3.07, 2.88, 4.6, 3.84\n",
    "])\n",
    "time = np.array([\n",
    "    0.0, 0.1, 0.2, 0.3, 0.4, 0.5, 0.6, 0.7, 0.8, 0.9, 1.0, 1.1,\n",
    "    1.2, 1.3, 1.4, 1.5, 1.6, 1.7, 1.8, 1.9, 2.0, 2.1, 2.2, 2.3, \n",
    "    2.4, 2.5, 2.6, 2.7, 2.8, 2.9, 3.0, 3.1, 3.2, 3.3, 3.4, 3.5, \n",
    "    3.6, 3.7, 3.8, 3.9, 4.0, 4.1, 4.2, 4.3, 4.4, 4.5, 4.6, 4.7, \n",
    "    4.8, 4.9, 5.0, 5.1, 5.2, 5.3, 5.4, 5.5, 5.6, 5.7, 5.8, 5.9, \n",
    "    6.0, 6.1, 6.2, 6.3, 6.4, 6.5, 6.6, 6.7, 6.8, 6.9, 7.0, 7.1, \n",
    "    7.2, 7.3, 7.4, 7.5, 7.6, 7.7, 7.8, 7.9, 8.0, 8.1, 8.2, 8.3, \n",
    "    8.4, 8.5, 8.6, 8.7, 8.8, 8.9, 9.0, 9.1, 9.2, 9.3, 9.4, 9.5, \n",
    "    9.6, 9.7, 9.8, 9.9\n",
    "])"
   ]
  },
  {
   "cell_type": "code",
   "execution_count": 5,
   "id": "350f7170",
   "metadata": {
    "ExecuteTime": {
     "end_time": "2023-02-15T01:18:34.218290Z",
     "start_time": "2023-02-15T01:18:33.880225Z"
    },
    "execution": {
     "iopub.execute_input": "2023-02-28T08:31:09.011458Z",
     "iopub.status.busy": "2023-02-28T08:31:09.011060Z",
     "iopub.status.idle": "2023-02-28T08:31:09.262356Z",
     "shell.execute_reply": "2023-02-28T08:31:09.260902Z"
    },
    "papermill": {
     "duration": 0.277651,
     "end_time": "2023-02-28T08:31:09.265475",
     "exception": false,
     "start_time": "2023-02-28T08:31:08.987824",
     "status": "completed"
    },
    "ploomber": {
     "memory_usage": 153.40234375,
     "timestamp_end": 1677576277.560484,
     "timestamp_start": 1677576277.359591
    },
    "tags": []
   },
   "outputs": [],
   "source": [
    "def plot_data(ax=None):\n",
    "    if ax is None:\n",
    "        fig, ax = plt.subplots()\n",
    "    ax.plot(time, observation, \"o\", color='k', zorder=-10)\n",
    "    ax.set_xlabel(\"time\")\n",
    "    ax.set_ylabel(\"y\");\n",
    "    ax.set_xlim(min(time), max(time))\n",
    "\n",
    "plot_data()"
   ]
  },
  {
   "cell_type": "markdown",
   "id": "045591a1",
   "metadata": {
    "papermill": {
     "duration": 0.022052,
     "end_time": "2023-02-28T08:31:09.310612",
     "exception": false,
     "start_time": "2023-02-28T08:31:09.288560",
     "status": "completed"
    },
    "tags": []
   },
   "source": [
    "Lets assume:\n",
    "1) The observed data `d(t)` consists of the following: `d(t) = n(t) + s(t)`.\n",
    "2) The noise `n(t)` is `Gaussian white noise` (drawn from a Normal distribution).\n",
    "3) The signal `s(t)` is a straight-line signal. \n",
    "\n",
    "With these assumptions, we can start implementing our Bayesian inference pipeline."
   ]
  },
  {
   "cell_type": "markdown",
   "id": "ea73aea3",
   "metadata": {
    "ExecuteTime": {
     "end_time": "2023-02-14T04:45:38.581262Z",
     "start_time": "2023-02-14T04:45:38.576423Z"
    },
    "papermill": {
     "duration": 0.022115,
     "end_time": "2023-02-28T08:31:09.355685",
     "exception": false,
     "start_time": "2023-02-28T08:31:09.333570",
     "status": "completed"
    },
    "tags": []
   },
   "source": [
    "## Signal Model\n",
    "Assuming a straight line signal:"
   ]
  },
  {
   "cell_type": "code",
   "execution_count": 6,
   "id": "5c4751d6",
   "metadata": {
    "ExecuteTime": {
     "end_time": "2023-02-15T01:18:34.222926Z",
     "start_time": "2023-02-15T01:18:34.220312Z"
    },
    "execution": {
     "iopub.execute_input": "2023-02-28T08:31:09.404535Z",
     "iopub.status.busy": "2023-02-28T08:31:09.403681Z",
     "iopub.status.idle": "2023-02-28T08:31:09.408408Z",
     "shell.execute_reply": "2023-02-28T08:31:09.407561Z"
    },
    "papermill": {
     "duration": 0.032646,
     "end_time": "2023-02-28T08:31:09.411957",
     "exception": false,
     "start_time": "2023-02-28T08:31:09.379311",
     "status": "completed"
    },
    "ploomber": {
     "memory_usage": 153.40234375,
     "timestamp_end": 1677576277.565118,
     "timestamp_start": 1677576277.560916
    },
    "tags": []
   },
   "outputs": [],
   "source": [
    "def signal_model(time, m, c):\n",
    "    return time * m + c"
   ]
  },
  {
   "cell_type": "markdown",
   "id": "3e511463",
   "metadata": {
    "papermill": {
     "duration": 0.022229,
     "end_time": "2023-02-28T08:31:09.456896",
     "exception": false,
     "start_time": "2023-02-28T08:31:09.434667",
     "status": "completed"
    },
    "tags": []
   },
   "source": [
    "## Priors\n",
    "Now we can write down some priors on the parameters `m` and `c` of this model. \n",
    "This is what we think our parameters can potentially be.  \n",
    "\n"
   ]
  },
  {
   "cell_type": "code",
   "execution_count": 7,
   "id": "1c5e2656",
   "metadata": {
    "ExecuteTime": {
     "end_time": "2023-02-15T01:18:34.228432Z",
     "start_time": "2023-02-15T01:18:34.224999Z"
    },
    "execution": {
     "iopub.execute_input": "2023-02-28T08:31:09.505607Z",
     "iopub.status.busy": "2023-02-28T08:31:09.504995Z",
     "iopub.status.idle": "2023-02-28T08:31:09.510648Z",
     "shell.execute_reply": "2023-02-28T08:31:09.509570Z"
    },
    "papermill": {
     "duration": 0.033093,
     "end_time": "2023-02-28T08:31:09.513679",
     "exception": false,
     "start_time": "2023-02-28T08:31:09.480586",
     "status": "completed"
    },
    "ploomber": {
     "memory_usage": 153.40625,
     "timestamp_end": 1677576277.569121,
     "timestamp_start": 1677576277.565356
    },
    "tags": []
   },
   "outputs": [],
   "source": [
    "import bilby\n",
    "\n",
    "priors = bilby.core.prior.PriorDict(dict(\n",
    "    m=bilby.core.prior.TruncatedNormal(mu=0, sigma=1, minimum=0, maximum=3, name=\"m\"),\n",
    "    c=bilby.core.prior.Uniform(-5, 5, name=\"c\"),\n",
    "))"
   ]
  },
  {
   "cell_type": "markdown",
   "id": "0cf67879",
   "metadata": {
    "ExecuteTime": {
     "end_time": "2023-02-14T04:26:11.548881Z",
     "start_time": "2023-02-14T04:26:11.542184Z"
    },
    "papermill": {
     "duration": 0.022153,
     "end_time": "2023-02-28T08:31:09.558156",
     "exception": false,
     "start_time": "2023-02-28T08:31:09.536003",
     "status": "completed"
    },
    "tags": []
   },
   "source": [
    "To test our prior, lets draw some prior samples and print some samples:"
   ]
  },
  {
   "cell_type": "code",
   "execution_count": 8,
   "id": "bf41f4da",
   "metadata": {
    "ExecuteTime": {
     "end_time": "2023-02-15T01:18:34.240727Z",
     "start_time": "2023-02-15T01:18:34.230261Z"
    },
    "execution": {
     "iopub.execute_input": "2023-02-28T08:31:09.606011Z",
     "iopub.status.busy": "2023-02-28T08:31:09.605346Z",
     "iopub.status.idle": "2023-02-28T08:31:09.619692Z",
     "shell.execute_reply": "2023-02-28T08:31:09.618771Z"
    },
    "papermill": {
     "duration": 0.040893,
     "end_time": "2023-02-28T08:31:09.622297",
     "exception": false,
     "start_time": "2023-02-28T08:31:09.581404",
     "status": "completed"
    },
    "ploomber": {
     "memory_usage": 153.69140625,
     "timestamp_end": 1677576277.582408,
     "timestamp_start": 1677576277.569312
    },
    "tags": []
   },
   "outputs": [],
   "source": [
    "import pandas as pd\n",
    "pd.DataFrame(priors.sample(5))"
   ]
  },
  {
   "cell_type": "markdown",
   "id": "b926c896",
   "metadata": {
    "papermill": {
     "duration": 0.023705,
     "end_time": "2023-02-28T08:31:09.668737",
     "exception": false,
     "start_time": "2023-02-28T08:31:09.645032",
     "status": "completed"
    },
    "tags": []
   },
   "source": [
    "Lets plot some histograms of these samples in a `corner` plot:"
   ]
  },
  {
   "cell_type": "code",
   "execution_count": 9,
   "id": "d0cecdf9",
   "metadata": {
    "ExecuteTime": {
     "end_time": "2023-02-15T01:18:34.733372Z",
     "start_time": "2023-02-15T01:18:34.244515Z"
    },
    "execution": {
     "iopub.execute_input": "2023-02-28T08:31:09.717159Z",
     "iopub.status.busy": "2023-02-28T08:31:09.716748Z",
     "iopub.status.idle": "2023-02-28T08:31:10.107950Z",
     "shell.execute_reply": "2023-02-28T08:31:10.107047Z"
    },
    "papermill": {
     "duration": 0.41898,
     "end_time": "2023-02-28T08:31:10.110573",
     "exception": false,
     "start_time": "2023-02-28T08:31:09.691593",
     "status": "completed"
    },
    "ploomber": {
     "memory_usage": 155.9140625,
     "timestamp_end": 1677576277.909705,
     "timestamp_start": 1677576277.582618
    },
    "tags": []
   },
   "outputs": [],
   "source": [
    "from corner import corner\n",
    "fig = corner(\n",
    "    pd.DataFrame(priors.sample(10000)),\n",
    "    plot_datapoints=False, \n",
    "    plot_contours=False, plot_density=True,\n",
    "    color=\"tab:gray\",\n",
    "    labels=list(priors.keys()),\n",
    ")\n",
    "fig.suptitle(\"Prior Samples\");"
   ]
  },
  {
   "cell_type": "markdown",
   "id": "61c545fd",
   "metadata": {
    "papermill": {
     "duration": 0.022717,
     "end_time": "2023-02-28T08:31:10.157322",
     "exception": false,
     "start_time": "2023-02-28T08:31:10.134605",
     "status": "completed"
    },
    "tags": []
   },
   "source": [
    "Here each column/row represents one parameter. \n",
    "\n",
    "The plots along the upper diagonal show the 1D histograms of the parameters.\n",
    "In the above, these represent `pi(m)` and `pi(c)` -- the prior distributions for `m` and `c`. \n",
    "\n",
    "The plots on the inside of the corner show the 2D histograms for the intersecting parameters.\n",
    "Here, the 2D join distribution is `pi(m,c)`.\n",
    "\n",
    "\n",
    "At this point, lets test out our model and priors:"
   ]
  },
  {
   "cell_type": "code",
   "execution_count": 10,
   "id": "f71f592a",
   "metadata": {
    "ExecuteTime": {
     "end_time": "2023-02-15T01:18:35.046925Z",
     "start_time": "2023-02-15T01:18:34.736536Z"
    },
    "execution": {
     "iopub.execute_input": "2023-02-28T08:31:10.206357Z",
     "iopub.status.busy": "2023-02-28T08:31:10.205646Z",
     "iopub.status.idle": "2023-02-28T08:31:10.600486Z",
     "shell.execute_reply": "2023-02-28T08:31:10.599514Z"
    },
    "papermill": {
     "duration": 0.421889,
     "end_time": "2023-02-28T08:31:10.603041",
     "exception": false,
     "start_time": "2023-02-28T08:31:10.181152",
     "status": "completed"
    },
    "ploomber": {
     "memory_usage": 159.5546875,
     "timestamp_end": 1677576278.233366,
     "timestamp_start": 1677576277.910089
    },
    "tags": []
   },
   "outputs": [],
   "source": [
    "def plot_model_on_data(samples, plot_each_sample=False, color=\"tab:blue\", ax=None, label=\"model\"):\n",
    "    m, c = samples['m'], samples['c']\n",
    "    \n",
    "    ys = np.array([signal_model(time, mi, ci) for mi, ci in zip(m, c)]).T\n",
    "    \n",
    "    if ax is None:\n",
    "        fig, ax = plt.subplots()\n",
    "\n",
    "    y_low, y_mean, y_up = np.quantile(ys, [0.05, 0.5, 0.95], axis=1)\n",
    "    ax.plot(time, y_mean, color=color, label=f\"{label} mean\")\n",
    "    ax.fill_between(time, y_low, y_up, alpha=0.1, color=color, label=f\"{label} 90%\")\n",
    "\n",
    "    if plot_each_sample:\n",
    "        for y in ys.T:\n",
    "            ax.plot(time, y, color=color, alpha=0.1)\n",
    "        \n",
    "    plot_data(ax)\n",
    "    ax.legend(frameon=True, fontsize=12)\n",
    "    return ax.get_figure()\n",
    "\n",
    "\n",
    "    \n",
    "fig = plot_model_on_data(priors.sample(30), True, label=\"prior\")\n"
   ]
  },
  {
   "cell_type": "markdown",
   "id": "fffd713c",
   "metadata": {
    "papermill": {
     "duration": 0.024591,
     "end_time": "2023-02-28T08:31:10.651861",
     "exception": false,
     "start_time": "2023-02-28T08:31:10.627270",
     "status": "completed"
    },
    "tags": []
   },
   "source": [
    "Looks like the model can potentially fit the data! Lets try to use the Bayesian inference framework to help us get estimates on the model parameters. "
   ]
  },
  {
   "cell_type": "markdown",
   "id": "b2c8fc1e",
   "metadata": {
    "ExecuteTime": {
     "end_time": "2023-02-14T04:48:03.692300Z",
     "start_time": "2023-02-14T04:48:03.678095Z"
    },
    "papermill": {
     "duration": 0.025391,
     "end_time": "2023-02-28T08:31:10.701675",
     "exception": false,
     "start_time": "2023-02-28T08:31:10.676284",
     "status": "completed"
    },
    "tags": []
   },
   "source": [
    "## Likelihood\n",
    "\n",
    "Recall the assumption that `d(t) = n(t) + s(t)`, and that the noise is normally distributed. Using this, we can write:\n",
    "\n",
    "\\begin{align}\n",
    "n(t) &= s(t) - d(t)\\\\\n",
    "&= \\mathcal{N}(\\sigma=3, \\mu=0)\n",
    "\\end{align}\n",
    "\n",
    "[NOTE: we've hardcoded `sigma` here, but you could add in a prior on `sigma` as well]\n",
    "\n",
    "Hence, we can write out the signal-model likliood `L(data|m,c)` as:\n",
    "\n",
    "\\begin{align}\n",
    "\\mathcal{L}(\\rm{data}|m,c) = \\prod_j \\rm{Normal}_{\\rm{PDF}}(\\left[d - s_j\\right]; \\mu=0,\\sigma=3)\n",
    "\\end{align}\n",
    "\n",
    "This type of `Gaussian` likelihoods has already been coded up in `bilby`:"
   ]
  },
  {
   "cell_type": "code",
   "execution_count": 11,
   "id": "862d80e4",
   "metadata": {
    "ExecuteTime": {
     "end_time": "2023-02-15T01:18:35.051783Z",
     "start_time": "2023-02-15T01:18:35.049016Z"
    },
    "execution": {
     "iopub.execute_input": "2023-02-28T08:31:10.751703Z",
     "iopub.status.busy": "2023-02-28T08:31:10.751299Z",
     "iopub.status.idle": "2023-02-28T08:31:10.756063Z",
     "shell.execute_reply": "2023-02-28T08:31:10.755218Z"
    },
    "papermill": {
     "duration": 0.032949,
     "end_time": "2023-02-28T08:31:10.758455",
     "exception": false,
     "start_time": "2023-02-28T08:31:10.725506",
     "status": "completed"
    },
    "ploomber": {
     "memory_usage": 159.5625,
     "timestamp_end": 1677576278.237246,
     "timestamp_start": 1677576278.233696
    },
    "tags": []
   },
   "outputs": [],
   "source": [
    "likelihood = bilby.likelihood.GaussianLikelihood(time, observation, signal_model, sigma=3)"
   ]
  },
  {
   "cell_type": "markdown",
   "id": "91c63249",
   "metadata": {
    "papermill": {
     "duration": 0.024379,
     "end_time": "2023-02-28T08:31:10.807939",
     "exception": false,
     "start_time": "2023-02-28T08:31:10.783560",
     "status": "completed"
    },
    "tags": []
   },
   "source": [
    "Let's test if we can compute a likelihood and dont get a nan:"
   ]
  },
  {
   "cell_type": "code",
   "execution_count": 12,
   "id": "6d6bf413",
   "metadata": {
    "ExecuteTime": {
     "end_time": "2023-02-15T01:18:35.057084Z",
     "start_time": "2023-02-15T01:18:35.053693Z"
    },
    "execution": {
     "iopub.execute_input": "2023-02-28T08:31:10.858249Z",
     "iopub.status.busy": "2023-02-28T08:31:10.857842Z",
     "iopub.status.idle": "2023-02-28T08:31:10.865501Z",
     "shell.execute_reply": "2023-02-28T08:31:10.863905Z"
    },
    "papermill": {
     "duration": 0.035347,
     "end_time": "2023-02-28T08:31:10.868085",
     "exception": false,
     "start_time": "2023-02-28T08:31:10.832738",
     "status": "completed"
    },
    "ploomber": {
     "memory_usage": 159.57421875,
     "timestamp_end": 1677576278.241368,
     "timestamp_start": 1677576278.23751
    },
    "tags": []
   },
   "outputs": [],
   "source": [
    "# we need to provide the parameter to compute the likeliood for\n",
    "likelihood.parameters = dict(m=0, c=0)\n",
    "print(f\"Log Likelihood (data| {likelihood.parameters}) = {likelihood.log_likelihood():.2f}\")"
   ]
  },
  {
   "cell_type": "markdown",
   "id": "1c471584",
   "metadata": {
    "ExecuteTime": {
     "end_time": "2023-02-14T06:05:55.422733Z",
     "start_time": "2023-02-14T06:05:55.420032Z"
    },
    "papermill": {
     "duration": 0.02885,
     "end_time": "2023-02-28T08:31:10.921143",
     "exception": false,
     "start_time": "2023-02-28T08:31:10.892293",
     "status": "completed"
    },
    "tags": []
   },
   "source": [
    "## Brute force posterior computation\n",
    "\n",
    "We now have everything we need to compute our posterior! \n",
    "In the first pass, lets compute the posterior over a grid of `m` and `c` values:\n"
   ]
  },
  {
   "cell_type": "code",
   "execution_count": 13,
   "id": "52bbdfcd",
   "metadata": {
    "ExecuteTime": {
     "end_time": "2023-02-15T01:18:35.282752Z",
     "start_time": "2023-02-15T01:18:35.059496Z"
    },
    "execution": {
     "iopub.execute_input": "2023-02-28T08:31:10.974713Z",
     "iopub.status.busy": "2023-02-28T08:31:10.973950Z",
     "iopub.status.idle": "2023-02-28T08:31:11.215515Z",
     "shell.execute_reply": "2023-02-28T08:31:11.214464Z"
    },
    "papermill": {
     "duration": 0.271508,
     "end_time": "2023-02-28T08:31:11.218170",
     "exception": false,
     "start_time": "2023-02-28T08:31:10.946662",
     "status": "completed"
    },
    "ploomber": {
     "memory_usage": 161.85546875,
     "timestamp_end": 1677576278.42129,
     "timestamp_start": 1677576278.242053
    },
    "tags": [
     "hide-cell"
    ]
   },
   "outputs": [],
   "source": [
    "def get_grid_of_m_c(n_per_dim, prior):\n",
    "    assert \"m\" in prior and \"c\" in prior\n",
    "    samples = pd.DataFrame(prior.sample(10000))\n",
    "    m_vals = np.linspace(min(samples.m), max(samples.m), n_per_dim)\n",
    "    c_vals = np.linspace(min(samples.c), max(samples.c), n_per_dim)\n",
    "    m_grid, c_grid = np.meshgrid(m_vals, c_vals)\n",
    "    return pd.DataFrame(dict(m=m_grid.flatten(), c=c_grid.flatten()))\n",
    "\n",
    "\n",
    "def plot_grid(m_c_grid, c=\"tab:blue\", ax=None):\n",
    "    if ax is None:\n",
    "        fig, ax = plt.subplots(figsize=(3,3))\n",
    "    ax.scatter(m_c_grid.m, m_c_grid.c, c=c, s=12.5, marker='s',alpha=0.5)\n",
    "    ax.set_xlabel(\"m\");\n",
    "    ax.set_ylabel(\"c\");\n",
    "    return ax.figure\n",
    "    \n",
    "\n",
    "m_c_grid = get_grid_of_m_c(100, priors)\n",
    "fig = plot_grid(m_c_grid)\n"
   ]
  },
  {
   "cell_type": "markdown",
   "id": "98ac9ac5",
   "metadata": {
    "papermill": {
     "duration": 0.026877,
     "end_time": "2023-02-28T08:31:11.270526",
     "exception": false,
     "start_time": "2023-02-28T08:31:11.243649",
     "status": "completed"
    },
    "tags": []
   },
   "source": [
    "Computing the prior, likelhood and posterior at each grid-point:"
   ]
  },
  {
   "cell_type": "code",
   "execution_count": 14,
   "id": "b820e530",
   "metadata": {
    "ExecuteTime": {
     "end_time": "2023-02-15T01:18:37.198158Z",
     "start_time": "2023-02-15T01:18:35.284784Z"
    },
    "execution": {
     "iopub.execute_input": "2023-02-28T08:31:11.324732Z",
     "iopub.status.busy": "2023-02-28T08:31:11.324279Z",
     "iopub.status.idle": "2023-02-28T08:31:14.228947Z",
     "shell.execute_reply": "2023-02-28T08:31:14.227041Z"
    },
    "papermill": {
     "duration": 2.935435,
     "end_time": "2023-02-28T08:31:14.231967",
     "exception": false,
     "start_time": "2023-02-28T08:31:11.296532",
     "status": "completed"
    },
    "ploomber": {
     "memory_usage": 169.84375,
     "timestamp_end": 1677576280.500166,
     "timestamp_start": 1677576278.421626
    },
    "tags": [
     "hide-cell"
    ]
   },
   "outputs": [],
   "source": [
    "\n",
    "def run_brute_force_analysis(likelihood, prior, samples_list):\n",
    "    n = len(samples_list)\n",
    "    log_likelihoods = np.zeros(n)\n",
    "    log_priors = np.zeros(n)\n",
    "    log_posteriors = np.zeros(n) \n",
    "    log_evidence = 0 \n",
    "    for i in tqdm(range(n), desc=\"Brute force LnL computation\"):\n",
    "        likelihood.parameters = samples_list[i]\n",
    "        log_likelihoods[i]=likelihood.log_likelihood()\n",
    "        log_priors[i] = prior.ln_prob(samples_list[i])\n",
    "        log_posteriors[i] = log_priors[i] + log_likelihoods[i]\n",
    "    log_evidence = np.logaddexp.reduce(log_posteriors+log_priors)\n",
    "    \n",
    "    return dict(\n",
    "        samples=pd.DataFrame(samples_list),\n",
    "        log_evidence=log_evidence,\n",
    "        likelihood=np.exp(log_likelihoods),\n",
    "        prior=np.exp(log_priors),\n",
    "        posterior=np.exp(log_posteriors)\n",
    "    )\n",
    "\n",
    "\n",
    "def plot_grids_of_brute_result(res, xlims=None, log_vals=False):\n",
    "    fig, axes = plt.subplots(1,3, sharey=True, figsize=(7.5,3))\n",
    "    pi, post, like = res['prior'], res['posterior'], res['likelihood']\n",
    "    prefix = \"\"\n",
    "    if log_vals:\n",
    "        pi, post, like = np.log(pi), np.log(post), np.log(like)\n",
    "        prefix = \"log \"\n",
    "    axes[0].set_title(prefix+\"$\\pi(m,c)$\")\n",
    "    plot_grid(m_c_grid, c=pi, ax=axes[0])\n",
    "    axes[1].set_title(prefix+\"$L(data|m,c)$\")\n",
    "    plot_grid(m_c_grid, c=like, ax=axes[1])\n",
    "    axes[2].set_title(prefix+\"$p(m,c|data)$\")\n",
    "    plot_grid(m_c_grid, c=post, ax=axes[2])\n",
    "    if xlims is not None:\n",
    "        for ax in axes:\n",
    "            ax.set_xlim(*xlims)\n",
    "    fig.tight_layout()\n",
    "    return fig\n",
    "    \n",
    "brute_result = run_brute_force_analysis(likelihood, priors, m_c_grid.to_dict('records'))\n",
    "fig = plot_grids_of_brute_result(brute_result)\n",
    "print(f\"Brute force log evidence = {brute_result['log_evidence']}\")\n"
   ]
  },
  {
   "cell_type": "markdown",
   "id": "78594eaf",
   "metadata": {
    "papermill": {
     "duration": 0.026567,
     "end_time": "2023-02-28T08:31:14.284219",
     "exception": false,
     "start_time": "2023-02-28T08:31:14.257652",
     "status": "completed"
    },
    "tags": []
   },
   "source": [
    "Looks like the answer is around \n",
    "\\begin{align}\n",
    "0<m<1, 1 < c < -2\n",
    "\\end{align}"
   ]
  },
  {
   "cell_type": "markdown",
   "id": "0f835849",
   "metadata": {
    "papermill": {
     "duration": 0.025192,
     "end_time": "2023-02-28T08:31:14.334947",
     "exception": false,
     "start_time": "2023-02-28T08:31:14.309755",
     "status": "completed"
    },
    "tags": []
   },
   "source": [
    "We can even compute the marginal posteriors:\n",
    "\n",
    "\\begin{align}\n",
    "p(m|d)&= \\int_c p(m,c|d)\\ dc\\\\\n",
    "p(c|d)&= \\int_m p(m,c|d)\\ dm\n",
    "\\end{align}\n",
    "These will give us the estimated values for the model parameters"
   ]
  },
  {
   "cell_type": "code",
   "execution_count": 15,
   "id": "76913b7d",
   "metadata": {
    "ExecuteTime": {
     "end_time": "2023-02-15T01:18:37.578481Z",
     "start_time": "2023-02-15T01:18:37.199872Z"
    },
    "execution": {
     "iopub.execute_input": "2023-02-28T08:31:14.388328Z",
     "iopub.status.busy": "2023-02-28T08:31:14.387928Z",
     "iopub.status.idle": "2023-02-28T08:31:14.773672Z",
     "shell.execute_reply": "2023-02-28T08:31:14.772622Z"
    },
    "papermill": {
     "duration": 0.415938,
     "end_time": "2023-02-28T08:31:14.776268",
     "exception": false,
     "start_time": "2023-02-28T08:31:14.360330",
     "status": "completed"
    },
    "ploomber": {
     "memory_usage": 172.51953125,
     "timestamp_end": 1677576280.811969,
     "timestamp_start": 1677576280.500792
    },
    "tags": []
   },
   "outputs": [],
   "source": [
    "from corner.core import quantile\n",
    "\n",
    "def get_marginalised_posterior(parameter, res):\n",
    "    grid = res[\"samples\"].copy()\n",
    "    unique_values = np.unique(grid[parameter])\n",
    "    log_post = np.zeros(len(unique_values))\n",
    "    grid['log_post'] = np.log(res['posterior'])\n",
    "    for i, value in enumerate(unique_values):\n",
    "        subset = grid[grid[parameter] == value]\n",
    "        log_post[i] = np.logaddexp.reduce(subset[\"log_post\"])\n",
    "    return unique_values, np.exp(log_post)\n",
    "\n",
    "\n",
    "fig, axes = plt.subplots(1,2, figsize=(5,2))\n",
    "for ax, p in zip(axes, ['m', 'c']):\n",
    "    x, p_of_x = get_marginalised_posterior(p, brute_result)\n",
    "    ax.plot(x, p_of_x, color=\"tab:purple\")\n",
    "    low, mean, up = quantile(x, q=[0.05, 0.5, 0.95], weights=p_of_x)\n",
    "    low, up = mean-low, up-mean\n",
    "    title = r\"${{{0:.2f}}}_{{-{1:.2f}}}^{{+{2:.2f}}}$\".format(mean, low, up)\n",
    "    ax.set_yticks([])\n",
    "    ax.set_title(title)\n",
    "    ax.set_xlabel(p)"
   ]
  },
  {
   "cell_type": "markdown",
   "id": "54daf29c",
   "metadata": {
    "papermill": {
     "duration": 0.025499,
     "end_time": "2023-02-28T08:31:14.828414",
     "exception": false,
     "start_time": "2023-02-28T08:31:14.802915",
     "status": "completed"
    },
    "tags": []
   },
   "source": [
    "Lets also plot the posterior predictive check:"
   ]
  },
  {
   "cell_type": "code",
   "execution_count": 16,
   "id": "5be048c1",
   "metadata": {
    "ExecuteTime": {
     "end_time": "2023-02-15T01:18:37.791432Z",
     "start_time": "2023-02-15T01:18:37.580012Z"
    },
    "execution": {
     "iopub.execute_input": "2023-02-28T08:31:14.882101Z",
     "iopub.status.busy": "2023-02-28T08:31:14.881651Z",
     "iopub.status.idle": "2023-02-28T08:31:15.215367Z",
     "shell.execute_reply": "2023-02-28T08:31:15.213596Z"
    },
    "papermill": {
     "duration": 0.36456,
     "end_time": "2023-02-28T08:31:15.218173",
     "exception": false,
     "start_time": "2023-02-28T08:31:14.853613",
     "status": "completed"
    },
    "ploomber": {
     "memory_usage": 178.04296875,
     "timestamp_end": 1677576281.077022,
     "timestamp_start": 1677576280.812501
    },
    "tags": []
   },
   "outputs": [],
   "source": [
    "fig = plot_model_on_data(priors.sample(30), label=\"prior\")\n",
    "fig = plot_model_on_data(\n",
    "    m_c_grid.sample(30, weights=brute_result['posterior']),\n",
    "    color=\"tab:purple\", ax=fig.axes[0], label=\"posterior\"\n",
    ")\n"
   ]
  },
  {
   "cell_type": "markdown",
   "id": "37d318cf",
   "metadata": {
    "collapsed": false,
    "papermill": {
     "duration": 0.027206,
     "end_time": "2023-02-28T08:31:15.271431",
     "exception": false,
     "start_time": "2023-02-28T08:31:15.244225",
     "status": "completed"
    },
    "tags": []
   },
   "source": [
    "This time with just the posterior:"
   ]
  },
  {
   "cell_type": "code",
   "execution_count": 17,
   "id": "682a9966",
   "metadata": {
    "collapsed": false,
    "execution": {
     "iopub.execute_input": "2023-02-28T08:31:15.326411Z",
     "iopub.status.busy": "2023-02-28T08:31:15.325997Z",
     "iopub.status.idle": "2023-02-28T08:31:15.599467Z",
     "shell.execute_reply": "2023-02-28T08:31:15.598265Z"
    },
    "papermill": {
     "duration": 0.303355,
     "end_time": "2023-02-28T08:31:15.602134",
     "exception": false,
     "start_time": "2023-02-28T08:31:15.298779",
     "status": "completed"
    },
    "ploomber": {
     "memory_usage": 182.234375,
     "timestamp_end": 1677576281.305191,
     "timestamp_start": 1677576281.077418
    },
    "tags": []
   },
   "outputs": [],
   "source": [
    "fig = plot_model_on_data(\n",
    "    m_c_grid.sample(30, weights=brute_result['posterior']),\n",
    "    color=\"tab:purple\", label=\"posterior\"\n",
    ")"
   ]
  },
  {
   "cell_type": "markdown",
   "id": "0f06aad1",
   "metadata": {
    "ExecuteTime": {
     "end_time": "2023-02-14T08:18:52.145350Z",
     "start_time": "2023-02-14T08:18:52.141328Z"
    },
    "papermill": {
     "duration": 0.027172,
     "end_time": "2023-02-28T08:31:15.656649",
     "exception": false,
     "start_time": "2023-02-28T08:31:15.629477",
     "status": "completed"
    },
    "tags": []
   },
   "source": [
    "## Sampling from the posterior\n",
    "\n",
    "There are some drawbacks from brute-force posterior estimation. \n",
    "\n",
    "What happens when the number of parameters increases to 15?\n",
    "\n",
    "Drawing samples from the posterior and trying to estimate the likelihood may be a cheaper approach.\n",
    "\n",
    "Below is some code to demonstrate how we can use bilby + a `nested` sampler \"dynesty\" to do this:"
   ]
  },
  {
   "cell_type": "code",
   "execution_count": 18,
   "id": "38ce1281",
   "metadata": {
    "ExecuteTime": {
     "end_time": "2023-02-15T01:18:38.889618Z",
     "start_time": "2023-02-15T01:18:37.792964Z"
    },
    "execution": {
     "iopub.execute_input": "2023-02-28T08:31:15.714027Z",
     "iopub.status.busy": "2023-02-28T08:31:15.713581Z",
     "iopub.status.idle": "2023-02-28T08:31:18.970806Z",
     "shell.execute_reply": "2023-02-28T08:31:18.969805Z"
    },
    "papermill": {
     "duration": 3.288684,
     "end_time": "2023-02-28T08:31:18.973252",
     "exception": false,
     "start_time": "2023-02-28T08:31:15.684568",
     "status": "completed"
    },
    "ploomber": {
     "memory_usage": 217.359375,
     "timestamp_end": 1677576283.699862,
     "timestamp_start": 1677576281.305555
    },
    "tags": []
   },
   "outputs": [],
   "source": [
    "def sampler_run():\n",
    "    result = bilby.run_sampler(\n",
    "        likelihood=likelihood,\n",
    "        priors=priors,\n",
    "        sampler=\"dynesty\",\n",
    "        nlive=500,\n",
    "        sample=\"unif\",\n",
    "        outdir=OUTDIR,\n",
    "        label=\"linear_regression\",\n",
    "    )\n",
    "    return result\n",
    "\n",
    "sampler_result = sampler_run()"
   ]
  },
  {
   "cell_type": "markdown",
   "id": "75e882b7",
   "metadata": {
    "papermill": {
     "duration": 0.02743,
     "end_time": "2023-02-28T08:31:19.029890",
     "exception": false,
     "start_time": "2023-02-28T08:31:19.002460",
     "status": "completed"
    },
    "tags": []
   },
   "source": [
    "Now we can make some plots. \n",
    "\n",
    "First, lets plot the `corner` plot, and overplot the prior (in green) in the 1D distribution: "
   ]
  },
  {
   "cell_type": "code",
   "execution_count": 19,
   "id": "74b0e55f",
   "metadata": {
    "ExecuteTime": {
     "end_time": "2023-02-15T01:18:39.453700Z",
     "start_time": "2023-02-15T01:18:38.891827Z"
    },
    "execution": {
     "iopub.execute_input": "2023-02-28T08:31:19.088402Z",
     "iopub.status.busy": "2023-02-28T08:31:19.088003Z",
     "iopub.status.idle": "2023-02-28T08:31:19.564813Z",
     "shell.execute_reply": "2023-02-28T08:31:19.563407Z"
    },
    "papermill": {
     "duration": 0.510374,
     "end_time": "2023-02-28T08:31:19.568317",
     "exception": false,
     "start_time": "2023-02-28T08:31:19.057943",
     "status": "completed"
    },
    "ploomber": {
     "memory_usage": 222.3125,
     "timestamp_end": 1677576284.082172,
     "timestamp_start": 1677576283.700397
    },
    "tags": []
   },
   "outputs": [],
   "source": [
    "fig = sampler_result.plot_corner(priors=True, save=False)"
   ]
  },
  {
   "cell_type": "markdown",
   "id": "48bbe3da",
   "metadata": {
    "papermill": {
     "duration": 0.027932,
     "end_time": "2023-02-28T08:31:19.625947",
     "exception": false,
     "start_time": "2023-02-28T08:31:19.598015",
     "status": "completed"
    },
    "tags": []
   },
   "source": [
    "Now lets check how well we have done (comparing against the true value):"
   ]
  },
  {
   "cell_type": "code",
   "execution_count": 20,
   "id": "04cba2d3",
   "metadata": {
    "ExecuteTime": {
     "end_time": "2023-02-15T01:18:39.712761Z",
     "start_time": "2023-02-15T01:18:39.455783Z"
    },
    "execution": {
     "iopub.execute_input": "2023-02-28T08:31:19.685661Z",
     "iopub.status.busy": "2023-02-28T08:31:19.685200Z",
     "iopub.status.idle": "2023-02-28T08:31:19.989622Z",
     "shell.execute_reply": "2023-02-28T08:31:19.988701Z"
    },
    "papermill": {
     "duration": 0.337786,
     "end_time": "2023-02-28T08:31:19.992065",
     "exception": false,
     "start_time": "2023-02-28T08:31:19.654279",
     "status": "completed"
    },
    "ploomber": {
     "memory_usage": 228.125,
     "timestamp_end": 1677576284.332999,
     "timestamp_start": 1677576284.082507
    },
    "tags": []
   },
   "outputs": [],
   "source": [
    "truths = {'c': 0.2, 'm': 0.5, 'sigma': 3}\n",
    "\n",
    "fig = plot_model_on_data(sampler_result.posterior.sample(1000))\n",
    "fig.axes[0].plot(time, signal_model(time, m=truths['m'], c=truths['c']), color=\"tab:orange\", ls='--', label=\"True\")\n",
    "fig.axes[0].legend();\n"
   ]
  },
  {
   "cell_type": "markdown",
   "id": "63002ab0",
   "metadata": {
    "papermill": {
     "duration": 0.029513,
     "end_time": "2023-02-28T08:31:20.052739",
     "exception": false,
     "start_time": "2023-02-28T08:31:20.023226",
     "status": "completed"
    },
    "tags": []
   },
   "source": [
    "Lets finally compare the brute-force results and the nested-sampling results: "
   ]
  },
  {
   "cell_type": "code",
   "execution_count": 21,
   "id": "4b9ee5ed",
   "metadata": {
    "ExecuteTime": {
     "end_time": "2023-02-15T01:18:40.572762Z",
     "start_time": "2023-02-15T01:18:39.714252Z"
    },
    "execution": {
     "iopub.execute_input": "2023-02-28T08:31:20.114470Z",
     "iopub.status.busy": "2023-02-28T08:31:20.114008Z",
     "iopub.status.idle": "2023-02-28T08:31:20.951303Z",
     "shell.execute_reply": "2023-02-28T08:31:20.950352Z"
    },
    "papermill": {
     "duration": 0.870948,
     "end_time": "2023-02-28T08:31:20.954159",
     "exception": false,
     "start_time": "2023-02-28T08:31:20.083211",
     "status": "completed"
    },
    "ploomber": {
     "memory_usage": 228.52734375,
     "timestamp_end": 1677576285.026058,
     "timestamp_start": 1677576284.333368
    },
    "tags": [
     "hide-cell"
    ]
   },
   "outputs": [],
   "source": [
    "def overplot_sampler_and_brute_force(sampler_result, brute_result, truths):\n",
    "    truths = dict(m=truths[\"m\"], c=truths[\"c\"])\n",
    "    fig = sampler_result.plot_corner(parameters=truths, save=False)\n",
    "    # overplot the grid estimates\n",
    "    axes = fig.axes\n",
    "    \n",
    "    # add marginals \n",
    "    for p, axi in zip([\"m\", \"c\"],[0, 3]):\n",
    "        ax = axes[axi].twinx()\n",
    "        ax.set_yticks([])\n",
    "        x, p_of_x = get_marginalised_posterior(p, brute_result)\n",
    "        ax.plot(x, p_of_x, color=\"tab:purple\", alpha=0.9)\n",
    "        ax.set_ylim(0, 1.15 * np.max(p_of_x))\n",
    "        \n",
    "    \n",
    "    samples_grid = brute_result['samples']\n",
    "    n_cells = int(np.sqrt(len(samples_grid)))\n",
    "    m_grid = samples_grid['m'].values.reshape(n_cells, n_cells)\n",
    "    c_grid = samples_grid['c'].values.reshape(n_cells, n_cells)\n",
    "    posterior_grid = brute_result['posterior'].reshape(n_cells, n_cells)\n",
    "    axes[2].contourf(\n",
    "        m_grid, c_grid, posterior_grid, \n",
    "        levels=np.quantile(posterior_grid, [0.95, 0.99, 1]),\n",
    "        cmap=\"Purples\"\n",
    "    )\n",
    "    axes[1].plot([],[], label=\"Sampler\", color=\"tab:blue\")\n",
    "    axes[1].plot([],[], label=\"Brute-Force\", color=\"tab:purple\")\n",
    "    axes[1].plot([],[], label=\"True\", color=\"tab:orange\")\n",
    "    axes[1].legend(frameon=False, loc='upper right')\n",
    "    print(f\"Brute force ln_evidence: {brute_result['log_evidence']}\")\n",
    "    print(f\"Sampler ln_evidence: {sampler_result.log_evidence}\")\n",
    "\n",
    "\n",
    "overplot_sampler_and_brute_force(sampler_result, brute_result, truths)"
   ]
  },
  {
   "cell_type": "markdown",
   "id": "642e744a",
   "metadata": {
    "papermill": {
     "duration": 0.031997,
     "end_time": "2023-02-28T08:31:21.018710",
     "exception": false,
     "start_time": "2023-02-28T08:31:20.986713",
     "status": "completed"
    },
    "tags": []
   },
   "source": [
    "Both sets of results match up quite well! Even the log-evidences are comparable. \n",
    "\n",
    "Lets move on to GW signals! "
   ]
  },
  {
   "cell_type": "markdown",
   "id": "320bf621",
   "metadata": {
    "papermill": {
     "duration": 0.032297,
     "end_time": "2023-02-28T08:31:21.082813",
     "exception": false,
     "start_time": "2023-02-28T08:31:21.050516",
     "status": "completed"
    },
    "tags": []
   },
   "source": [
    "# CBC GW  Signal Model\n",
    "\n",
    "The GW from compact binary coalescence (CBC) systems can be modeled using the following parameters:\n",
    "\n",
    "- 2 mass parameters (eg m1, m2)\n",
    "- 6 spin parameters (eg s1x, s1y, s1z, ...)\n",
    "- 2 tidal deformation parameters (for neutron stars, lambda1, lambda2)\n",
    "- 2 orbital eccentricity parameters (e, arg of periastron) \n",
    "- 7 extrinsic parameters (distance, sky-loc, timing, phase)\n",
    "\n",
    "\n",
    "Some of these are shown here:\n",
    "\n",
    "<div>\n",
    "<img src=\"https://gcdnb.pbrd.co/images/EfwMgftuS4L5.png?o=1\" width=\"350\"/>\n",
    "</div>\n",
    "\n",
    "\n",
    "\n",
    "Additionally, there are quite a few re-parameterisations of these. \n",
    "\n",
    "For example, instead of the component masses $m_1, m_2$, one could also use the \n",
    "- `mass_ratio`: `q=m_2/m_1` where `m_1>m_2`, and \n",
    "- `chirp_mass`: \n",
    "\\begin{align}\n",
    "\\mathcal{M} = \\frac{(m_1 m_2)^{3/5}}{(m_1 + m_2)^{1/5}}\n",
    "\\end{align}\n",
    "\n",
    "Similarly, we can use parameterize the dimensionless spins with the following 6 parameters:\n",
    "- `chi_i` or $a_i$ : the spin magnitude (`0<a_i<1`) \n",
    "- `theta_i` or `tilt_i`: the angle of the component binary wrt the `z` axis (along the orbital axis)\n",
    "- `phi_12`: the difference between the component spins projected on the `xy` plane (along the orbital plane)\n",
    "-  `theta_jl`: the angle between the orbital angular momentum `L` vector and the total angular momentum vector `J`. \n"
   ]
  },
  {
   "cell_type": "markdown",
   "id": "bc75fe42",
   "metadata": {
    "papermill": {
     "duration": 0.033005,
     "end_time": "2023-02-28T08:31:21.148680",
     "exception": false,
     "start_time": "2023-02-28T08:31:21.115675",
     "status": "completed"
    },
    "tags": []
   },
   "source": [
    "\n",
    "Lets go over all the parameters in more detail:\n",
    "\n",
    "\n",
    "````{tab} Intrinsic parameters\n",
    "\n",
    "**INTRINSIC PARAMETERS**\n",
    "\n",
    "* Mass: 2D\n",
    "  - Usually uniform in two mass parameters\n",
    "  - Component masses widely used (`m_1, m_2`)\n",
    "  - \"Chirp\" mass and mass ratio a more convenient basis\n",
    "  - Usually specified in the \"detector-frame\", redshifted relative to true \"source-frame\" mass\n",
    "* Dimensionless Spin: 6D\n",
    "  - Fully precessing (see animation)\n",
    "    - usually uniform in magnitude and isotropic in orientation\n",
    "  - Only spin aligned with orbital angular momentum - set planar spin components to zero\n",
    "    - same prior on aligned spin as in the precessing case\n",
    "    - uniform in aligned spin\n",
    "  - Zero spin\n",
    "    - all spin components are zero\n",
    "    - smaller space to sample\n",
    "* Orbital eccentricity: 1D/2D \n",
    "  - Often ignored (eccentricity and argument of periastron)\n",
    "* Matter effects (for neutron stars): 2D\n",
    "  - Two tidal deformability parameters `Lambda_i`\n",
    "  - Parameters describing the neutron star equation of state (EoS)\n",
    "    - Variable number\n",
    "    - Zero-dimensional for fixed equation of state\n",
    "    \n",
    "````\n",
    "````{tab} Extrinsic parameters \n",
    "\n",
    "**EXTRINSIC PARAMETERS**\n",
    "\n",
    "* Location: 3D\n",
    "  - ra, dec, distance\n",
    "  - Usually isotropic over the sky\n",
    "  - Distance prior uniform in volume\n",
    "    - Should include cosmological effects\n",
    "  - Use host galaxy location, e.g., GW170817, S190521g(?)\n",
    "* Orientation: 4D\n",
    "  - Three Euler angles (phase, inclination, polarisation)\n",
    "    - Assumed to be distributed isotropically\n",
    "* Merger time\n",
    "    - Uniform based on expected uncertainty in trigger time\n",
    "    - Typically ~ 0.1s\n",
    "````"
   ]
  },
  {
   "cell_type": "markdown",
   "id": "716ac741",
   "metadata": {
    "papermill": {
     "duration": 0.033487,
     "end_time": "2023-02-28T08:31:21.214154",
     "exception": false,
     "start_time": "2023-02-28T08:31:21.180667",
     "status": "completed"
    },
    "tags": []
   },
   "source": [
    "Note: increasing the spin in the x-y components can lead to precession.\n",
    "\n",
    "\n",
    "<div>\n",
    "<img src=\"https://media4.giphy.com/media/NF76iRgEerkx0qrsD0/giphy.gif?cid=790b76113d85f36207d50f4d1f42feead29a3c4cb8f2f1a6&rid=giphy.gif&ct=g\" width=\"350\"/>\n",
    "</div>\n",
    "\n",
    "\n",
    "Such a highly precessing system may be found in globular clusters/AGNs. "
   ]
  },
  {
   "cell_type": "markdown",
   "id": "b3d0206c",
   "metadata": {
    "papermill": {
     "duration": 0.031237,
     "end_time": "2023-02-28T08:31:21.278202",
     "exception": false,
     "start_time": "2023-02-28T08:31:21.246965",
     "status": "completed"
    },
    "tags": []
   },
   "source": [
    "\n",
    "Lets plot our own waveform:\n"
   ]
  },
  {
   "cell_type": "code",
   "execution_count": 22,
   "id": "afc698e2",
   "metadata": {
    "ExecuteTime": {
     "end_time": "2023-02-15T01:18:40.596901Z",
     "start_time": "2023-02-15T01:18:40.574608Z"
    },
    "execution": {
     "iopub.execute_input": "2023-02-28T08:31:21.342557Z",
     "iopub.status.busy": "2023-02-28T08:31:21.341914Z",
     "iopub.status.idle": "2023-02-28T08:31:21.360239Z",
     "shell.execute_reply": "2023-02-28T08:31:21.359126Z"
    },
    "papermill": {
     "duration": 0.053942,
     "end_time": "2023-02-28T08:31:21.363611",
     "exception": false,
     "start_time": "2023-02-28T08:31:21.309669",
     "status": "completed"
    },
    "ploomber": {
     "memory_usage": 228.61328125,
     "timestamp_end": 1677576285.038448,
     "timestamp_start": 1677576285.026671
    },
    "tags": [
     "hide-cell"
    ]
   },
   "outputs": [],
   "source": [
    "import bilby\n",
    "from bilby.gw.conversion import chirp_mass_and_mass_ratio_to_component_masses\n",
    "import numpy as np\n",
    "import logging\n",
    "\n",
    "bilby_logger = logging.getLogger(\"bilby\")\n",
    "bilby_logger.setLevel(logging.ERROR)\n",
    "\n",
    "def make_waveform_generator(approximant=\"IMRPhenomPv2\", duration=4, sampling_frequency=1024,\n",
    "                            frequency_domain_source_model=bilby.gw.source.lal_binary_black_hole, ):\n",
    "    \"\"\"Create a waveform generator\"\"\"\n",
    "    generator_args = dict(\n",
    "        duration=duration,\n",
    "        sampling_frequency=sampling_frequency,\n",
    "        frequency_domain_source_model=frequency_domain_source_model,\n",
    "        waveform_arguments=dict(\n",
    "            waveform_approximant=approximant,\n",
    "            reference_frequency=20.,\n",
    "        )\n",
    "    )\n",
    "    return bilby.gw.WaveformGenerator(**generator_args)\n",
    "\n",
    "\n",
    "def compute_waveform(waveform_generator, signal_parameters={}):\n",
    "    \"\"\"Compute the waveform\"\"\"\n",
    "    parameters = dict(\n",
    "        # two mass parameters\n",
    "        mass_1=30, mass_2=30,\n",
    "        # 6 spin parameters\n",
    "        a_1=0.0, a_2=0.0, tilt_1=0, tilt_2=0, phi_jl=0, phi_12=0,\n",
    "        # 2 tidal deformation parameters (for NS)\n",
    "        lambda_1=0, lambda_2=0,\n",
    "        # 7 extrinsic parameters (skyloc, timing, phase, etc)\n",
    "        luminosity_distance=1000,\n",
    "        theta_jn=0, ra=0, dec=0,\n",
    "        psi=0, phase=0,\n",
    "        geocent_time=0,\n",
    "    )\n",
    "    parameters.update(signal_parameters)\n",
    "    bilby_logger.info(f\"computing waveform with parameters: {parameters}\")\n",
    "    h = waveform_generator.time_domain_strain(parameters)\n",
    "    t = waveform_generator.time_array\n",
    "    approximant = waveform_generator.waveform_arguments[\"waveform_approximant\"]\n",
    "    delta_t = 1. / waveform_generator.sampling_frequency\n",
    "\n",
    "    if \"IMR\" in approximant:\n",
    "        # IMR templates the zero of time is at max amplitude (merger)\n",
    "        # thus we roll the waveform back a bit\n",
    "        for pol in h.keys():\n",
    "            h[pol] = np.roll(h[pol], - len(h[pol]) // 3)\n",
    "\n",
    "    h_phase = np.unwrap(np.arctan2(h['cross'], h['plus']))\n",
    "    h_freq = np.diff(h_phase) / (2 * np.pi * delta_t)\n",
    "    # nan the freqs after the merger\n",
    "    h_freq[np.argmax(h_freq):] = np.nan\n",
    "    return h, h_freq, t\n",
    "\n",
    "\n",
    "def plot_waveform(waveform_generator, signal_parameters={}, fig=None, polarisation='plus', label=\"\", color=\"tab:blue\"):\n",
    "    h, h_freq, h_time = compute_waveform(waveform_generator, signal_parameters)\n",
    "    if fig is None:\n",
    "        fig, ax = plt.subplots(1, 1, figsize=(10, 3))\n",
    "    else:\n",
    "        ax = fig.axes[0]\n",
    "    if polarisation =='both':\n",
    "        ax.plot(h_time, h['plus'], alpha=0.4, label='plus')\n",
    "        ax.plot(h_time, h['cross'], alpha=0.4, label='cross', ls=\"--\")\n",
    "        ax.legend(frameon=False)\n",
    "    else:\n",
    "        ax.plot(h_time, h[polarisation], alpha=0.5, label=label, color=color)\n",
    "    ax.set_xlabel(\"Time [s]\")\n",
    "    ax.set_ylabel(\"Strain\")\n",
    "    ax.set_xlim(min(h_time), max(h_time))\n",
    "    # remove whitespace between subplots\n",
    "    fig.subplots_adjust(hspace=0)\n",
    "    return fig\n",
    "\n",
    "\n"
   ]
  },
  {
   "cell_type": "code",
   "execution_count": 23,
   "id": "adafa09c",
   "metadata": {
    "ExecuteTime": {
     "end_time": "2023-02-15T01:18:40.663306Z",
     "start_time": "2023-02-15T01:18:31.613Z"
    },
    "execution": {
     "iopub.execute_input": "2023-02-28T08:31:21.424571Z",
     "iopub.status.busy": "2023-02-28T08:31:21.423910Z",
     "iopub.status.idle": "2023-02-28T08:31:21.815543Z",
     "shell.execute_reply": "2023-02-28T08:31:21.814519Z"
    },
    "papermill": {
     "duration": 0.424978,
     "end_time": "2023-02-28T08:31:21.818088",
     "exception": false,
     "start_time": "2023-02-28T08:31:21.393110",
     "status": "completed"
    },
    "ploomber": {
     "memory_usage": 235.78125,
     "timestamp_end": 1677576285.371122,
     "timestamp_start": 1677576285.038679
    },
    "tags": []
   },
   "outputs": [],
   "source": [
    "waveform_generator = make_waveform_generator(approximant=\"IMRPhenomPv2\")\n",
    "bilby_logger.setLevel(logging.DEBUG)\n",
    "fig = plot_waveform(waveform_generator, dict(mass_1=20., mass_2=25., psi=0.5), polarisation='both')"
   ]
  },
  {
   "cell_type": "markdown",
   "id": "427a0468",
   "metadata": {
    "papermill": {
     "duration": 0.031838,
     "end_time": "2023-02-28T08:31:21.883161",
     "exception": false,
     "start_time": "2023-02-28T08:31:21.851323",
     "status": "completed"
    },
    "tags": []
   },
   "source": [
    "Q: What happens if we increase chirp-mass?"
   ]
  },
  {
   "cell_type": "code",
   "execution_count": 24,
   "id": "39c934e5",
   "metadata": {
    "ExecuteTime": {
     "end_time": "2023-02-15T01:18:40.665357Z",
     "start_time": "2023-02-15T01:18:31.617Z"
    },
    "execution": {
     "iopub.execute_input": "2023-02-28T08:31:21.949548Z",
     "iopub.status.busy": "2023-02-28T08:31:21.949158Z",
     "iopub.status.idle": "2023-02-28T08:31:22.325882Z",
     "shell.execute_reply": "2023-02-28T08:31:22.324893Z"
    },
    "papermill": {
     "duration": 0.41331,
     "end_time": "2023-02-28T08:31:22.328797",
     "exception": false,
     "start_time": "2023-02-28T08:31:21.915487",
     "status": "completed"
    },
    "ploomber": {
     "memory_usage": 247.0,
     "timestamp_end": 1677576285.685793,
     "timestamp_start": 1677576285.371631
    },
    "tags": []
   },
   "outputs": [],
   "source": [
    "bilby_logger.setLevel(logging.ERROR) # turn off logging\n",
    "for mc in np.linspace(20, 60, 3):\n",
    "    m1, m2 = chirp_mass_and_mass_ratio_to_component_masses(mc, 1)\n",
    "    signal_parameters = dict(mass_1=m1, mass_2=m2)\n",
    "    fig = plot_waveform(waveform_generator, signal_parameters, label=r\"$\\mathcal{M} = \"+ f\"{int(mc)}\" + \"M_{\\odot}$\")\n",
    "    fig.axes[0].axis('off') \n",
    "    fig.axes[0].legend(frameon=False)"
   ]
  },
  {
   "cell_type": "markdown",
   "id": "7deab2cb",
   "metadata": {
    "ExecuteTime": {
     "end_time": "2023-02-14T12:17:21.221268Z",
     "start_time": "2023-02-14T12:17:21.214509Z"
    },
    "papermill": {
     "duration": 0.033079,
     "end_time": "2023-02-28T08:31:22.396858",
     "exception": false,
     "start_time": "2023-02-28T08:31:22.363779",
     "status": "completed"
    },
    "tags": []
   },
   "source": [
    "Playing around with some interactive plots can also help build some intuition:"
   ]
  },
  {
   "cell_type": "code",
   "execution_count": 25,
   "id": "6f56e2f2",
   "metadata": {
    "ExecuteTime": {
     "end_time": "2023-02-15T01:18:40.667221Z",
     "start_time": "2023-02-15T01:18:31.621Z"
    },
    "execution": {
     "iopub.execute_input": "2023-02-28T08:31:22.466013Z",
     "iopub.status.busy": "2023-02-28T08:31:22.465309Z",
     "iopub.status.idle": "2023-02-28T08:31:22.472507Z",
     "shell.execute_reply": "2023-02-28T08:31:22.471640Z"
    },
    "papermill": {
     "duration": 0.045494,
     "end_time": "2023-02-28T08:31:22.474951",
     "exception": false,
     "start_time": "2023-02-28T08:31:22.429457",
     "status": "completed"
    },
    "ploomber": {
     "memory_usage": 248.32421875,
     "timestamp_end": 1677576285.752128,
     "timestamp_start": 1677576285.686179
    },
    "tags": []
   },
   "outputs": [],
   "source": [
    "from ipywidgets import interact\n",
    "\n",
    "# @interact(a_1=(0.01, 1.0, 0.1)) # uncomment to enable interactive plot\n",
    "def interact_a1(a_1=0.5):\n",
    "    fig = plot_waveform(waveform_generator, dict(a_1=0.01, a_2=1), label=f\"a_1=0.01\", color=\"tab:red\")\n",
    "    fig = plot_waveform(waveform_generator, dict(a_1=a_1, a_2=1), fig=fig, label=f\"a_1={a_1:.2f}\", color=\"tab:blue\")\n",
    "    fig.axes[0].axis('off') \n",
    "    fig.axes[0].legend(frameon=False)\n",
    "    fig.axes[0].set_xlim(1.2, 2.8)\n",
    "    "
   ]
  },
  {
   "cell_type": "code",
   "execution_count": 26,
   "id": "3334f611",
   "metadata": {
    "ExecuteTime": {
     "end_time": "2023-02-15T01:18:40.669262Z",
     "start_time": "2023-02-15T01:18:31.624Z"
    },
    "execution": {
     "iopub.execute_input": "2023-02-28T08:31:22.543952Z",
     "iopub.status.busy": "2023-02-28T08:31:22.543295Z",
     "iopub.status.idle": "2023-02-28T08:31:22.550544Z",
     "shell.execute_reply": "2023-02-28T08:31:22.549441Z"
    },
    "papermill": {
     "duration": 0.044633,
     "end_time": "2023-02-28T08:31:22.553078",
     "exception": false,
     "start_time": "2023-02-28T08:31:22.508445",
     "status": "completed"
    },
    "ploomber": {
     "memory_usage": 248.33984375,
     "timestamp_end": 1677576285.757373,
     "timestamp_start": 1677576285.752336
    },
    "tags": []
   },
   "outputs": [],
   "source": [
    "\n",
    "#@interact(dist=(1000, 10000, 500)) # uncomment to enable interactive plot\n",
    "def interact_dist(dist=2000):\n",
    "    fig = plot_waveform(waveform_generator, dict(luminosity_distance=1000), label=f\"d=1000 Mpc\", color=\"tab:red\")\n",
    "    fig = plot_waveform(waveform_generator, dict(luminosity_distance=dist), fig=fig, label=f\"d={dist} Mpc\", color=\"tab:blue\")\n",
    "    fig.axes[0].legend(frameon=False)\n",
    "    fig.axes[0].set_ylim(-7e-22,7e-22)\n",
    "    \n",
    "\n"
   ]
  },
  {
   "cell_type": "markdown",
   "id": "4d446df6",
   "metadata": {
    "papermill": {
     "duration": 0.033188,
     "end_time": "2023-02-28T08:31:22.619261",
     "exception": false,
     "start_time": "2023-02-28T08:31:22.586073",
     "status": "completed"
    },
    "tags": []
   },
   "source": [
    "# CBC Parameter Estimation\n",
    "\n",
    "Finally, we get to actual parameter estimation for gravitational waves! \n",
    "\n",
    "## Simulate a signal \n",
    "\n",
    "We start by first simulating a signal (using the same code as the previous section for waveform generation)"
   ]
  },
  {
   "cell_type": "code",
   "execution_count": 27,
   "id": "e869e69f",
   "metadata": {
    "ExecuteTime": {
     "end_time": "2023-02-15T01:18:40.671433Z",
     "start_time": "2023-02-15T01:18:31.627Z"
    },
    "execution": {
     "iopub.execute_input": "2023-02-28T08:31:22.686988Z",
     "iopub.status.busy": "2023-02-28T08:31:22.686582Z",
     "iopub.status.idle": "2023-02-28T08:31:22.698584Z",
     "shell.execute_reply": "2023-02-28T08:31:22.697362Z"
    },
    "papermill": {
     "duration": 0.049046,
     "end_time": "2023-02-28T08:31:22.701412",
     "exception": false,
     "start_time": "2023-02-28T08:31:22.652366",
     "status": "completed"
    },
    "ploomber": {
     "memory_usage": 248.3671875,
     "timestamp_end": 1677576285.764211,
     "timestamp_start": 1677576285.75763
    },
    "tags": []
   },
   "outputs": [],
   "source": [
    "import bilby\n",
    "import numpy as np\n",
    "import logging\n",
    "\n",
    "bilby_logger = logging.getLogger(\"bilby\")\n",
    "bilby_logger.setLevel(logging.INFO)\n",
    "\n",
    "# Simulate signal\n",
    "duration, sampling_freq, min_freq = 4, 1024., 20\n",
    "injection_parameters = dict(\n",
    "    mass_1=36.0, mass_2=29.0,  # 2 mass parameters\n",
    "    a_1=0.1, a_2=0.1, tilt_1=0.0, tilt_2=0.0, phi_12=0.0, phi_jl=0.0,  # 6 spin parameters\n",
    "    ra=1.375, dec=-1.2108, luminosity_distance=2000.0, theta_jn=0.0,  # 7 extrinsic parameters\n",
    "    psi=2.659, phase=1.3,\n",
    "    geocent_time=1126259642.413,\n",
    ")\n",
    "inj_m1, inj_m2 = injection_parameters['mass_1'], injection_parameters['mass_2']\n",
    "inj_chirp_mass = bilby.gw.conversion.component_masses_to_chirp_mass(inj_m1, inj_m2)\n",
    "inj_q = bilby.gw.conversion.component_masses_to_mass_ratio(inj_m1, inj_m2)\n",
    "\n",
    "waveform_generator = bilby.gw.WaveformGenerator(\n",
    "    duration=duration,\n",
    "    sampling_frequency=sampling_freq,\n",
    "    frequency_domain_source_model=bilby.gw.source.lal_binary_black_hole,\n",
    "    parameter_conversion=bilby.gw.conversion.convert_to_lal_binary_black_hole_parameters,\n",
    "    waveform_arguments=dict(\n",
    "        waveform_approximant=\"IMRPhenomD\",\n",
    "        reference_frequency=20.0,\n",
    "        minimum_frequency=min_freq,\n",
    "    )\n",
    ")\n"
   ]
  },
  {
   "cell_type": "code",
   "execution_count": 28,
   "id": "7f4e0087",
   "metadata": {
    "ExecuteTime": {
     "end_time": "2023-02-15T01:18:40.672952Z",
     "start_time": "2023-02-15T01:18:31.630Z"
    },
    "execution": {
     "iopub.execute_input": "2023-02-28T08:31:22.772304Z",
     "iopub.status.busy": "2023-02-28T08:31:22.771684Z",
     "iopub.status.idle": "2023-02-28T08:31:23.049802Z",
     "shell.execute_reply": "2023-02-28T08:31:23.048850Z"
    },
    "papermill": {
     "duration": 0.316376,
     "end_time": "2023-02-28T08:31:23.052511",
     "exception": false,
     "start_time": "2023-02-28T08:31:22.736135",
     "status": "completed"
    },
    "ploomber": {
     "memory_usage": 253.61328125,
     "timestamp_end": 1677576285.979411,
     "timestamp_start": 1677576285.76444
    },
    "tags": []
   },
   "outputs": [],
   "source": [
    "print(\"This is the signal we will inject into the detector noise\")\n",
    "fig = plot_waveform(waveform_generator, injection_parameters)"
   ]
  },
  {
   "cell_type": "markdown",
   "id": "974c6645",
   "metadata": {
    "papermill": {
     "duration": 0.034091,
     "end_time": "2023-02-28T08:31:23.121918",
     "exception": false,
     "start_time": "2023-02-28T08:31:23.087827",
     "status": "completed"
    },
    "tags": []
   },
   "source": [
    "## Inject the signal into an interferometer's data stream\n",
    "\n",
    "We can now simulate some detector noise and inject this signal into the detector-noise"
   ]
  },
  {
   "cell_type": "code",
   "execution_count": 29,
   "id": "501c4617",
   "metadata": {
    "ExecuteTime": {
     "end_time": "2023-02-15T01:18:40.674271Z",
     "start_time": "2023-02-15T01:18:31.634Z"
    },
    "execution": {
     "iopub.execute_input": "2023-02-28T08:31:23.192504Z",
     "iopub.status.busy": "2023-02-28T08:31:23.192132Z",
     "iopub.status.idle": "2023-02-28T08:31:24.140947Z",
     "shell.execute_reply": "2023-02-28T08:31:24.140120Z"
    },
    "lines_to_end_of_cell_marker": 2,
    "papermill": {
     "duration": 0.986911,
     "end_time": "2023-02-28T08:31:24.143550",
     "exception": false,
     "start_time": "2023-02-28T08:31:23.156639",
     "status": "completed"
    },
    "ploomber": {
     "memory_usage": 267.4453125,
     "timestamp_end": 1677576286.739782,
     "timestamp_start": 1677576285.979998
    },
    "tags": []
   },
   "outputs": [],
   "source": [
    "# Inject the signal into 1 detectors LIGO-Hanford (H1) at design sensitivity\n",
    "ifos = bilby.gw.detector.InterferometerList([\"H1\"])\n",
    "ifos.set_strain_data_from_power_spectral_densities(\n",
    "    sampling_frequency=sampling_freq,\n",
    "    duration=duration,\n",
    "    start_time=injection_parameters[\"geocent_time\"] - 2,\n",
    ")\n",
    "ifos.inject_signal(\n",
    "    waveform_generator=waveform_generator, parameters=injection_parameters\n",
    ")\n",
    "\n",
    "for interferometer in ifos:\n",
    "    analysis_data = abs(interferometer.frequency_domain_strain)\n",
    "    fig = plt.figure()\n",
    "    plt.loglog(interferometer.frequency_array, analysis_data, label=\"Data\", color=\"tab:orange\", alpha=0.25)\n",
    "    plt.loglog(interferometer.frequency_array, abs(interferometer.amplitude_spectral_density_array),\n",
    "               label=\"ASD (estimated noise)\", color=\"tab:orange\")\n",
    "    plt.xlim(interferometer.minimum_frequency, interferometer.maximum_frequency)\n",
    "    plt.xlabel(\"Frequency [Hz]\")\n",
    "    plt.ylabel(r'Strain [strain/$\\sqrt{\\rm Hz}$]')\n",
    "    plt.legend(frameon=False)"
   ]
  },
  {
   "cell_type": "markdown",
   "id": "1c280f87",
   "metadata": {
    "ExecuteTime": {
     "end_time": "2023-02-14T13:11:35.080704Z",
     "start_time": "2023-02-14T13:11:35.072612Z"
    },
    "papermill": {
     "duration": 0.036148,
     "end_time": "2023-02-28T08:31:24.218262",
     "exception": false,
     "start_time": "2023-02-28T08:31:24.182114",
     "status": "completed"
    },
    "tags": []
   },
   "source": [
    "### Notes about noise:\n",
    "\n",
    "- Lots of short duration glitches\n",
    "- The main contribution to LIGO/Virgo/KAGRA data is coloured Gaussian noise.\n",
    "- Constant frequency \"lines\"\n",
    "\n",
    "\n",
    "The Gaussian noise is described by the noise amplitude (power) spectral density, ASD (PSD).\n",
    "\n",
    "Most conveniently described in the frequency domain using a [circularly-symmetric complex normal distribution](https://en.wikipedia.org/wiki/Complex_normal_distribution#Circularly-symmetric_normal_distribution).\n",
    "\n",
    "\n",
    "#### Power/Ampitude-spectral-density generation (PSD/ASD)\n",
    "- Average over data (normally do this)\n",
    "  - Divide a long chunk of data and average the power in each chunk\n",
    "  - Assumes the PSD does not vary with time\n",
    "  - Assumes data are Gaussian over the full time stretch\n",
    "  - Has well defined statistical uncertainty\n",
    "- Fit a parameterised model to the data (eg using instrumental info from Dan Brown's talk)\n",
    "  - E.g., `BayesLine`\n",
    "  - Describing the PSD requires lots of parameters\n",
    "  - Estimating all these parameters is difficult and computationally expensive\n",
    "  - Especially expensive marginalise over the uncertainty in the model while fitting CBC signal models\n",
    "  \n",
    "#### Glitches\n",
    "- Short term, terrestrial, non-Gaussian transients\n",
    "- Can bias parameter estimation if overlapping signal\n",
    "- Can bias PSD estimation\n",
    "To mitigate:\n",
    "\n",
    "- Zero out data containing glitch, \"gating\"\n",
    "  - Also potentially removes signal\n",
    "  - Can bias PSD estimation if care is not taken\n",
    "- Fit a parameterised model to remove the glitch\n",
    "  - E.g., `BayesWave`\n",
    "  - Describing the PSD requires lots of parameters\n",
    "  - Estimating all these parameters is difficult and computationally expensive\n",
    "  - Especially expensive marginalise over the uncertainty in the model while fitting CBC signal models\n",
    "\n",
    "#### Lines\n",
    "\n",
    "- Data at specific frequencies are persistently non-Gaussian and non-stationary\n",
    "- Large amplitude can cause spectral leakage\n",
    "  - Need to apply a window\n",
    "- Many have known causes\n",
    "  - Suspension \"violin\" modes\n",
    "  - Calibration lines\n",
    "  - Mains power lines\n",
    "  - ...\n",
    "- Some can be subtracted (\"cleaned\") from the data stream\n",
    "- Can be correlated between detectors\n",
    "- Commonly not analysed when searching for long-duration signals\n",
    "- Included in compact binary coalescence parameter estimation (for now...)"
   ]
  },
  {
   "cell_type": "markdown",
   "id": "7f32a6ad",
   "metadata": {
    "papermill": {
     "duration": 0.035211,
     "end_time": "2023-02-28T08:31:24.288246",
     "exception": false,
     "start_time": "2023-02-28T08:31:24.253035",
     "status": "completed"
    },
    "tags": []
   },
   "source": [
    "## Create priors for analysis\n",
    "\n",
    "Since sampling all parameters will take a long time, we set delta-functions to all but one mass parameter (chirp-mass). "
   ]
  },
  {
   "cell_type": "code",
   "execution_count": 30,
   "id": "863c29ae",
   "metadata": {
    "ExecuteTime": {
     "end_time": "2023-02-15T01:18:40.675723Z",
     "start_time": "2023-02-15T01:18:31.638Z"
    },
    "execution": {
     "iopub.execute_input": "2023-02-28T08:31:24.359739Z",
     "iopub.status.busy": "2023-02-28T08:31:24.359072Z",
     "iopub.status.idle": "2023-02-28T08:31:29.081471Z",
     "shell.execute_reply": "2023-02-28T08:31:29.080301Z"
    },
    "lines_to_end_of_cell_marker": 2,
    "papermill": {
     "duration": 4.761302,
     "end_time": "2023-02-28T08:31:29.084253",
     "exception": false,
     "start_time": "2023-02-28T08:31:24.322951",
     "status": "completed"
    },
    "ploomber": {
     "memory_usage": 268.09765625,
     "timestamp_end": 1677576290.692502,
     "timestamp_start": 1677576286.740173
    },
    "tags": []
   },
   "outputs": [],
   "source": [
    "# We sample in chirp-mass and mass-ratio, however--these are quite un-astrophysical priors\n",
    "# but in post-processing convert to uniform-in-component masses \n",
    "priors = bilby.gw.prior.BBHPriorDict()\n",
    "for key in [\n",
    "    \"a_1\",\n",
    "    \"a_2\",\n",
    "    \"tilt_1\",\n",
    "    \"tilt_2\",\n",
    "    \"phi_12\",\n",
    "    \"phi_jl\",\n",
    "    \"psi\",\n",
    "    \"ra\",\n",
    "    \"dec\",\n",
    "    \"geocent_time\",\n",
    "    \"phase\",\n",
    "    \"theta_jn\",\n",
    "    \"luminosity_distance\",\n",
    "]:\n",
    "    priors[key] = injection_parameters[key]\n",
    "priors[\"mass_ratio\"] = inj_q\n",
    "priors[\"chirp_mass\"] = bilby.gw.prior.UniformInComponentsChirpMass(\n",
    "    minimum=inj_chirp_mass - 5,\n",
    "    maximum=inj_chirp_mass + 5\n",
    ")\n",
    "\n",
    "# Perform a check that the prior does not extend to a parameter space longer than the data\n",
    "priors.validate_prior(duration, min_freq);"
   ]
  },
  {
   "cell_type": "markdown",
   "id": "a405fc5b",
   "metadata": {
    "papermill": {
     "duration": 0.035481,
     "end_time": "2023-02-28T08:31:29.155036",
     "exception": false,
     "start_time": "2023-02-28T08:31:29.119555",
     "status": "completed"
    },
    "tags": []
   },
   "source": [
    "Making some plots of the priors:"
   ]
  },
  {
   "cell_type": "code",
   "execution_count": 31,
   "id": "0d10f17b",
   "metadata": {
    "ExecuteTime": {
     "end_time": "2023-02-15T01:18:40.676935Z",
     "start_time": "2023-02-15T01:18:31.642Z"
    },
    "execution": {
     "iopub.execute_input": "2023-02-28T08:31:29.227999Z",
     "iopub.status.busy": "2023-02-28T08:31:29.227595Z",
     "iopub.status.idle": "2023-02-28T08:31:29.360082Z",
     "shell.execute_reply": "2023-02-28T08:31:29.359159Z"
    },
    "papermill": {
     "duration": 0.172946,
     "end_time": "2023-02-28T08:31:29.363094",
     "exception": false,
     "start_time": "2023-02-28T08:31:29.190148",
     "status": "completed"
    },
    "ploomber": {
     "memory_usage": 269.03515625,
     "timestamp_end": 1677576290.796783,
     "timestamp_start": 1677576290.692842
    },
    "scrolled": true,
    "tags": []
   },
   "outputs": [],
   "source": [
    "mc = priors.sample(10000)['chirp_mass']\n",
    "fig, ax = plt.subplots(figsize=(2,2))\n",
    "ax.hist(mc, histtype='step', bins=50)\n",
    "ax.set_yticks([])\n",
    "ax.set_xlabel(\"Chirp Mass \" + r\"$M_{\\odot}$\" );"
   ]
  },
  {
   "cell_type": "markdown",
   "id": "25f70ece",
   "metadata": {
    "papermill": {
     "duration": 0.035577,
     "end_time": "2023-02-28T08:31:29.434703",
     "exception": false,
     "start_time": "2023-02-28T08:31:29.399126",
     "status": "completed"
    },
    "tags": []
   },
   "source": [
    "## Create the likelihood to use for analysis\n",
    "\n",
    "Similar to the line-signal in Gaussian noise case, we assume that the GW signal is embedded in some Gaussian noise. We also assume that the noise is stationary.\n",
    "\n",
    "With these asumptions, we can use the [Whittle likelihood](https://en.wikipedia.org/wiki/Whittle_likelihood): \n",
    "\n",
    "\\begin{align}\n",
    "\\mathcal{L}(d | \\theta) = \\prod^{\\rm{H, L, V}}_{i}\\ \\prod^{20-2048Hz}_{j} \\frac{1}{2 \\pi\\  \\rm{PSD}_{i,j} } \\exp\\left( -\\frac{|\\tilde{d}_{i,j} - \\tilde{h}_{i,j}(\\theta)|^2}{2\\ \\rm{PSD}_{i,j} } \\right).\n",
    "\\end{align}\n",
    "\n",
    "Here:\n",
    "- `d` is the frequency-domain strain data, \n",
    "- `h` is the template waveform\n",
    "\n",
    "This can be instantiated in bilby like so:\n"
   ]
  },
  {
   "cell_type": "code",
   "execution_count": 32,
   "id": "3ecfd462",
   "metadata": {
    "ExecuteTime": {
     "end_time": "2023-02-15T01:18:40.678263Z",
     "start_time": "2023-02-15T01:18:31.646Z"
    },
    "execution": {
     "iopub.execute_input": "2023-02-28T08:31:29.506641Z",
     "iopub.status.busy": "2023-02-28T08:31:29.506023Z",
     "iopub.status.idle": "2023-02-28T08:31:29.510989Z",
     "shell.execute_reply": "2023-02-28T08:31:29.510087Z"
    },
    "papermill": {
     "duration": 0.044691,
     "end_time": "2023-02-28T08:31:29.514730",
     "exception": false,
     "start_time": "2023-02-28T08:31:29.470039",
     "status": "completed"
    },
    "ploomber": {
     "memory_usage": 269.03515625,
     "timestamp_end": 1677576290.801803,
     "timestamp_start": 1677576290.797132
    },
    "tags": []
   },
   "outputs": [],
   "source": [
    "# the IFOs contain the data and PSD for each detector\n",
    "# the waveform generator can generate differnt h(t)\n",
    "likelihood = bilby.gw.GravitationalWaveTransient(\n",
    "    interferometers=ifos, \n",
    "    waveform_generator=waveform_generator,\n",
    ")"
   ]
  },
  {
   "cell_type": "markdown",
   "id": "5830938e",
   "metadata": {
    "ExecuteTime": {
     "end_time": "2023-02-14T03:52:45.680092Z",
     "start_time": "2023-02-14T03:52:45.677592Z"
    },
    "papermill": {
     "duration": 0.03524,
     "end_time": "2023-02-28T08:31:29.585741",
     "exception": false,
     "start_time": "2023-02-28T08:31:29.550501",
     "status": "completed"
    },
    "tags": []
   },
   "source": [
    "## Run inference"
   ]
  },
  {
   "cell_type": "code",
   "execution_count": 33,
   "id": "0959492b",
   "metadata": {
    "ExecuteTime": {
     "end_time": "2023-02-15T01:18:40.679331Z",
     "start_time": "2023-02-15T01:18:31.649Z"
    },
    "execution": {
     "iopub.execute_input": "2023-02-28T08:31:29.657899Z",
     "iopub.status.busy": "2023-02-28T08:31:29.657289Z",
     "iopub.status.idle": "2023-02-28T08:31:32.384893Z",
     "shell.execute_reply": "2023-02-28T08:31:32.384069Z"
    },
    "papermill": {
     "duration": 2.766484,
     "end_time": "2023-02-28T08:31:32.387300",
     "exception": false,
     "start_time": "2023-02-28T08:31:29.620816",
     "status": "completed"
    },
    "ploomber": {
     "memory_usage": 273.59375,
     "timestamp_end": 1677576293.788238,
     "timestamp_start": 1677576290.801956
    },
    "tags": []
   },
   "outputs": [],
   "source": [
    "if RE_RUN_SLOW_CELLS:\n",
    "    # Run sampler.  In this case we're going to use the `dynesty` sampler\n",
    "    result = bilby.run_sampler(\n",
    "        likelihood=likelihood,\n",
    "        priors=priors,\n",
    "        sampler=\"dynesty\",\n",
    "        npoints=250,\n",
    "        nlive=100, walks=25,\n",
    "        dlogz=0.1,\n",
    "        injection_parameters=injection_parameters,\n",
    "        outdir=OUTDIR,\n",
    "        label=\"injection\",\n",
    "        conversion_function=bilby.gw.conversion.generate_all_bbh_parameters,\n",
    "        result_class=bilby.gw.result.CBCResult,\n",
    "    )\n",
    "else:\n",
    "    print(\"Skipping sampling...\")\n",
    "    fn = f\"{OUTDIR}/injection_result.json\"\n",
    "    download(INJECTION_URL, fn)\n",
    "    result = bilby.gw.result.CBCResult.from_json(filename=fn)\n",
    "    print(\"Loaded result!\")"
   ]
  },
  {
   "cell_type": "markdown",
   "id": "f9b28168",
   "metadata": {
    "papermill": {
     "duration": 0.036157,
     "end_time": "2023-02-28T08:31:32.460180",
     "exception": false,
     "start_time": "2023-02-28T08:31:32.424023",
     "status": "completed"
    },
    "tags": []
   },
   "source": [
    "## Make some plots"
   ]
  },
  {
   "cell_type": "code",
   "execution_count": 34,
   "id": "28de57cc",
   "metadata": {
    "ExecuteTime": {
     "end_time": "2023-02-15T01:18:40.680566Z",
     "start_time": "2023-02-15T01:18:31.654Z"
    },
    "execution": {
     "iopub.execute_input": "2023-02-28T08:31:32.534724Z",
     "iopub.status.busy": "2023-02-28T08:31:32.534102Z",
     "iopub.status.idle": "2023-02-28T08:31:42.048407Z",
     "shell.execute_reply": "2023-02-28T08:31:42.046898Z"
    },
    "papermill": {
     "duration": 9.55644,
     "end_time": "2023-02-28T08:31:42.052962",
     "exception": false,
     "start_time": "2023-02-28T08:31:32.496522",
     "status": "completed"
    },
    "ploomber": {
     "memory_usage": 352.578125,
     "timestamp_end": 1677576302.105107,
     "timestamp_start": 1677576293.788813
    },
    "tags": []
   },
   "outputs": [],
   "source": [
    "result.plot_corner(parameters=[\"mass_1\", \"mass_2\"], truths=[inj_m1, inj_m2], save=False)\n",
    "for interferometer in ifos:\n",
    "    fig = result.plot_interferometer_waveform_posterior(\n",
    "        interferometer=interferometer, save=False\n",
    "    )\n",
    "    plt.show()"
   ]
  },
  {
   "cell_type": "markdown",
   "id": "72175184",
   "metadata": {
    "papermill": {
     "duration": 0.041482,
     "end_time": "2023-02-28T08:31:42.136279",
     "exception": false,
     "start_time": "2023-02-28T08:31:42.094797",
     "status": "completed"
    },
    "tags": []
   },
   "source": [
    "## Cleanup"
   ]
  },
  {
   "cell_type": "code",
   "execution_count": 35,
   "id": "0eab19b2",
   "metadata": {
    "ExecuteTime": {
     "end_time": "2023-02-15T01:18:40.681762Z",
     "start_time": "2023-02-15T01:18:31.659Z"
    },
    "execution": {
     "iopub.execute_input": "2023-02-28T08:31:42.217993Z",
     "iopub.status.busy": "2023-02-28T08:31:42.217621Z",
     "iopub.status.idle": "2023-02-28T08:31:42.221938Z",
     "shell.execute_reply": "2023-02-28T08:31:42.221082Z"
    },
    "papermill": {
     "duration": 0.049255,
     "end_time": "2023-02-28T08:31:42.224773",
     "exception": false,
     "start_time": "2023-02-28T08:31:42.175518",
     "status": "completed"
    },
    "ploomber": {
     "memory_usage": 348.60546875,
     "timestamp_end": 1677576302.110845,
     "timestamp_start": 1677576302.105988
    },
    "tags": []
   },
   "outputs": [],
   "source": [
    "# lets clear up some memory before proceeding to the next section!\n",
    "del result\n",
    "del ifos"
   ]
  },
  {
   "cell_type": "markdown",
   "id": "e0dbedf6",
   "metadata": {
    "papermill": {
     "duration": 0.039835,
     "end_time": "2023-02-28T08:31:42.306015",
     "exception": false,
     "start_time": "2023-02-28T08:31:42.266180",
     "status": "completed"
    },
    "tags": []
   },
   "source": [
    "# Analysis of GW150914\n",
    "\n",
    "Lets analyse a real event! \n",
    "\n",
    "## Setup\n",
    "First we import some functions so we dont need to put in the full path "
   ]
  },
  {
   "cell_type": "code",
   "execution_count": 36,
   "id": "b4879233",
   "metadata": {
    "ExecuteTime": {
     "end_time": "2023-02-15T01:18:40.683019Z",
     "start_time": "2023-02-15T01:18:31.663Z"
    },
    "execution": {
     "iopub.execute_input": "2023-02-28T08:31:42.391465Z",
     "iopub.status.busy": "2023-02-28T08:31:42.390824Z",
     "iopub.status.idle": "2023-02-28T08:31:42.970349Z",
     "shell.execute_reply": "2023-02-28T08:31:42.969251Z"
    },
    "papermill": {
     "duration": 0.624385,
     "end_time": "2023-02-28T08:31:42.973285",
     "exception": false,
     "start_time": "2023-02-28T08:31:42.348900",
     "status": "completed"
    },
    "ploomber": {
     "memory_usage": 354.65234375,
     "timestamp_end": 1677576302.586426,
     "timestamp_start": 1677576302.111103
    },
    "tags": [
     "hide-cell"
    ]
   },
   "outputs": [],
   "source": [
    "import numpy as np\n",
    "import bilby\n",
    "from bilby import run_sampler\n",
    "from bilby.core.prior import Constraint, Uniform\n",
    "from bilby.gw.conversion import (\n",
    "    convert_to_lal_binary_black_hole_parameters,\n",
    "    generate_all_bbh_parameters\n",
    ")\n",
    "from bilby.gw.detector.networks import InterferometerList\n",
    "from bilby.gw.detector.psd import PowerSpectralDensity\n",
    "from bilby.gw.likelihood import GravitationalWaveTransient\n",
    "from bilby.gw.prior import BBHPriorDict\n",
    "from bilby.gw.result import CBCResult\n",
    "from bilby.gw.source import lal_binary_black_hole\n",
    "from bilby.gw.utils import get_event_time\n",
    "from bilby.gw.waveform_generator import WaveformGenerator\n",
    "from gwpy.plot import Plot as GWpyPlot\n",
    "from gwpy.timeseries import TimeSeries\n",
    "import os\n",
    "import logging \n",
    "bilby_logger = logging.getLogger(\"bilby\")\n",
    "bilby_logger.setLevel(logging.ERROR)"
   ]
  },
  {
   "cell_type": "markdown",
   "id": "dd6f7bb3",
   "metadata": {
    "papermill": {
     "duration": 0.041609,
     "end_time": "2023-02-28T08:31:43.057730",
     "exception": false,
     "start_time": "2023-02-28T08:31:43.016121",
     "status": "completed"
    },
    "tags": []
   },
   "source": [
    "## Downloading IFO data\n",
    "\n",
    "Now we download the raw data and make some plots"
   ]
  },
  {
   "cell_type": "code",
   "execution_count": 37,
   "id": "ca7808db",
   "metadata": {
    "ExecuteTime": {
     "end_time": "2023-02-15T01:18:40.684230Z",
     "start_time": "2023-02-15T01:18:31.668Z"
    },
    "execution": {
     "iopub.execute_input": "2023-02-28T08:31:43.143641Z",
     "iopub.status.busy": "2023-02-28T08:31:43.143052Z",
     "iopub.status.idle": "2023-02-28T08:31:51.920847Z",
     "shell.execute_reply": "2023-02-28T08:31:51.919814Z"
    },
    "papermill": {
     "duration": 8.822452,
     "end_time": "2023-02-28T08:31:51.923239",
     "exception": false,
     "start_time": "2023-02-28T08:31:43.100787",
     "status": "completed"
    },
    "ploomber": {
     "memory_usage": 355.88671875,
     "timestamp_end": 1677576310.909053,
     "timestamp_start": 1677576302.587063
    },
    "tags": []
   },
   "outputs": [],
   "source": [
    "def download_strain(ifo_name, start_time, end_time, outdir):\n",
    "    \"\"\"Download strain data from GWOSC\"\"\"\n",
    "    fname = f\"{outdir}/{ifo_name}-{start_time}-{end_time}.hdf5\"\n",
    "    if os.path.exists(fname):\n",
    "        data = TimeSeries.read(fname)\n",
    "    else:\n",
    "        data = TimeSeries.fetch_open_data(ifo_name, start_time, end_time)\n",
    "        data.write(fname)\n",
    "    return data\n",
    "\n",
    "interferometers = InterferometerList([\"H1\", \"L1\"])\n",
    "trigger_time = get_event_time(\"GW150914\")\n",
    "\n",
    "start_time = trigger_time - 3\n",
    "duration = 4\n",
    "end_time = start_time + duration\n",
    "roll_off = 0.2\n",
    "\n",
    "# Get raw data\n",
    "raw_data = {}\n",
    "for ifo in interferometers:\n",
    "    print(\n",
    "        f\"Getting {ifo.name} analysis data segment (can take ~ 30s)\"\n",
    "    )\n",
    "    analysis_data = download_strain(ifo.name, start_time, end_time, outdir=OUTDIR)\n",
    "    ifo.strain_data.roll_off = roll_off\n",
    "    ifo.strain_data.set_from_gwpy_timeseries(analysis_data)\n",
    "    raw_data[ifo.name] = analysis_data"
   ]
  },
  {
   "cell_type": "code",
   "execution_count": 38,
   "id": "fda9dfd4",
   "metadata": {
    "ExecuteTime": {
     "end_time": "2023-02-15T01:18:40.685472Z",
     "start_time": "2023-02-15T01:18:31.671Z"
    },
    "execution": {
     "iopub.execute_input": "2023-02-28T08:31:52.004969Z",
     "iopub.status.busy": "2023-02-28T08:31:52.004585Z",
     "iopub.status.idle": "2023-02-28T08:31:52.993180Z",
     "shell.execute_reply": "2023-02-28T08:31:52.992309Z"
    },
    "papermill": {
     "duration": 1.033445,
     "end_time": "2023-02-28T08:31:52.996883",
     "exception": false,
     "start_time": "2023-02-28T08:31:51.963438",
     "status": "completed"
    },
    "ploomber": {
     "memory_usage": 367.33984375,
     "timestamp_end": 1677576311.751551,
     "timestamp_start": 1677576310.909868
    },
    "tags": []
   },
   "outputs": [],
   "source": [
    "# plot raw data:\n",
    "plot = GWpyPlot(figsize=(12, 4.8))\n",
    "ax = plot.add_subplot(xscale='auto-gps')\n",
    "for ifo_name, data in raw_data.items():\n",
    "    ax.plot(data, label=ifo_name)\n",
    "ax.set_epoch(1126259462.427)\n",
    "ax.set_xlim(1126259462, 1126259462.6)\n",
    "ax.set_ylabel('Strain noise')\n",
    "ax.legend()\n",
    "plot.show()"
   ]
  },
  {
   "cell_type": "markdown",
   "id": "b1b56c06",
   "metadata": {
    "ExecuteTime": {
     "end_time": "2023-02-14T14:03:08.158861Z",
     "start_time": "2023-02-14T14:03:08.153240Z"
    },
    "papermill": {
     "duration": 0.042294,
     "end_time": "2023-02-28T08:31:53.082140",
     "exception": false,
     "start_time": "2023-02-28T08:31:53.039846",
     "status": "completed"
    },
    "tags": []
   },
   "source": [
    "Woah. That looks terrible. Where is the nobel-prize winning poster-child signal? \n",
    "\n",
    "We may need to clean up the data a bit to actually 'see' the signal. Lets get the data for the PSD and take a look at the noise once again"
   ]
  },
  {
   "cell_type": "code",
   "execution_count": 39,
   "id": "1542bd01",
   "metadata": {
    "ExecuteTime": {
     "end_time": "2023-02-15T01:18:40.686861Z",
     "start_time": "2023-02-15T01:18:31.677Z"
    },
    "execution": {
     "iopub.execute_input": "2023-02-28T08:31:53.166234Z",
     "iopub.status.busy": "2023-02-28T08:31:53.165848Z",
     "iopub.status.idle": "2023-02-28T08:31:53.473142Z",
     "shell.execute_reply": "2023-02-28T08:31:53.472278Z"
    },
    "lines_to_end_of_cell_marker": 2,
    "papermill": {
     "duration": 0.353298,
     "end_time": "2023-02-28T08:31:53.475710",
     "exception": false,
     "start_time": "2023-02-28T08:31:53.122412",
     "status": "completed"
    },
    "ploomber": {
     "memory_usage": 367.4921875,
     "timestamp_end": 1677576312.019418,
     "timestamp_start": 1677576311.751914
    },
    "tags": []
   },
   "outputs": [],
   "source": [
    "# downloading data\n",
    "psd_start_time = start_time + duration\n",
    "psd_duration = 128\n",
    "psd_end_time = psd_start_time + psd_duration\n",
    "psd_tukey_alpha = 2 * roll_off / duration\n",
    "overlap = duration / 2\n",
    "\n",
    "for ifo in interferometers:\n",
    "    print(\n",
    "        f\"Getting {ifo.name} PSD data segment (can take ~ 1min)\"\n",
    "    )\n",
    "    psd_data = download_strain(\n",
    "        ifo.name, psd_start_time, psd_end_time, outdir=OUTDIR\n",
    "    )\n",
    "    psd = psd_data.psd(\n",
    "        fftlength=duration, overlap=overlap, window=(\"tukey\", psd_tukey_alpha),\n",
    "        method=\"median\"\n",
    "    )\n",
    "    ifo.power_spectral_density = PowerSpectralDensity(\n",
    "        frequency_array=psd.frequencies.value, psd_array=psd.value\n",
    "    )"
   ]
  },
  {
   "cell_type": "code",
   "execution_count": 40,
   "id": "97155385",
   "metadata": {
    "ExecuteTime": {
     "end_time": "2023-02-15T01:18:40.688342Z",
     "start_time": "2023-02-15T01:18:31.680Z"
    },
    "execution": {
     "iopub.execute_input": "2023-02-28T08:31:53.561373Z",
     "iopub.status.busy": "2023-02-28T08:31:53.560995Z",
     "iopub.status.idle": "2023-02-28T08:31:56.135317Z",
     "shell.execute_reply": "2023-02-28T08:31:56.134450Z"
    },
    "papermill": {
     "duration": 2.618408,
     "end_time": "2023-02-28T08:31:56.137769",
     "exception": false,
     "start_time": "2023-02-28T08:31:53.519361",
     "status": "completed"
    },
    "ploomber": {
     "memory_usage": 395.15625,
     "timestamp_end": 1677576314.211271,
     "timestamp_start": 1677576312.020012
    },
    "tags": []
   },
   "outputs": [],
   "source": [
    "# plotting\n",
    "for ifo in interferometers:\n",
    "    analysis_data = abs(ifo.frequency_domain_strain)\n",
    "    plt.loglog(ifo.frequency_array, analysis_data, label=\"Analysis Data\")\n",
    "    plt.loglog(ifo.frequency_array, abs(ifo.amplitude_spectral_density_array),\n",
    "               label=\"ASD (estimated noise)\")\n",
    "    plt.xlim(ifo.minimum_frequency, ifo.maximum_frequency)\n",
    "    ymin_max = [min(analysis_data), max(analysis_data)]\n",
    "    plt.vlines([60, 120], *ymin_max, ls=\"--\", color='k', zorder=-10)\n",
    "    plt.fill_betweenx(ymin_max, 50, 250, color='tab:green', alpha=0.1)\n",
    "    plt.xlabel(\"Frequency [Hz]\")\n",
    "    plt.ylabel(r'Strain [strain/$\\sqrt{\\rm Hz}$]')\n",
    "    plt.title(f\"{ifo.name} data\")\n",
    "    plt.ylim(*ymin_max)\n",
    "    plt.legend()\n",
    "    plt.show()"
   ]
  },
  {
   "cell_type": "markdown",
   "id": "cec35588",
   "metadata": {
    "papermill": {
     "duration": 0.042279,
     "end_time": "2023-02-28T08:31:56.225187",
     "exception": false,
     "start_time": "2023-02-28T08:31:56.182908",
     "status": "completed"
    },
    "tags": []
   },
   "source": [
    "Lets `notch` out the 60 and 120 Hz `violin` modes (black vertical lines), and only keep data within the 50-250Hz range (marked in green) from the raw data and re-plot:"
   ]
  },
  {
   "cell_type": "code",
   "execution_count": 41,
   "id": "24c621e6",
   "metadata": {
    "ExecuteTime": {
     "end_time": "2023-02-15T01:18:40.689803Z",
     "start_time": "2023-02-15T01:18:31.683Z"
    },
    "execution": {
     "iopub.execute_input": "2023-02-28T08:31:56.314095Z",
     "iopub.status.busy": "2023-02-28T08:31:56.313291Z",
     "iopub.status.idle": "2023-02-28T08:31:57.265952Z",
     "shell.execute_reply": "2023-02-28T08:31:57.265030Z"
    },
    "lines_to_next_cell": 2,
    "papermill": {
     "duration": 1.001607,
     "end_time": "2023-02-28T08:31:57.270211",
     "exception": false,
     "start_time": "2023-02-28T08:31:56.268604",
     "status": "completed"
    },
    "ploomber": {
     "memory_usage": 379.62109375,
     "timestamp_end": 1677576315.240941,
     "timestamp_start": 1677576314.211726
    },
    "tags": []
   },
   "outputs": [],
   "source": [
    "plot = GWpyPlot(figsize=(12, 4.8))\n",
    "ax = plot.add_subplot(xscale='auto-gps')\n",
    "for ifo_name, data in raw_data.items():\n",
    "    filtered_data = data.bandpass(50, 250).notch(60).notch(120)\n",
    "    ax.plot(filtered_data, label=ifo_name)\n",
    "ax.set_epoch(1126259462.427)\n",
    "ax.set_xlim(1126259462, 1126259462.6)\n",
    "ax.set_ylim(-1e-21, 1e-21)\n",
    "ax.set_ylabel('Strain noise')\n",
    "ax.legend()\n",
    "plot.show()"
   ]
  },
  {
   "cell_type": "markdown",
   "id": "b1dabc14",
   "metadata": {
    "ExecuteTime": {
     "end_time": "2023-02-14T14:10:38.215519Z",
     "start_time": "2023-02-14T14:10:38.210484Z"
    },
    "papermill": {
     "duration": 0.045128,
     "end_time": "2023-02-28T08:31:57.363196",
     "exception": false,
     "start_time": "2023-02-28T08:31:57.318068",
     "status": "completed"
    },
    "tags": []
   },
   "source": [
    "Noiceee... Lets plot the signals in the frequency domain:"
   ]
  },
  {
   "cell_type": "code",
   "execution_count": 42,
   "id": "9cb8702b",
   "metadata": {
    "ExecuteTime": {
     "end_time": "2023-02-15T01:18:40.691235Z",
     "start_time": "2023-02-15T01:18:31.687Z"
    },
    "execution": {
     "iopub.execute_input": "2023-02-28T08:31:57.455306Z",
     "iopub.status.busy": "2023-02-28T08:31:57.454687Z",
     "iopub.status.idle": "2023-02-28T08:32:24.539958Z",
     "shell.execute_reply": "2023-02-28T08:32:24.538115Z"
    },
    "papermill": {
     "duration": 27.137756,
     "end_time": "2023-02-28T08:32:24.545597",
     "exception": false,
     "start_time": "2023-02-28T08:31:57.407841",
     "status": "completed"
    },
    "ploomber": {
     "memory_usage": 1208.26953125,
     "timestamp_end": 1677576337.821966,
     "timestamp_start": 1677576315.241351
    },
    "tags": []
   },
   "outputs": [],
   "source": [
    "tc = trigger_time\n",
    "\n",
    "for ifo_name, data in raw_data.items():\n",
    "    qtrans = data.q_transform(\n",
    "        frange=(20,500), fres = 0.05,\n",
    "        outseg=(tc-0.2, tc+0.1)\n",
    "    )\n",
    "    plot = qtrans.plot(cmap = 'viridis', dpi = 150)\n",
    "    ax = plot.gca()\n",
    "    ax.set_title(f'{ifo_name} Q-transform')\n",
    "    ax.set_epoch(trigger_time)\n",
    "    ax.set_yscale('log')\n"
   ]
  },
  {
   "cell_type": "markdown",
   "id": "f649d437",
   "metadata": {
    "ExecuteTime": {
     "end_time": "2023-02-14T14:12:25.228442Z",
     "start_time": "2023-02-14T14:12:25.224384Z"
    },
    "papermill": {
     "duration": 0.050877,
     "end_time": "2023-02-28T08:32:24.652004",
     "exception": false,
     "start_time": "2023-02-28T08:32:24.601127",
     "status": "completed"
    },
    "tags": []
   },
   "source": [
    "## Getting priors\n",
    "\n",
    "Now lets write down our priors for this event's analysis. Note that again we set several delta functions and restrict the search space to speed up analysis for the sake of this tutorial. "
   ]
  },
  {
   "cell_type": "code",
   "execution_count": 43,
   "id": "fdeaf9da",
   "metadata": {
    "ExecuteTime": {
     "end_time": "2023-02-15T01:18:40.692548Z",
     "start_time": "2023-02-15T01:18:31.690Z"
    },
    "execution": {
     "iopub.execute_input": "2023-02-28T08:32:24.756551Z",
     "iopub.status.busy": "2023-02-28T08:32:24.755699Z",
     "iopub.status.idle": "2023-02-28T08:32:24.821327Z",
     "shell.execute_reply": "2023-02-28T08:32:24.820397Z"
    },
    "papermill": {
     "duration": 0.121171,
     "end_time": "2023-02-28T08:32:24.824429",
     "exception": false,
     "start_time": "2023-02-28T08:32:24.703258",
     "status": "completed"
    },
    "ploomber": {
     "memory_usage": 1213.66015625,
     "timestamp_end": 1677576337.882083,
     "timestamp_start": 1677576337.834624
    },
    "tags": []
   },
   "outputs": [],
   "source": [
    "# setup the prior\n",
    "from bilby.core.prior import Uniform, PowerLaw, Sine, Constraint, Cosine\n",
    "from corner import corner\n",
    "import pandas as pd\n",
    "\n",
    "# typically we would use a priors with wide bounds:\n",
    "tc = trigger_time\n",
    "priors = BBHPriorDict(dict(\n",
    "    mass_ratio=Uniform(name='mass_ratio', minimum=0.125, maximum=1),\n",
    "    chirp_mass=Uniform(name='chirp_mass', minimum=25, maximum=31),\n",
    "    mass_1=Constraint(name='mass_1', minimum=10, maximum=80),\n",
    "    mass_2=Constraint(name='mass_2', minimum=10, maximum=80),\n",
    "    a_1=Uniform(name='a_1', minimum=0, maximum=0.99),\n",
    "    a_2=Uniform(name='a_2', minimum=0, maximum=0.99),\n",
    "    tilt_1=Sine(name='tilt_1'),\n",
    "    tilt_2=Sine(name='tilt_2'),\n",
    "    phi_12=Uniform(name='phi_12', minimum=0, maximum=2 * np.pi, boundary='periodic'),\n",
    "    phi_jl=Uniform(name='phi_jl', minimum=0, maximum=2 * np.pi, boundary='periodic'),\n",
    "    luminosity_distance=PowerLaw(alpha=2, name='luminosity_distance', minimum=50, maximum=2000),\n",
    "    dec=Cosine(name='dec'),\n",
    "    ra=Uniform(name='ra', minimum=0, maximum=2 * np.pi, boundary='periodic'),\n",
    "    theta_jn=Sine(name='theta_jn'),\n",
    "    psi=Uniform(name='psi', minimum=0, maximum=np.pi, boundary='periodic'),\n",
    "    phase=Uniform(name='phase', minimum=0, maximum=2 * np.pi, boundary='periodic'),\n",
    "    geocent_time=Uniform(minimum=tc - 0.1, maximum=tc + 0.1, latex_label=\"$t_c$\", unit=\"$s$\")\n",
    "))\n",
    "\n",
    "# HACK: for this example (to make analysis faster) we will use a prior with tighter bounds\n",
    "priors['luminosity_distance'] = 419.18\n",
    "priors['mass_1'] = Constraint(name='mass_1', minimum=30, maximum=50)\n",
    "priors['mass_2'] = Constraint(name='mass_2', minimum=20, maximum=40)\n",
    "priors['ra'] = 2.269\n",
    "priors['dec'] = -1.223\n",
    "priors['geocent_time'] = tc\n",
    "priors['theta_jn'] = 2.921\n",
    "priors['phi_jl'] = 0.968\n",
    "priors['psi'] = 2.659\n",
    "# dont do this in a real run \n",
    "\n",
    "prior_samples = priors.sample(10000)\n",
    "prior_samples_df = pd.DataFrame(prior_samples)\n"
   ]
  },
  {
   "cell_type": "markdown",
   "id": "2cb09b8b",
   "metadata": {
    "papermill": {
     "duration": 0.050713,
     "end_time": "2023-02-28T08:32:24.926460",
     "exception": false,
     "start_time": "2023-02-28T08:32:24.875747",
     "status": "completed"
    },
    "tags": []
   },
   "source": [
    "Plots of some priors:\n"
   ]
  },
  {
   "cell_type": "code",
   "execution_count": 44,
   "id": "88e9bd89",
   "metadata": {
    "ExecuteTime": {
     "end_time": "2023-02-15T01:18:40.693860Z",
     "start_time": "2023-02-15T01:18:31.693Z"
    },
    "execution": {
     "iopub.execute_input": "2023-02-28T08:32:25.032449Z",
     "iopub.status.busy": "2023-02-28T08:32:25.031825Z",
     "iopub.status.idle": "2023-02-28T08:32:26.419626Z",
     "shell.execute_reply": "2023-02-28T08:32:26.418816Z"
    },
    "lines_to_next_cell": 2,
    "papermill": {
     "duration": 1.444849,
     "end_time": "2023-02-28T08:32:26.423622",
     "exception": false,
     "start_time": "2023-02-28T08:32:24.978773",
     "status": "completed"
    },
    "ploomber": {
     "memory_usage": 1228.15625,
     "timestamp_end": 1677576338.99984,
     "timestamp_start": 1677576337.882326
    },
    "tags": []
   },
   "outputs": [],
   "source": [
    "parameters = ['chirp_mass', 'mass_ratio', 'a_1', 'a_2']\n",
    "fig = corner(\n",
    "    prior_samples_df[parameters], plot_datapoints=False, \n",
    "    plot_contours=False, plot_density=True,\n",
    "    color=\"tab:gray\",\n",
    "    labels=parameters,\n",
    ")"
   ]
  },
  {
   "cell_type": "markdown",
   "id": "de756f6f",
   "metadata": {
    "papermill": {
     "duration": 0.072865,
     "end_time": "2023-02-28T08:32:26.552454",
     "exception": false,
     "start_time": "2023-02-28T08:32:26.479589",
     "status": "completed"
    },
    "tags": []
   },
   "source": [
    "Lets convert some parameters and see what the prior-distributions we get"
   ]
  },
  {
   "cell_type": "code",
   "execution_count": 45,
   "id": "2ba3b524",
   "metadata": {
    "ExecuteTime": {
     "end_time": "2023-02-15T01:18:40.695028Z",
     "start_time": "2023-02-15T01:18:31.696Z"
    },
    "execution": {
     "iopub.execute_input": "2023-02-28T08:32:26.660009Z",
     "iopub.status.busy": "2023-02-28T08:32:26.659569Z",
     "iopub.status.idle": "2023-02-28T08:32:27.490201Z",
     "shell.execute_reply": "2023-02-28T08:32:27.488736Z"
    },
    "papermill": {
     "duration": 0.888029,
     "end_time": "2023-02-28T08:32:27.493000",
     "exception": false,
     "start_time": "2023-02-28T08:32:26.604971",
     "status": "completed"
    },
    "ploomber": {
     "memory_usage": 1236.7109375,
     "timestamp_end": 1677576339.665323,
     "timestamp_start": 1677576339.000264
    },
    "tags": []
   },
   "outputs": [],
   "source": [
    "from bilby.gw.conversion import generate_mass_parameters\n",
    "\n",
    "prior_samples = generate_mass_parameters(prior_samples)\n",
    "prior_samples['cos_tilt_1'] = np.cos(prior_samples['tilt_1'])\n",
    "prior_samples['cos_tilt_2'] = np.cos(prior_samples['tilt_2'])\n",
    "s1z = prior_samples[\"a_1\"] * prior_samples['cos_tilt_1']\n",
    "s2z = prior_samples[\"a_2\"] * prior_samples['cos_tilt_2']\n",
    "q = prior_samples['mass_ratio']\n",
    "prior_samples['chi_eff'] = (s1z + s2z * q) / (1 + q)\n",
    "prior_samples_df = pd.DataFrame(prior_samples)\n",
    "prior_samples_df\n",
    "\n",
    "parameters = ['mass_1', 'mass_2', 'chi_eff']\n",
    "fig = corner(\n",
    "    prior_samples_df[parameters],\n",
    "    plot_datapoints=False, plot_contours=False, plot_density=True,\n",
    "    color=\"tab:gray\", labels=parameters,\n",
    ")\n"
   ]
  },
  {
   "cell_type": "markdown",
   "id": "3c61ad9a",
   "metadata": {
    "papermill": {
     "duration": 0.052971,
     "end_time": "2023-02-28T08:32:27.602162",
     "exception": false,
     "start_time": "2023-02-28T08:32:27.549191",
     "status": "completed"
    },
    "tags": []
   },
   "source": [
    "## Inference step"
   ]
  },
  {
   "cell_type": "code",
   "execution_count": 46,
   "id": "73fdf65b",
   "metadata": {
    "ExecuteTime": {
     "end_time": "2023-02-15T01:18:40.696239Z",
     "start_time": "2023-02-15T01:18:31.700Z"
    },
    "execution": {
     "iopub.execute_input": "2023-02-28T08:32:27.710750Z",
     "iopub.status.busy": "2023-02-28T08:32:27.710286Z",
     "iopub.status.idle": "2023-02-28T08:35:52.472517Z",
     "shell.execute_reply": "2023-02-28T08:35:52.471593Z"
    },
    "papermill": {
     "duration": 204.819572,
     "end_time": "2023-02-28T08:35:52.474945",
     "exception": false,
     "start_time": "2023-02-28T08:32:27.655373",
     "status": "completed"
    },
    "ploomber": {
     "memory_usage": 905.16015625,
     "timestamp_end": 1677576346.472324,
     "timestamp_start": 1677576339.665756
    },
    "tags": []
   },
   "outputs": [],
   "source": [
    "waveform_generator = WaveformGenerator(\n",
    "    duration=interferometers.duration,\n",
    "    sampling_frequency=interferometers.sampling_frequency,\n",
    "    frequency_domain_source_model=lal_binary_black_hole,\n",
    "    parameter_conversion=convert_to_lal_binary_black_hole_parameters,\n",
    "    waveform_arguments=dict(\n",
    "        waveform_approximant=\"IMRPhenomPv2\",\n",
    "        reference_frequency=20)\n",
    ")\n",
    "\n",
    "likelihood = GravitationalWaveTransient(\n",
    "    interferometers=interferometers, waveform_generator=waveform_generator,\n",
    "    priors=priors, time_marginalization=False, distance_marginalization=False,\n",
    "    phase_marginalization=True, jitter_time=False\n",
    ")\n",
    "\n",
    "\n",
    "if RE_RUN_SLOW_CELLS:\n",
    "    bilby_logger.setLevel(logging.INFO)\n",
    "    result = run_sampler(\n",
    "        likelihood=likelihood, priors=priors, save=True,\n",
    "        label=\"GW150914\",\n",
    "        nlive=50, walks=25, # HACK: use defaults nlive/walks (much more aggressive)\n",
    "        conversion_function=generate_all_bbh_parameters,\n",
    "        result_class=CBCResult,\n",
    "    )\n",
    "else:\n",
    "    print(\"Skipping sampling...\")\n",
    "    fn = f\"{OUTDIR}/GW150914_result.json\"\n",
    "    download(GW150914_URL, fn)\n",
    "    result = bilby.gw.result.CBCResult.from_json(filename=fn)\n",
    "    print(\"Loaded result!\")\n"
   ]
  },
  {
   "cell_type": "code",
   "execution_count": 47,
   "id": "1b97fce0",
   "metadata": {
    "ExecuteTime": {
     "end_time": "2023-02-15T01:18:40.697476Z",
     "start_time": "2023-02-15T01:18:31.703Z"
    },
    "execution": {
     "iopub.execute_input": "2023-02-28T08:35:52.586507Z",
     "iopub.status.busy": "2023-02-28T08:35:52.585880Z",
     "iopub.status.idle": "2023-02-28T08:35:53.021216Z",
     "shell.execute_reply": "2023-02-28T08:35:53.020316Z"
    },
    "papermill": {
     "duration": 0.495028,
     "end_time": "2023-02-28T08:35:53.023903",
     "exception": false,
     "start_time": "2023-02-28T08:35:52.528875",
     "status": "completed"
    },
    "ploomber": {
     "memory_usage": 906.625,
     "timestamp_end": 1677576346.840644,
     "timestamp_start": 1677576346.472932
    },
    "tags": []
   },
   "outputs": [],
   "source": [
    "fig = result.plot_corner(parameters=[\"mass_ratio\", \"chi_eff\"], save=False)"
   ]
  },
  {
   "cell_type": "code",
   "execution_count": 48,
   "id": "95e10feb",
   "metadata": {
    "ExecuteTime": {
     "end_time": "2023-02-15T01:18:40.698719Z",
     "start_time": "2023-02-15T01:18:31.706Z"
    },
    "execution": {
     "iopub.execute_input": "2023-02-28T08:35:53.143743Z",
     "iopub.status.busy": "2023-02-28T08:35:53.143220Z",
     "iopub.status.idle": "2023-02-28T08:35:53.617619Z",
     "shell.execute_reply": "2023-02-28T08:35:53.616468Z"
    },
    "papermill": {
     "duration": 0.535572,
     "end_time": "2023-02-28T08:35:53.620273",
     "exception": false,
     "start_time": "2023-02-28T08:35:53.084701",
     "status": "completed"
    },
    "ploomber": {
     "memory_usage": 908.98046875,
     "timestamp_end": 1677576347.220564,
     "timestamp_start": 1677576346.841019
    },
    "tags": []
   },
   "outputs": [],
   "source": [
    "fig = result.plot_corner(parameters=[\"mass_1\", \"mass_2\"], save=False)"
   ]
  },
  {
   "cell_type": "markdown",
   "id": "86ff0d65",
   "metadata": {
    "papermill": {
     "duration": 0.056554,
     "end_time": "2023-02-28T08:35:53.737666",
     "exception": false,
     "start_time": "2023-02-28T08:35:53.681112",
     "status": "completed"
    },
    "tags": []
   },
   "source": [
    "NOTE: To get some proper results, we'd have to run with more robust sampler settings and wider priors. "
   ]
  },
  {
   "cell_type": "markdown",
   "id": "b5d44e4d",
   "metadata": {
    "papermill": {
     "duration": 0.057662,
     "end_time": "2023-02-28T08:35:53.851524",
     "exception": false,
     "start_time": "2023-02-28T08:35:53.793862",
     "status": "completed"
    },
    "tags": []
   },
   "source": [
    "# Accessing GWTC parameter estimation results \n",
    "\n",
    "The GWTC data and parameter estimation results are all online (eg https://zenodo.org/record/5546663).\n",
    "Lets download one result and make some plots:"
   ]
  },
  {
   "cell_type": "code",
   "execution_count": 49,
   "id": "fba3d159",
   "metadata": {
    "ExecuteTime": {
     "end_time": "2023-02-15T01:18:40.699972Z",
     "start_time": "2023-02-15T01:18:31.709Z"
    },
    "execution": {
     "iopub.execute_input": "2023-02-28T08:35:53.965369Z",
     "iopub.status.busy": "2023-02-28T08:35:53.964927Z",
     "iopub.status.idle": "2023-02-28T08:37:57.092401Z",
     "shell.execute_reply": "2023-02-28T08:37:57.090552Z"
    },
    "lines_to_next_cell": 2,
    "papermill": {
     "duration": 123.191256,
     "end_time": "2023-02-28T08:37:57.098185",
     "exception": false,
     "start_time": "2023-02-28T08:35:53.906929",
     "status": "completed"
    },
    "ploomber": {
     "memory_usage": 909.15625,
     "timestamp_end": 1677576351.04754,
     "timestamp_start": 1677576347.220953
    },
    "tags": []
   },
   "outputs": [],
   "source": [
    "import logging\n",
    "OUTDIR=\"outdir/\"\n",
    "GW200308_fn = f\"{OUTDIR}/GW200308_result.h5\"\n",
    "download(GW200308_URL, GW200308_fn)"
   ]
  },
  {
   "cell_type": "code",
   "execution_count": 50,
   "id": "00d0d64f",
   "metadata": {
    "ExecuteTime": {
     "end_time": "2023-02-15T01:18:40.701279Z",
     "start_time": "2023-02-15T01:18:31.712Z"
    },
    "execution": {
     "iopub.execute_input": "2023-02-28T08:37:57.244948Z",
     "iopub.status.busy": "2023-02-28T08:37:57.244483Z",
     "iopub.status.idle": "2023-02-28T08:37:57.254260Z",
     "shell.execute_reply": "2023-02-28T08:37:57.253125Z"
    },
    "papermill": {
     "duration": 0.081986,
     "end_time": "2023-02-28T08:37:57.257959",
     "exception": false,
     "start_time": "2023-02-28T08:37:57.175973",
     "status": "completed"
    },
    "ploomber": {
     "memory_usage": 909.7109375,
     "timestamp_end": 1677576351.054751,
     "timestamp_start": 1677576351.047888
    },
    "tags": []
   },
   "outputs": [],
   "source": [
    "import h5py\n",
    "GW200308_result = h5py.File(GW200308_fn, \"r\")\n",
    "print(\"GW200308 samples loaded!\")"
   ]
  },
  {
   "cell_type": "markdown",
   "id": "a350e276",
   "metadata": {
    "papermill": {
     "duration": 0.056735,
     "end_time": "2023-02-28T08:37:57.387047",
     "exception": false,
     "start_time": "2023-02-28T08:37:57.330312",
     "status": "completed"
    },
    "tags": []
   },
   "source": [
    "Lets look at what is stored:"
   ]
  },
  {
   "cell_type": "code",
   "execution_count": 51,
   "id": "3f972381",
   "metadata": {
    "ExecuteTime": {
     "end_time": "2023-02-15T01:18:40.702698Z",
     "start_time": "2023-02-15T01:18:31.715Z"
    },
    "execution": {
     "iopub.execute_input": "2023-02-28T08:37:57.505114Z",
     "iopub.status.busy": "2023-02-28T08:37:57.504471Z",
     "iopub.status.idle": "2023-02-28T08:37:57.513240Z",
     "shell.execute_reply": "2023-02-28T08:37:57.512092Z"
    },
    "papermill": {
     "duration": 0.072423,
     "end_time": "2023-02-28T08:37:57.516027",
     "exception": false,
     "start_time": "2023-02-28T08:37:57.443604",
     "status": "completed"
    },
    "ploomber": {
     "memory_usage": 909.72265625,
     "timestamp_end": 1677576351.062631,
     "timestamp_start": 1677576351.055289
    },
    "tags": []
   },
   "outputs": [],
   "source": [
    "print(list(GW200308_result.keys()))\n",
    "print(list(GW200308_result['C01:IMRPhenomXPHM'].keys()))"
   ]
  },
  {
   "cell_type": "code",
   "execution_count": 52,
   "id": "caf9508d",
   "metadata": {
    "ExecuteTime": {
     "end_time": "2023-02-15T01:18:40.703920Z",
     "start_time": "2023-02-15T01:18:31.718Z"
    },
    "execution": {
     "iopub.execute_input": "2023-02-28T08:37:57.631401Z",
     "iopub.status.busy": "2023-02-28T08:37:57.631004Z",
     "iopub.status.idle": "2023-02-28T08:37:57.643568Z",
     "shell.execute_reply": "2023-02-28T08:37:57.642716Z"
    },
    "papermill": {
     "duration": 0.073471,
     "end_time": "2023-02-28T08:37:57.646225",
     "exception": false,
     "start_time": "2023-02-28T08:37:57.572754",
     "status": "completed"
    },
    "ploomber": {
     "memory_usage": 909.78515625,
     "timestamp_end": 1677576351.072168,
     "timestamp_start": 1677576351.063322
    },
    "tags": []
   },
   "outputs": [],
   "source": [
    "print(\"Parameters stored:\")\n",
    "for i in GW200308_result['C01:IMRPhenomXPHM']['posterior_samples'].dtype.names:\n",
    "    print(f\"  {i}\")"
   ]
  },
  {
   "cell_type": "code",
   "execution_count": 53,
   "id": "ee627b60",
   "metadata": {
    "ExecuteTime": {
     "end_time": "2023-02-15T01:18:40.705314Z",
     "start_time": "2023-02-15T01:18:31.721Z"
    },
    "execution": {
     "iopub.execute_input": "2023-02-28T08:37:57.765574Z",
     "iopub.status.busy": "2023-02-28T08:37:57.764690Z",
     "iopub.status.idle": "2023-02-28T08:37:58.067564Z",
     "shell.execute_reply": "2023-02-28T08:37:58.066436Z"
    },
    "lines_to_next_cell": 2,
    "papermill": {
     "duration": 0.364037,
     "end_time": "2023-02-28T08:37:58.070368",
     "exception": false,
     "start_time": "2023-02-28T08:37:57.706331",
     "status": "completed"
    },
    "ploomber": {
     "memory_usage": 911.32421875,
     "timestamp_end": 1677576351.288106,
     "timestamp_start": 1677576351.072853
    },
    "tags": []
   },
   "outputs": [],
   "source": [
    "xphm_mc = GW200308_result['C01:IMRPhenomXPHM']['posterior_samples']['chirp_mass'][:]\n",
    "seob_mc = GW200308_result['C01:SEOBNRv4PHM']['posterior_samples']['chirp_mass'][:]\n",
    "fig, ax = plt.subplots(figsize=(4,3))\n",
    "bins = np.linspace(0, 250, 50)\n",
    "ax.hist(xphm_mc, bins=bins, density=True, histtype='stepfilled', label='XPHM',  lw=2,alpha=0.25)\n",
    "ax.hist(seob_mc, bins=bins,  density=True, histtype='stepfilled', label='SEOB', lw=2,alpha=0.25)\n",
    "ax.set_yticks([])\n",
    "ax.legend(frameon=False)\n",
    "ax.set_xlabel(\"Chirp-mass Msun\");"
   ]
  }
 ],
 "metadata": {
  "celltoolbar": "Tags",
  "jupytext": {
   "formats": "ipynb,py:light"
  },
  "kernelspec": {
   "display_name": "venv",
   "language": "python",
   "name": "venv"
  },
  "language_info": {
   "codemirror_mode": {
    "name": "ipython",
    "version": 3
   },
   "file_extension": ".py",
   "mimetype": "text/x-python",
   "name": "python",
   "nbconvert_exporter": "python",
   "pygments_lexer": "ipython3",
   "version": "3.9.15"
  },
  "papermill": {
   "default_parameters": {},
   "duration": 422.869717,
   "end_time": "2023-02-28T08:38:00.903145",
   "environment_variables": {},
   "exception": null,
   "input_path": "src/workshop notebook.ipynb",
   "output_path": "src/workshop notebook.ipynb",
   "parameters": {},
   "start_time": "2023-02-28T08:30:58.033428",
   "version": "2.4.0"
  },
  "toc": {
   "base_numbering": 1,
   "nav_menu": {},
   "number_sections": true,
   "sideBar": true,
   "skip_h1_title": false,
   "title_cell": "Table of Contents",
   "title_sidebar": "Contents",
   "toc_cell": false,
   "toc_position": {},
   "toc_section_display": true,
   "toc_window_display": true
  },
  "varInspector": {
   "cols": {
    "lenName": 16,
    "lenType": 16,
    "lenVar": 40
   },
   "kernels_config": {
    "python": {
     "delete_cmd_postfix": "",
     "delete_cmd_prefix": "del ",
     "library": "var_list.py",
     "varRefreshCmd": "print(var_dic_list())"
    },
    "r": {
     "delete_cmd_postfix": ") ",
     "delete_cmd_prefix": "rm(",
     "library": "var_list.r",
     "varRefreshCmd": "cat(var_dic_list()) "
    }
   },
   "types_to_exclude": [
    "module",
    "function",
    "builtin_function_or_method",
    "instance",
    "_Feature"
   ],
   "window_display": false
  },
  "widgets": {
   "application/vnd.jupyter.widget-state+json": {
    "state": {
     "0ed921b59e97432bbe7d704f3ebf42f6": {
      "model_module": "@jupyter-widgets/controls",
      "model_module_version": "1.5.0",
      "model_name": "DescriptionStyleModel",
      "state": {
       "_model_module": "@jupyter-widgets/controls",
       "_model_module_version": "1.5.0",
       "_model_name": "DescriptionStyleModel",
       "_view_count": null,
       "_view_module": "@jupyter-widgets/base",
       "_view_module_version": "1.2.0",
       "_view_name": "StyleView",
       "description_width": ""
      }
     },
     "1488802763da42fd9048d3bc7837ae5c": {
      "model_module": "@jupyter-widgets/base",
      "model_module_version": "1.2.0",
      "model_name": "LayoutModel",
      "state": {
       "_model_module": "@jupyter-widgets/base",
       "_model_module_version": "1.2.0",
       "_model_name": "LayoutModel",
       "_view_count": null,
       "_view_module": "@jupyter-widgets/base",
       "_view_module_version": "1.2.0",
       "_view_name": "LayoutView",
       "align_content": null,
       "align_items": null,
       "align_self": null,
       "border": null,
       "bottom": null,
       "display": null,
       "flex": null,
       "flex_flow": null,
       "grid_area": null,
       "grid_auto_columns": null,
       "grid_auto_flow": null,
       "grid_auto_rows": null,
       "grid_column": null,
       "grid_gap": null,
       "grid_row": null,
       "grid_template_areas": null,
       "grid_template_columns": null,
       "grid_template_rows": null,
       "height": null,
       "justify_content": null,
       "justify_items": null,
       "left": null,
       "margin": null,
       "max_height": null,
       "max_width": null,
       "min_height": null,
       "min_width": null,
       "object_fit": null,
       "object_position": null,
       "order": null,
       "overflow": null,
       "overflow_x": null,
       "overflow_y": null,
       "padding": null,
       "right": null,
       "top": null,
       "visibility": null,
       "width": null
      }
     },
     "15a14e391f6c4d1b92282f121112176f": {
      "model_module": "@jupyter-widgets/base",
      "model_module_version": "1.2.0",
      "model_name": "LayoutModel",
      "state": {
       "_model_module": "@jupyter-widgets/base",
       "_model_module_version": "1.2.0",
       "_model_name": "LayoutModel",
       "_view_count": null,
       "_view_module": "@jupyter-widgets/base",
       "_view_module_version": "1.2.0",
       "_view_name": "LayoutView",
       "align_content": null,
       "align_items": null,
       "align_self": null,
       "border": null,
       "bottom": null,
       "display": null,
       "flex": null,
       "flex_flow": null,
       "grid_area": null,
       "grid_auto_columns": null,
       "grid_auto_flow": null,
       "grid_auto_rows": null,
       "grid_column": null,
       "grid_gap": null,
       "grid_row": null,
       "grid_template_areas": null,
       "grid_template_columns": null,
       "grid_template_rows": null,
       "height": null,
       "justify_content": null,
       "justify_items": null,
       "left": null,
       "margin": null,
       "max_height": null,
       "max_width": null,
       "min_height": null,
       "min_width": null,
       "object_fit": null,
       "object_position": null,
       "order": null,
       "overflow": null,
       "overflow_x": null,
       "overflow_y": null,
       "padding": null,
       "right": null,
       "top": null,
       "visibility": null,
       "width": null
      }
     },
     "1725386a626242dba849dd3cdd09b709": {
      "model_module": "@jupyter-widgets/base",
      "model_module_version": "1.2.0",
      "model_name": "LayoutModel",
      "state": {
       "_model_module": "@jupyter-widgets/base",
       "_model_module_version": "1.2.0",
       "_model_name": "LayoutModel",
       "_view_count": null,
       "_view_module": "@jupyter-widgets/base",
       "_view_module_version": "1.2.0",
       "_view_name": "LayoutView",
       "align_content": null,
       "align_items": null,
       "align_self": null,
       "border": null,
       "bottom": null,
       "display": null,
       "flex": null,
       "flex_flow": null,
       "grid_area": null,
       "grid_auto_columns": null,
       "grid_auto_flow": null,
       "grid_auto_rows": null,
       "grid_column": null,
       "grid_gap": null,
       "grid_row": null,
       "grid_template_areas": null,
       "grid_template_columns": null,
       "grid_template_rows": null,
       "height": null,
       "justify_content": null,
       "justify_items": null,
       "left": null,
       "margin": null,
       "max_height": null,
       "max_width": null,
       "min_height": null,
       "min_width": null,
       "object_fit": null,
       "object_position": null,
       "order": null,
       "overflow": null,
       "overflow_x": null,
       "overflow_y": null,
       "padding": null,
       "right": null,
       "top": null,
       "visibility": null,
       "width": null
      }
     },
     "19e3aad6a056425ab1160d3bfd6d8f3a": {
      "model_module": "@jupyter-widgets/controls",
      "model_module_version": "1.5.0",
      "model_name": "HBoxModel",
      "state": {
       "_dom_classes": [],
       "_model_module": "@jupyter-widgets/controls",
       "_model_module_version": "1.5.0",
       "_model_name": "HBoxModel",
       "_view_count": null,
       "_view_module": "@jupyter-widgets/controls",
       "_view_module_version": "1.5.0",
       "_view_name": "HBoxView",
       "box_style": "",
       "children": [
        "IPY_MODEL_2aa4dd8c2f694c798682136d5127c245",
        "IPY_MODEL_f95b5a5847f4450fbcf8f5cfc5f61959",
        "IPY_MODEL_e133a2ee45bb4e1ab0885be91aad6339"
       ],
       "layout": "IPY_MODEL_a394ccf9affe40579a3204fb43276305"
      }
     },
     "2aa4dd8c2f694c798682136d5127c245": {
      "model_module": "@jupyter-widgets/controls",
      "model_module_version": "1.5.0",
      "model_name": "HTMLModel",
      "state": {
       "_dom_classes": [],
       "_model_module": "@jupyter-widgets/controls",
       "_model_module_version": "1.5.0",
       "_model_name": "HTMLModel",
       "_view_count": null,
       "_view_module": "@jupyter-widgets/controls",
       "_view_module_version": "1.5.0",
       "_view_name": "HTMLView",
       "description": "",
       "description_tooltip": null,
       "layout": "IPY_MODEL_db35c9f5914649018a315892ca91a043",
       "placeholder": "​",
       "style": "IPY_MODEL_e8fb0a9e0d4e4996b14e2cf6b5a7a115",
       "value": "Downloading outdir//GW200308_result.h5: 100%"
      }
     },
     "320ec00ee09c4189937c748c8a4a2236": {
      "model_module": "@jupyter-widgets/controls",
      "model_module_version": "1.5.0",
      "model_name": "DescriptionStyleModel",
      "state": {
       "_model_module": "@jupyter-widgets/controls",
       "_model_module_version": "1.5.0",
       "_model_name": "DescriptionStyleModel",
       "_view_count": null,
       "_view_module": "@jupyter-widgets/base",
       "_view_module_version": "1.2.0",
       "_view_name": "StyleView",
       "description_width": ""
      }
     },
     "34d7fbc87982476693c3868f73cc225d": {
      "model_module": "@jupyter-widgets/controls",
      "model_module_version": "1.5.0",
      "model_name": "DescriptionStyleModel",
      "state": {
       "_model_module": "@jupyter-widgets/controls",
       "_model_module_version": "1.5.0",
       "_model_name": "DescriptionStyleModel",
       "_view_count": null,
       "_view_module": "@jupyter-widgets/base",
       "_view_module_version": "1.2.0",
       "_view_name": "StyleView",
       "description_width": ""
      }
     },
     "4ced6512a6454fc689d858c13b146311": {
      "model_module": "@jupyter-widgets/base",
      "model_module_version": "1.2.0",
      "model_name": "LayoutModel",
      "state": {
       "_model_module": "@jupyter-widgets/base",
       "_model_module_version": "1.2.0",
       "_model_name": "LayoutModel",
       "_view_count": null,
       "_view_module": "@jupyter-widgets/base",
       "_view_module_version": "1.2.0",
       "_view_name": "LayoutView",
       "align_content": null,
       "align_items": null,
       "align_self": null,
       "border": null,
       "bottom": null,
       "display": null,
       "flex": null,
       "flex_flow": null,
       "grid_area": null,
       "grid_auto_columns": null,
       "grid_auto_flow": null,
       "grid_auto_rows": null,
       "grid_column": null,
       "grid_gap": null,
       "grid_row": null,
       "grid_template_areas": null,
       "grid_template_columns": null,
       "grid_template_rows": null,
       "height": null,
       "justify_content": null,
       "justify_items": null,
       "left": null,
       "margin": null,
       "max_height": null,
       "max_width": null,
       "min_height": null,
       "min_width": null,
       "object_fit": null,
       "object_position": null,
       "order": null,
       "overflow": null,
       "overflow_x": null,
       "overflow_y": null,
       "padding": null,
       "right": null,
       "top": null,
       "visibility": null,
       "width": null
      }
     },
     "5e5fc4d8b9454de581ca6c6328d5d05e": {
      "model_module": "@jupyter-widgets/controls",
      "model_module_version": "1.5.0",
      "model_name": "ProgressStyleModel",
      "state": {
       "_model_module": "@jupyter-widgets/controls",
       "_model_module_version": "1.5.0",
       "_model_name": "ProgressStyleModel",
       "_view_count": null,
       "_view_module": "@jupyter-widgets/base",
       "_view_module_version": "1.2.0",
       "_view_name": "StyleView",
       "bar_color": null,
       "description_width": ""
      }
     },
     "62afe1f44e51472081fcaaa7ea091459": {
      "model_module": "@jupyter-widgets/base",
      "model_module_version": "1.2.0",
      "model_name": "LayoutModel",
      "state": {
       "_model_module": "@jupyter-widgets/base",
       "_model_module_version": "1.2.0",
       "_model_name": "LayoutModel",
       "_view_count": null,
       "_view_module": "@jupyter-widgets/base",
       "_view_module_version": "1.2.0",
       "_view_name": "LayoutView",
       "align_content": null,
       "align_items": null,
       "align_self": null,
       "border": null,
       "bottom": null,
       "display": null,
       "flex": null,
       "flex_flow": null,
       "grid_area": null,
       "grid_auto_columns": null,
       "grid_auto_flow": null,
       "grid_auto_rows": null,
       "grid_column": null,
       "grid_gap": null,
       "grid_row": null,
       "grid_template_areas": null,
       "grid_template_columns": null,
       "grid_template_rows": null,
       "height": null,
       "justify_content": null,
       "justify_items": null,
       "left": null,
       "margin": null,
       "max_height": null,
       "max_width": null,
       "min_height": null,
       "min_width": null,
       "object_fit": null,
       "object_position": null,
       "order": null,
       "overflow": null,
       "overflow_x": null,
       "overflow_y": null,
       "padding": null,
       "right": null,
       "top": null,
       "visibility": null,
       "width": null
      }
     },
     "6a908bcf8a4b4bd7a758e9ad569ae74d": {
      "model_module": "@jupyter-widgets/controls",
      "model_module_version": "1.5.0",
      "model_name": "DescriptionStyleModel",
      "state": {
       "_model_module": "@jupyter-widgets/controls",
       "_model_module_version": "1.5.0",
       "_model_name": "DescriptionStyleModel",
       "_view_count": null,
       "_view_module": "@jupyter-widgets/base",
       "_view_module_version": "1.2.0",
       "_view_name": "StyleView",
       "description_width": ""
      }
     },
     "6b7d5bc7b2774188aa63bacdb3c5b575": {
      "model_module": "@jupyter-widgets/controls",
      "model_module_version": "1.5.0",
      "model_name": "FloatProgressModel",
      "state": {
       "_dom_classes": [],
       "_model_module": "@jupyter-widgets/controls",
       "_model_module_version": "1.5.0",
       "_model_name": "FloatProgressModel",
       "_view_count": null,
       "_view_module": "@jupyter-widgets/controls",
       "_view_module_version": "1.5.0",
       "_view_name": "ProgressView",
       "bar_style": "success",
       "description": "",
       "description_tooltip": null,
       "layout": "IPY_MODEL_15a14e391f6c4d1b92282f121112176f",
       "max": 10000.0,
       "min": 0.0,
       "orientation": "horizontal",
       "style": "IPY_MODEL_5e5fc4d8b9454de581ca6c6328d5d05e",
       "value": 10000.0
      }
     },
     "7759fb74c3d44eba9ca73e365f27461c": {
      "model_module": "@jupyter-widgets/controls",
      "model_module_version": "1.5.0",
      "model_name": "HTMLModel",
      "state": {
       "_dom_classes": [],
       "_model_module": "@jupyter-widgets/controls",
       "_model_module_version": "1.5.0",
       "_model_name": "HTMLModel",
       "_view_count": null,
       "_view_module": "@jupyter-widgets/controls",
       "_view_module_version": "1.5.0",
       "_view_name": "HTMLView",
       "description": "",
       "description_tooltip": null,
       "layout": "IPY_MODEL_e550de4e3def431886f436835bf6185c",
       "placeholder": "​",
       "style": "IPY_MODEL_0ed921b59e97432bbe7d704f3ebf42f6",
       "value": "Downloading outdir/GW150914_result.json: "
      }
     },
     "7f031f4f763b4f559ee4a851c14c6d7c": {
      "model_module": "@jupyter-widgets/controls",
      "model_module_version": "1.5.0",
      "model_name": "HBoxModel",
      "state": {
       "_dom_classes": [],
       "_model_module": "@jupyter-widgets/controls",
       "_model_module_version": "1.5.0",
       "_model_name": "HBoxModel",
       "_view_count": null,
       "_view_module": "@jupyter-widgets/controls",
       "_view_module_version": "1.5.0",
       "_view_name": "HBoxView",
       "box_style": "",
       "children": [
        "IPY_MODEL_b14770ef7b964639acefe1af216ebf7d",
        "IPY_MODEL_6b7d5bc7b2774188aa63bacdb3c5b575",
        "IPY_MODEL_d37858cbf00448cb9fc6aa2633f81c39"
       ],
       "layout": "IPY_MODEL_c5d8f5fb522041918834af182694bb89"
      }
     },
     "8cbf232fe56a47ebb9a560efa5c317df": {
      "model_module": "@jupyter-widgets/controls",
      "model_module_version": "1.5.0",
      "model_name": "DescriptionStyleModel",
      "state": {
       "_model_module": "@jupyter-widgets/controls",
       "_model_module_version": "1.5.0",
       "_model_name": "DescriptionStyleModel",
       "_view_count": null,
       "_view_module": "@jupyter-widgets/base",
       "_view_module_version": "1.2.0",
       "_view_name": "StyleView",
       "description_width": ""
      }
     },
     "99c39331ecc046c782c805915bdf1571": {
      "model_module": "@jupyter-widgets/base",
      "model_module_version": "1.2.0",
      "model_name": "LayoutModel",
      "state": {
       "_model_module": "@jupyter-widgets/base",
       "_model_module_version": "1.2.0",
       "_model_name": "LayoutModel",
       "_view_count": null,
       "_view_module": "@jupyter-widgets/base",
       "_view_module_version": "1.2.0",
       "_view_name": "LayoutView",
       "align_content": null,
       "align_items": null,
       "align_self": null,
       "border": null,
       "bottom": null,
       "display": null,
       "flex": null,
       "flex_flow": null,
       "grid_area": null,
       "grid_auto_columns": null,
       "grid_auto_flow": null,
       "grid_auto_rows": null,
       "grid_column": null,
       "grid_gap": null,
       "grid_row": null,
       "grid_template_areas": null,
       "grid_template_columns": null,
       "grid_template_rows": null,
       "height": null,
       "justify_content": null,
       "justify_items": null,
       "left": null,
       "margin": null,
       "max_height": null,
       "max_width": null,
       "min_height": null,
       "min_width": null,
       "object_fit": null,
       "object_position": null,
       "order": null,
       "overflow": null,
       "overflow_x": null,
       "overflow_y": null,
       "padding": null,
       "right": null,
       "top": null,
       "visibility": null,
       "width": null
      }
     },
     "a394ccf9affe40579a3204fb43276305": {
      "model_module": "@jupyter-widgets/base",
      "model_module_version": "1.2.0",
      "model_name": "LayoutModel",
      "state": {
       "_model_module": "@jupyter-widgets/base",
       "_model_module_version": "1.2.0",
       "_model_name": "LayoutModel",
       "_view_count": null,
       "_view_module": "@jupyter-widgets/base",
       "_view_module_version": "1.2.0",
       "_view_name": "LayoutView",
       "align_content": null,
       "align_items": null,
       "align_self": null,
       "border": null,
       "bottom": null,
       "display": null,
       "flex": null,
       "flex_flow": null,
       "grid_area": null,
       "grid_auto_columns": null,
       "grid_auto_flow": null,
       "grid_auto_rows": null,
       "grid_column": null,
       "grid_gap": null,
       "grid_row": null,
       "grid_template_areas": null,
       "grid_template_columns": null,
       "grid_template_rows": null,
       "height": null,
       "justify_content": null,
       "justify_items": null,
       "left": null,
       "margin": null,
       "max_height": null,
       "max_width": null,
       "min_height": null,
       "min_width": null,
       "object_fit": null,
       "object_position": null,
       "order": null,
       "overflow": null,
       "overflow_x": null,
       "overflow_y": null,
       "padding": null,
       "right": null,
       "top": null,
       "visibility": null,
       "width": null
      }
     },
     "a990ed62e875465595edb850316dce76": {
      "model_module": "@jupyter-widgets/base",
      "model_module_version": "1.2.0",
      "model_name": "LayoutModel",
      "state": {
       "_model_module": "@jupyter-widgets/base",
       "_model_module_version": "1.2.0",
       "_model_name": "LayoutModel",
       "_view_count": null,
       "_view_module": "@jupyter-widgets/base",
       "_view_module_version": "1.2.0",
       "_view_name": "LayoutView",
       "align_content": null,
       "align_items": null,
       "align_self": null,
       "border": null,
       "bottom": null,
       "display": null,
       "flex": null,
       "flex_flow": null,
       "grid_area": null,
       "grid_auto_columns": null,
       "grid_auto_flow": null,
       "grid_auto_rows": null,
       "grid_column": null,
       "grid_gap": null,
       "grid_row": null,
       "grid_template_areas": null,
       "grid_template_columns": null,
       "grid_template_rows": null,
       "height": null,
       "justify_content": null,
       "justify_items": null,
       "left": null,
       "margin": null,
       "max_height": null,
       "max_width": null,
       "min_height": null,
       "min_width": null,
       "object_fit": null,
       "object_position": null,
       "order": null,
       "overflow": null,
       "overflow_x": null,
       "overflow_y": null,
       "padding": null,
       "right": null,
       "top": null,
       "visibility": null,
       "width": null
      }
     },
     "b14770ef7b964639acefe1af216ebf7d": {
      "model_module": "@jupyter-widgets/controls",
      "model_module_version": "1.5.0",
      "model_name": "HTMLModel",
      "state": {
       "_dom_classes": [],
       "_model_module": "@jupyter-widgets/controls",
       "_model_module_version": "1.5.0",
       "_model_name": "HTMLModel",
       "_view_count": null,
       "_view_module": "@jupyter-widgets/controls",
       "_view_module_version": "1.5.0",
       "_view_name": "HTMLView",
       "description": "",
       "description_tooltip": null,
       "layout": "IPY_MODEL_1725386a626242dba849dd3cdd09b709",
       "placeholder": "​",
       "style": "IPY_MODEL_320ec00ee09c4189937c748c8a4a2236",
       "value": "Brute force LnL computation: 100%"
      }
     },
     "b2ac48b4ffc34ad8ad398d405446d21d": {
      "model_module": "@jupyter-widgets/controls",
      "model_module_version": "1.5.0",
      "model_name": "ProgressStyleModel",
      "state": {
       "_model_module": "@jupyter-widgets/controls",
       "_model_module_version": "1.5.0",
       "_model_name": "ProgressStyleModel",
       "_view_count": null,
       "_view_module": "@jupyter-widgets/base",
       "_view_module_version": "1.2.0",
       "_view_name": "StyleView",
       "bar_color": null,
       "description_width": ""
      }
     },
     "c5d8f5fb522041918834af182694bb89": {
      "model_module": "@jupyter-widgets/base",
      "model_module_version": "1.2.0",
      "model_name": "LayoutModel",
      "state": {
       "_model_module": "@jupyter-widgets/base",
       "_model_module_version": "1.2.0",
       "_model_name": "LayoutModel",
       "_view_count": null,
       "_view_module": "@jupyter-widgets/base",
       "_view_module_version": "1.2.0",
       "_view_name": "LayoutView",
       "align_content": null,
       "align_items": null,
       "align_self": null,
       "border": null,
       "bottom": null,
       "display": null,
       "flex": null,
       "flex_flow": null,
       "grid_area": null,
       "grid_auto_columns": null,
       "grid_auto_flow": null,
       "grid_auto_rows": null,
       "grid_column": null,
       "grid_gap": null,
       "grid_row": null,
       "grid_template_areas": null,
       "grid_template_columns": null,
       "grid_template_rows": null,
       "height": null,
       "justify_content": null,
       "justify_items": null,
       "left": null,
       "margin": null,
       "max_height": null,
       "max_width": null,
       "min_height": null,
       "min_width": null,
       "object_fit": null,
       "object_position": null,
       "order": null,
       "overflow": null,
       "overflow_x": null,
       "overflow_y": null,
       "padding": null,
       "right": null,
       "top": null,
       "visibility": null,
       "width": null
      }
     },
     "c9d9d6d17f1c4f65acd40cec5dafe2dc": {
      "model_module": "@jupyter-widgets/controls",
      "model_module_version": "1.5.0",
      "model_name": "ProgressStyleModel",
      "state": {
       "_model_module": "@jupyter-widgets/controls",
       "_model_module_version": "1.5.0",
       "_model_name": "ProgressStyleModel",
       "_view_count": null,
       "_view_module": "@jupyter-widgets/base",
       "_view_module_version": "1.2.0",
       "_view_name": "StyleView",
       "bar_color": null,
       "description_width": ""
      }
     },
     "d37858cbf00448cb9fc6aa2633f81c39": {
      "model_module": "@jupyter-widgets/controls",
      "model_module_version": "1.5.0",
      "model_name": "HTMLModel",
      "state": {
       "_dom_classes": [],
       "_model_module": "@jupyter-widgets/controls",
       "_model_module_version": "1.5.0",
       "_model_name": "HTMLModel",
       "_view_count": null,
       "_view_module": "@jupyter-widgets/controls",
       "_view_module_version": "1.5.0",
       "_view_name": "HTMLView",
       "description": "",
       "description_tooltip": null,
       "layout": "IPY_MODEL_1488802763da42fd9048d3bc7837ae5c",
       "placeholder": "​",
       "style": "IPY_MODEL_34d7fbc87982476693c3868f73cc225d",
       "value": " 10000/10000 [00:01&lt;00:00, 9370.19it/s]"
      }
     },
     "d917e02dc84246bd96f777cc2a615e08": {
      "model_module": "@jupyter-widgets/controls",
      "model_module_version": "1.5.0",
      "model_name": "HTMLModel",
      "state": {
       "_dom_classes": [],
       "_model_module": "@jupyter-widgets/controls",
       "_model_module_version": "1.5.0",
       "_model_name": "HTMLModel",
       "_view_count": null,
       "_view_module": "@jupyter-widgets/controls",
       "_view_module_version": "1.5.0",
       "_view_name": "HTMLView",
       "description": "",
       "description_tooltip": null,
       "layout": "IPY_MODEL_a990ed62e875465595edb850316dce76",
       "placeholder": "​",
       "style": "IPY_MODEL_8cbf232fe56a47ebb9a560efa5c317df",
       "value": " 205M/0.00 [03:17&lt;00:00, 660kiB/s]"
      }
     },
     "db35c9f5914649018a315892ca91a043": {
      "model_module": "@jupyter-widgets/base",
      "model_module_version": "1.2.0",
      "model_name": "LayoutModel",
      "state": {
       "_model_module": "@jupyter-widgets/base",
       "_model_module_version": "1.2.0",
       "_model_name": "LayoutModel",
       "_view_count": null,
       "_view_module": "@jupyter-widgets/base",
       "_view_module_version": "1.2.0",
       "_view_name": "LayoutView",
       "align_content": null,
       "align_items": null,
       "align_self": null,
       "border": null,
       "bottom": null,
       "display": null,
       "flex": null,
       "flex_flow": null,
       "grid_area": null,
       "grid_auto_columns": null,
       "grid_auto_flow": null,
       "grid_auto_rows": null,
       "grid_column": null,
       "grid_gap": null,
       "grid_row": null,
       "grid_template_areas": null,
       "grid_template_columns": null,
       "grid_template_rows": null,
       "height": null,
       "justify_content": null,
       "justify_items": null,
       "left": null,
       "margin": null,
       "max_height": null,
       "max_width": null,
       "min_height": null,
       "min_width": null,
       "object_fit": null,
       "object_position": null,
       "order": null,
       "overflow": null,
       "overflow_x": null,
       "overflow_y": null,
       "padding": null,
       "right": null,
       "top": null,
       "visibility": null,
       "width": null
      }
     },
     "dc728376bd0a4c1c919bc0ba78bc984b": {
      "model_module": "@jupyter-widgets/controls",
      "model_module_version": "1.5.0",
      "model_name": "FloatProgressModel",
      "state": {
       "_dom_classes": [],
       "_model_module": "@jupyter-widgets/controls",
       "_model_module_version": "1.5.0",
       "_model_name": "FloatProgressModel",
       "_view_count": null,
       "_view_module": "@jupyter-widgets/controls",
       "_view_module_version": "1.5.0",
       "_view_name": "ProgressView",
       "bar_style": "success",
       "description": "",
       "description_tooltip": null,
       "layout": "IPY_MODEL_f8ddd54c689a442aaafe3c9e9e5203f7",
       "max": 1.0,
       "min": 0.0,
       "orientation": "horizontal",
       "style": "IPY_MODEL_c9d9d6d17f1c4f65acd40cec5dafe2dc",
       "value": 1.0
      }
     },
     "e133a2ee45bb4e1ab0885be91aad6339": {
      "model_module": "@jupyter-widgets/controls",
      "model_module_version": "1.5.0",
      "model_name": "HTMLModel",
      "state": {
       "_dom_classes": [],
       "_model_module": "@jupyter-widgets/controls",
       "_model_module_version": "1.5.0",
       "_model_name": "HTMLModel",
       "_view_count": null,
       "_view_module": "@jupyter-widgets/controls",
       "_view_module_version": "1.5.0",
       "_view_name": "HTMLView",
       "description": "",
       "description_tooltip": null,
       "layout": "IPY_MODEL_62afe1f44e51472081fcaaa7ea091459",
       "placeholder": "​",
       "style": "IPY_MODEL_6a908bcf8a4b4bd7a758e9ad569ae74d",
       "value": " 20.1M/20.1M [01:59&lt;00:00, 187kiB/s]"
      }
     },
     "e550de4e3def431886f436835bf6185c": {
      "model_module": "@jupyter-widgets/base",
      "model_module_version": "1.2.0",
      "model_name": "LayoutModel",
      "state": {
       "_model_module": "@jupyter-widgets/base",
       "_model_module_version": "1.2.0",
       "_model_name": "LayoutModel",
       "_view_count": null,
       "_view_module": "@jupyter-widgets/base",
       "_view_module_version": "1.2.0",
       "_view_name": "LayoutView",
       "align_content": null,
       "align_items": null,
       "align_self": null,
       "border": null,
       "bottom": null,
       "display": null,
       "flex": null,
       "flex_flow": null,
       "grid_area": null,
       "grid_auto_columns": null,
       "grid_auto_flow": null,
       "grid_auto_rows": null,
       "grid_column": null,
       "grid_gap": null,
       "grid_row": null,
       "grid_template_areas": null,
       "grid_template_columns": null,
       "grid_template_rows": null,
       "height": null,
       "justify_content": null,
       "justify_items": null,
       "left": null,
       "margin": null,
       "max_height": null,
       "max_width": null,
       "min_height": null,
       "min_width": null,
       "object_fit": null,
       "object_position": null,
       "order": null,
       "overflow": null,
       "overflow_x": null,
       "overflow_y": null,
       "padding": null,
       "right": null,
       "top": null,
       "visibility": null,
       "width": null
      }
     },
     "e8fb0a9e0d4e4996b14e2cf6b5a7a115": {
      "model_module": "@jupyter-widgets/controls",
      "model_module_version": "1.5.0",
      "model_name": "DescriptionStyleModel",
      "state": {
       "_model_module": "@jupyter-widgets/controls",
       "_model_module_version": "1.5.0",
       "_model_name": "DescriptionStyleModel",
       "_view_count": null,
       "_view_module": "@jupyter-widgets/base",
       "_view_module_version": "1.2.0",
       "_view_name": "StyleView",
       "description_width": ""
      }
     },
     "f5fb8cb3d353480bb8319f936d8c8f26": {
      "model_module": "@jupyter-widgets/controls",
      "model_module_version": "1.5.0",
      "model_name": "HBoxModel",
      "state": {
       "_dom_classes": [],
       "_model_module": "@jupyter-widgets/controls",
       "_model_module_version": "1.5.0",
       "_model_name": "HBoxModel",
       "_view_count": null,
       "_view_module": "@jupyter-widgets/controls",
       "_view_module_version": "1.5.0",
       "_view_name": "HBoxView",
       "box_style": "",
       "children": [
        "IPY_MODEL_7759fb74c3d44eba9ca73e365f27461c",
        "IPY_MODEL_dc728376bd0a4c1c919bc0ba78bc984b",
        "IPY_MODEL_d917e02dc84246bd96f777cc2a615e08"
       ],
       "layout": "IPY_MODEL_99c39331ecc046c782c805915bdf1571"
      }
     },
     "f8ddd54c689a442aaafe3c9e9e5203f7": {
      "model_module": "@jupyter-widgets/base",
      "model_module_version": "1.2.0",
      "model_name": "LayoutModel",
      "state": {
       "_model_module": "@jupyter-widgets/base",
       "_model_module_version": "1.2.0",
       "_model_name": "LayoutModel",
       "_view_count": null,
       "_view_module": "@jupyter-widgets/base",
       "_view_module_version": "1.2.0",
       "_view_name": "LayoutView",
       "align_content": null,
       "align_items": null,
       "align_self": null,
       "border": null,
       "bottom": null,
       "display": null,
       "flex": null,
       "flex_flow": null,
       "grid_area": null,
       "grid_auto_columns": null,
       "grid_auto_flow": null,
       "grid_auto_rows": null,
       "grid_column": null,
       "grid_gap": null,
       "grid_row": null,
       "grid_template_areas": null,
       "grid_template_columns": null,
       "grid_template_rows": null,
       "height": null,
       "justify_content": null,
       "justify_items": null,
       "left": null,
       "margin": null,
       "max_height": null,
       "max_width": null,
       "min_height": null,
       "min_width": null,
       "object_fit": null,
       "object_position": null,
       "order": null,
       "overflow": null,
       "overflow_x": null,
       "overflow_y": null,
       "padding": null,
       "right": null,
       "top": null,
       "visibility": null,
       "width": "20px"
      }
     },
     "f95b5a5847f4450fbcf8f5cfc5f61959": {
      "model_module": "@jupyter-widgets/controls",
      "model_module_version": "1.5.0",
      "model_name": "FloatProgressModel",
      "state": {
       "_dom_classes": [],
       "_model_module": "@jupyter-widgets/controls",
       "_model_module_version": "1.5.0",
       "_model_name": "FloatProgressModel",
       "_view_count": null,
       "_view_module": "@jupyter-widgets/controls",
       "_view_module_version": "1.5.0",
       "_view_name": "ProgressView",
       "bar_style": "success",
       "description": "",
       "description_tooltip": null,
       "layout": "IPY_MODEL_4ced6512a6454fc689d858c13b146311",
       "max": 21106848.0,
       "min": 0.0,
       "orientation": "horizontal",
       "style": "IPY_MODEL_b2ac48b4ffc34ad8ad398d405446d21d",
       "value": 21106848.0
      }
     }
    },
    "version_major": 2,
    "version_minor": 0
   }
  }
 },
 "nbformat": 4,
 "nbformat_minor": 5
}
