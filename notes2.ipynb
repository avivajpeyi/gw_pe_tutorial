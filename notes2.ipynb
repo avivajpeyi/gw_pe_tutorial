{
  "nbformat": 4,
  "nbformat_minor": 0,
  "metadata": {
    "colab": {
      "name": "Gravitational-wave inference with BILBY.ipynb",
      "provenance": [],
      "collapsed_sections": []
    },
    "kernelspec": {
      "name": "python3",
      "display_name": "Python 3"
    },
    "accelerator": "GPU",
    "widgets": {
      "application/vnd.jupyter.widget-state+json": {
        "a855fdcb696a4f6e84846fa885ca0fed": {
          "model_module": "@jupyter-widgets/controls",
          "model_name": "HBoxModel",
          "model_module_version": "1.5.0",
          "state": {
            "_dom_classes": [],
            "_model_module": "@jupyter-widgets/controls",
            "_model_module_version": "1.5.0",
            "_model_name": "HBoxModel",
            "_view_count": null,
            "_view_module": "@jupyter-widgets/controls",
            "_view_module_version": "1.5.0",
            "_view_name": "HBoxView",
            "box_style": "",
            "children": [
              "IPY_MODEL_3174059e49724330864a7e8947bde69c",
              "IPY_MODEL_514b4461150b4fbbaffc59a2429b7263",
              "IPY_MODEL_275d6662bfa94dbd80fb581652ade6ab"
            ],
            "layout": "IPY_MODEL_f0faa8ab1a924cdd8b4e6136ca9a3256"
          }
        },
        "3174059e49724330864a7e8947bde69c": {
          "model_module": "@jupyter-widgets/controls",
          "model_name": "HTMLModel",
          "model_module_version": "1.5.0",
          "state": {
            "_dom_classes": [],
            "_model_module": "@jupyter-widgets/controls",
            "_model_module_version": "1.5.0",
            "_model_name": "HTMLModel",
            "_view_count": null,
            "_view_module": "@jupyter-widgets/controls",
            "_view_module_version": "1.5.0",
            "_view_name": "HTMLView",
            "description": "",
            "description_tooltip": null,
            "layout": "IPY_MODEL_ca3aa2141c7944199c7ed39aa426945e",
            "placeholder": "​",
            "style": "IPY_MODEL_8ce1e29c1e2d4cf682962edcc07b198f",
            "value": ""
          }
        },
        "514b4461150b4fbbaffc59a2429b7263": {
          "model_module": "@jupyter-widgets/controls",
          "model_name": "FloatProgressModel",
          "model_module_version": "1.5.0",
          "state": {
            "_dom_classes": [],
            "_model_module": "@jupyter-widgets/controls",
            "_model_module_version": "1.5.0",
            "_model_name": "FloatProgressModel",
            "_view_count": null,
            "_view_module": "@jupyter-widgets/controls",
            "_view_module_version": "1.5.0",
            "_view_name": "ProgressView",
            "bar_style": "success",
            "description": "",
            "description_tooltip": null,
            "layout": "IPY_MODEL_5dec81b9b62d4097ac935e51d12bee32",
            "max": 1,
            "min": 0,
            "orientation": "horizontal",
            "style": "IPY_MODEL_c92a7d6490f244afa2f6ec6b89c90f8a",
            "value": 1
          }
        },
        "275d6662bfa94dbd80fb581652ade6ab": {
          "model_module": "@jupyter-widgets/controls",
          "model_name": "HTMLModel",
          "model_module_version": "1.5.0",
          "state": {
            "_dom_classes": [],
            "_model_module": "@jupyter-widgets/controls",
            "_model_module_version": "1.5.0",
            "_model_name": "HTMLModel",
            "_view_count": null,
            "_view_module": "@jupyter-widgets/controls",
            "_view_module_version": "1.5.0",
            "_view_name": "HTMLView",
            "description": "",
            "description_tooltip": null,
            "layout": "IPY_MODEL_7d41a9132a1c4a89b3dcf7089d5975bf",
            "placeholder": "​",
            "style": "IPY_MODEL_02ec80bdbd594c14b17215374bb420ca",
            "value": " 1336/? [21:01&lt;00:00,  1.04s/it, bound:1177 nc:  1 ncall:9.2e+04 eff:1.5% logz-ratio=142.06+/-0.92 dlogz:0.002&gt;0.1]"
          }
        },
        "f0faa8ab1a924cdd8b4e6136ca9a3256": {
          "model_module": "@jupyter-widgets/base",
          "model_name": "LayoutModel",
          "model_module_version": "1.2.0",
          "state": {
            "_model_module": "@jupyter-widgets/base",
            "_model_module_version": "1.2.0",
            "_model_name": "LayoutModel",
            "_view_count": null,
            "_view_module": "@jupyter-widgets/base",
            "_view_module_version": "1.2.0",
            "_view_name": "LayoutView",
            "align_content": null,
            "align_items": null,
            "align_self": null,
            "border": null,
            "bottom": null,
            "display": null,
            "flex": null,
            "flex_flow": null,
            "grid_area": null,
            "grid_auto_columns": null,
            "grid_auto_flow": null,
            "grid_auto_rows": null,
            "grid_column": null,
            "grid_gap": null,
            "grid_row": null,
            "grid_template_areas": null,
            "grid_template_columns": null,
            "grid_template_rows": null,
            "height": null,
            "justify_content": null,
            "justify_items": null,
            "left": null,
            "margin": null,
            "max_height": null,
            "max_width": null,
            "min_height": null,
            "min_width": null,
            "object_fit": null,
            "object_position": null,
            "order": null,
            "overflow": null,
            "overflow_x": null,
            "overflow_y": null,
            "padding": null,
            "right": null,
            "top": null,
            "visibility": null,
            "width": null
          }
        },
        "ca3aa2141c7944199c7ed39aa426945e": {
          "model_module": "@jupyter-widgets/base",
          "model_name": "LayoutModel",
          "model_module_version": "1.2.0",
          "state": {
            "_model_module": "@jupyter-widgets/base",
            "_model_module_version": "1.2.0",
            "_model_name": "LayoutModel",
            "_view_count": null,
            "_view_module": "@jupyter-widgets/base",
            "_view_module_version": "1.2.0",
            "_view_name": "LayoutView",
            "align_content": null,
            "align_items": null,
            "align_self": null,
            "border": null,
            "bottom": null,
            "display": null,
            "flex": null,
            "flex_flow": null,
            "grid_area": null,
            "grid_auto_columns": null,
            "grid_auto_flow": null,
            "grid_auto_rows": null,
            "grid_column": null,
            "grid_gap": null,
            "grid_row": null,
            "grid_template_areas": null,
            "grid_template_columns": null,
            "grid_template_rows": null,
            "height": null,
            "justify_content": null,
            "justify_items": null,
            "left": null,
            "margin": null,
            "max_height": null,
            "max_width": null,
            "min_height": null,
            "min_width": null,
            "object_fit": null,
            "object_position": null,
            "order": null,
            "overflow": null,
            "overflow_x": null,
            "overflow_y": null,
            "padding": null,
            "right": null,
            "top": null,
            "visibility": null,
            "width": null
          }
        },
        "8ce1e29c1e2d4cf682962edcc07b198f": {
          "model_module": "@jupyter-widgets/controls",
          "model_name": "DescriptionStyleModel",
          "model_module_version": "1.5.0",
          "state": {
            "_model_module": "@jupyter-widgets/controls",
            "_model_module_version": "1.5.0",
            "_model_name": "DescriptionStyleModel",
            "_view_count": null,
            "_view_module": "@jupyter-widgets/base",
            "_view_module_version": "1.2.0",
            "_view_name": "StyleView",
            "description_width": ""
          }
        },
        "5dec81b9b62d4097ac935e51d12bee32": {
          "model_module": "@jupyter-widgets/base",
          "model_name": "LayoutModel",
          "model_module_version": "1.2.0",
          "state": {
            "_model_module": "@jupyter-widgets/base",
            "_model_module_version": "1.2.0",
            "_model_name": "LayoutModel",
            "_view_count": null,
            "_view_module": "@jupyter-widgets/base",
            "_view_module_version": "1.2.0",
            "_view_name": "LayoutView",
            "align_content": null,
            "align_items": null,
            "align_self": null,
            "border": null,
            "bottom": null,
            "display": null,
            "flex": null,
            "flex_flow": null,
            "grid_area": null,
            "grid_auto_columns": null,
            "grid_auto_flow": null,
            "grid_auto_rows": null,
            "grid_column": null,
            "grid_gap": null,
            "grid_row": null,
            "grid_template_areas": null,
            "grid_template_columns": null,
            "grid_template_rows": null,
            "height": null,
            "justify_content": null,
            "justify_items": null,
            "left": null,
            "margin": null,
            "max_height": null,
            "max_width": null,
            "min_height": null,
            "min_width": null,
            "object_fit": null,
            "object_position": null,
            "order": null,
            "overflow": null,
            "overflow_x": null,
            "overflow_y": null,
            "padding": null,
            "right": null,
            "top": null,
            "visibility": null,
            "width": "20px"
          }
        },
        "c92a7d6490f244afa2f6ec6b89c90f8a": {
          "model_module": "@jupyter-widgets/controls",
          "model_name": "ProgressStyleModel",
          "model_module_version": "1.5.0",
          "state": {
            "_model_module": "@jupyter-widgets/controls",
            "_model_module_version": "1.5.0",
            "_model_name": "ProgressStyleModel",
            "_view_count": null,
            "_view_module": "@jupyter-widgets/base",
            "_view_module_version": "1.2.0",
            "_view_name": "StyleView",
            "bar_color": null,
            "description_width": ""
          }
        },
        "7d41a9132a1c4a89b3dcf7089d5975bf": {
          "model_module": "@jupyter-widgets/base",
          "model_name": "LayoutModel",
          "model_module_version": "1.2.0",
          "state": {
            "_model_module": "@jupyter-widgets/base",
            "_model_module_version": "1.2.0",
            "_model_name": "LayoutModel",
            "_view_count": null,
            "_view_module": "@jupyter-widgets/base",
            "_view_module_version": "1.2.0",
            "_view_name": "LayoutView",
            "align_content": null,
            "align_items": null,
            "align_self": null,
            "border": null,
            "bottom": null,
            "display": null,
            "flex": null,
            "flex_flow": null,
            "grid_area": null,
            "grid_auto_columns": null,
            "grid_auto_flow": null,
            "grid_auto_rows": null,
            "grid_column": null,
            "grid_gap": null,
            "grid_row": null,
            "grid_template_areas": null,
            "grid_template_columns": null,
            "grid_template_rows": null,
            "height": null,
            "justify_content": null,
            "justify_items": null,
            "left": null,
            "margin": null,
            "max_height": null,
            "max_width": null,
            "min_height": null,
            "min_width": null,
            "object_fit": null,
            "object_position": null,
            "order": null,
            "overflow": null,
            "overflow_x": null,
            "overflow_y": null,
            "padding": null,
            "right": null,
            "top": null,
            "visibility": null,
            "width": null
          }
        },
        "02ec80bdbd594c14b17215374bb420ca": {
          "model_module": "@jupyter-widgets/controls",
          "model_name": "DescriptionStyleModel",
          "model_module_version": "1.5.0",
          "state": {
            "_model_module": "@jupyter-widgets/controls",
            "_model_module_version": "1.5.0",
            "_model_name": "DescriptionStyleModel",
            "_view_count": null,
            "_view_module": "@jupyter-widgets/base",
            "_view_module_version": "1.2.0",
            "_view_name": "StyleView",
            "description_width": ""
          }
        },
        "6bb95bdf6b164baa9b8463c4b675355e": {
          "model_module": "@jupyter-widgets/controls",
          "model_name": "HBoxModel",
          "model_module_version": "1.5.0",
          "state": {
            "_dom_classes": [],
            "_model_module": "@jupyter-widgets/controls",
            "_model_module_version": "1.5.0",
            "_model_name": "HBoxModel",
            "_view_count": null,
            "_view_module": "@jupyter-widgets/controls",
            "_view_module_version": "1.5.0",
            "_view_name": "HBoxView",
            "box_style": "",
            "children": [
              "IPY_MODEL_f121416ffd494268a795ccaa5d50103b",
              "IPY_MODEL_41def102c6f14686a9284b5a277a5d50",
              "IPY_MODEL_e21ae30530064d7797c284effcbc11e9"
            ],
            "layout": "IPY_MODEL_0c5eb3cd634e4eeb94e0ef0f5aaaf3be"
          }
        },
        "f121416ffd494268a795ccaa5d50103b": {
          "model_module": "@jupyter-widgets/controls",
          "model_name": "HTMLModel",
          "model_module_version": "1.5.0",
          "state": {
            "_dom_classes": [],
            "_model_module": "@jupyter-widgets/controls",
            "_model_module_version": "1.5.0",
            "_model_name": "HTMLModel",
            "_view_count": null,
            "_view_module": "@jupyter-widgets/controls",
            "_view_module_version": "1.5.0",
            "_view_name": "HTMLView",
            "description": "",
            "description_tooltip": null,
            "layout": "IPY_MODEL_9ed4370eb6fa4a1b846f398316eebf8d",
            "placeholder": "​",
            "style": "IPY_MODEL_be26bc029125447bb9db5900bb90f6cf",
            "value": "100%"
          }
        },
        "41def102c6f14686a9284b5a277a5d50": {
          "model_module": "@jupyter-widgets/controls",
          "model_name": "FloatProgressModel",
          "model_module_version": "1.5.0",
          "state": {
            "_dom_classes": [],
            "_model_module": "@jupyter-widgets/controls",
            "_model_module_version": "1.5.0",
            "_model_name": "FloatProgressModel",
            "_view_count": null,
            "_view_module": "@jupyter-widgets/controls",
            "_view_module_version": "1.5.0",
            "_view_name": "ProgressView",
            "bar_style": "success",
            "description": "",
            "description_tooltip": null,
            "layout": "IPY_MODEL_c328276711c2421581a52a185a0792da",
            "max": 1386,
            "min": 0,
            "orientation": "horizontal",
            "style": "IPY_MODEL_a73375998df74daab1ba30d282096ac3",
            "value": 1386
          }
        },
        "e21ae30530064d7797c284effcbc11e9": {
          "model_module": "@jupyter-widgets/controls",
          "model_name": "HTMLModel",
          "model_module_version": "1.5.0",
          "state": {
            "_dom_classes": [],
            "_model_module": "@jupyter-widgets/controls",
            "_model_module_version": "1.5.0",
            "_model_name": "HTMLModel",
            "_view_count": null,
            "_view_module": "@jupyter-widgets/controls",
            "_view_module_version": "1.5.0",
            "_view_name": "HTMLView",
            "description": "",
            "description_tooltip": null,
            "layout": "IPY_MODEL_ddb63a1628474e6c8969d1dca2a3cca6",
            "placeholder": "​",
            "style": "IPY_MODEL_2cc258c788c143dbbcba91e32b29dbd3",
            "value": " 1386/1386 [00:12&lt;00:00, 82.54it/s]"
          }
        },
        "0c5eb3cd634e4eeb94e0ef0f5aaaf3be": {
          "model_module": "@jupyter-widgets/base",
          "model_name": "LayoutModel",
          "model_module_version": "1.2.0",
          "state": {
            "_model_module": "@jupyter-widgets/base",
            "_model_module_version": "1.2.0",
            "_model_name": "LayoutModel",
            "_view_count": null,
            "_view_module": "@jupyter-widgets/base",
            "_view_module_version": "1.2.0",
            "_view_name": "LayoutView",
            "align_content": null,
            "align_items": null,
            "align_self": null,
            "border": null,
            "bottom": null,
            "display": null,
            "flex": null,
            "flex_flow": null,
            "grid_area": null,
            "grid_auto_columns": null,
            "grid_auto_flow": null,
            "grid_auto_rows": null,
            "grid_column": null,
            "grid_gap": null,
            "grid_row": null,
            "grid_template_areas": null,
            "grid_template_columns": null,
            "grid_template_rows": null,
            "height": null,
            "justify_content": null,
            "justify_items": null,
            "left": null,
            "margin": null,
            "max_height": null,
            "max_width": null,
            "min_height": null,
            "min_width": null,
            "object_fit": null,
            "object_position": null,
            "order": null,
            "overflow": null,
            "overflow_x": null,
            "overflow_y": null,
            "padding": null,
            "right": null,
            "top": null,
            "visibility": null,
            "width": null
          }
        },
        "9ed4370eb6fa4a1b846f398316eebf8d": {
          "model_module": "@jupyter-widgets/base",
          "model_name": "LayoutModel",
          "model_module_version": "1.2.0",
          "state": {
            "_model_module": "@jupyter-widgets/base",
            "_model_module_version": "1.2.0",
            "_model_name": "LayoutModel",
            "_view_count": null,
            "_view_module": "@jupyter-widgets/base",
            "_view_module_version": "1.2.0",
            "_view_name": "LayoutView",
            "align_content": null,
            "align_items": null,
            "align_self": null,
            "border": null,
            "bottom": null,
            "display": null,
            "flex": null,
            "flex_flow": null,
            "grid_area": null,
            "grid_auto_columns": null,
            "grid_auto_flow": null,
            "grid_auto_rows": null,
            "grid_column": null,
            "grid_gap": null,
            "grid_row": null,
            "grid_template_areas": null,
            "grid_template_columns": null,
            "grid_template_rows": null,
            "height": null,
            "justify_content": null,
            "justify_items": null,
            "left": null,
            "margin": null,
            "max_height": null,
            "max_width": null,
            "min_height": null,
            "min_width": null,
            "object_fit": null,
            "object_position": null,
            "order": null,
            "overflow": null,
            "overflow_x": null,
            "overflow_y": null,
            "padding": null,
            "right": null,
            "top": null,
            "visibility": null,
            "width": null
          }
        },
        "be26bc029125447bb9db5900bb90f6cf": {
          "model_module": "@jupyter-widgets/controls",
          "model_name": "DescriptionStyleModel",
          "model_module_version": "1.5.0",
          "state": {
            "_model_module": "@jupyter-widgets/controls",
            "_model_module_version": "1.5.0",
            "_model_name": "DescriptionStyleModel",
            "_view_count": null,
            "_view_module": "@jupyter-widgets/base",
            "_view_module_version": "1.2.0",
            "_view_name": "StyleView",
            "description_width": ""
          }
        },
        "c328276711c2421581a52a185a0792da": {
          "model_module": "@jupyter-widgets/base",
          "model_name": "LayoutModel",
          "model_module_version": "1.2.0",
          "state": {
            "_model_module": "@jupyter-widgets/base",
            "_model_module_version": "1.2.0",
            "_model_name": "LayoutModel",
            "_view_count": null,
            "_view_module": "@jupyter-widgets/base",
            "_view_module_version": "1.2.0",
            "_view_name": "LayoutView",
            "align_content": null,
            "align_items": null,
            "align_self": null,
            "border": null,
            "bottom": null,
            "display": null,
            "flex": null,
            "flex_flow": null,
            "grid_area": null,
            "grid_auto_columns": null,
            "grid_auto_flow": null,
            "grid_auto_rows": null,
            "grid_column": null,
            "grid_gap": null,
            "grid_row": null,
            "grid_template_areas": null,
            "grid_template_columns": null,
            "grid_template_rows": null,
            "height": null,
            "justify_content": null,
            "justify_items": null,
            "left": null,
            "margin": null,
            "max_height": null,
            "max_width": null,
            "min_height": null,
            "min_width": null,
            "object_fit": null,
            "object_position": null,
            "order": null,
            "overflow": null,
            "overflow_x": null,
            "overflow_y": null,
            "padding": null,
            "right": null,
            "top": null,
            "visibility": null,
            "width": null
          }
        },
        "a73375998df74daab1ba30d282096ac3": {
          "model_module": "@jupyter-widgets/controls",
          "model_name": "ProgressStyleModel",
          "model_module_version": "1.5.0",
          "state": {
            "_model_module": "@jupyter-widgets/controls",
            "_model_module_version": "1.5.0",
            "_model_name": "ProgressStyleModel",
            "_view_count": null,
            "_view_module": "@jupyter-widgets/base",
            "_view_module_version": "1.2.0",
            "_view_name": "StyleView",
            "bar_color": null,
            "description_width": ""
          }
        },
        "ddb63a1628474e6c8969d1dca2a3cca6": {
          "model_module": "@jupyter-widgets/base",
          "model_name": "LayoutModel",
          "model_module_version": "1.2.0",
          "state": {
            "_model_module": "@jupyter-widgets/base",
            "_model_module_version": "1.2.0",
            "_model_name": "LayoutModel",
            "_view_count": null,
            "_view_module": "@jupyter-widgets/base",
            "_view_module_version": "1.2.0",
            "_view_name": "LayoutView",
            "align_content": null,
            "align_items": null,
            "align_self": null,
            "border": null,
            "bottom": null,
            "display": null,
            "flex": null,
            "flex_flow": null,
            "grid_area": null,
            "grid_auto_columns": null,
            "grid_auto_flow": null,
            "grid_auto_rows": null,
            "grid_column": null,
            "grid_gap": null,
            "grid_row": null,
            "grid_template_areas": null,
            "grid_template_columns": null,
            "grid_template_rows": null,
            "height": null,
            "justify_content": null,
            "justify_items": null,
            "left": null,
            "margin": null,
            "max_height": null,
            "max_width": null,
            "min_height": null,
            "min_width": null,
            "object_fit": null,
            "object_position": null,
            "order": null,
            "overflow": null,
            "overflow_x": null,
            "overflow_y": null,
            "padding": null,
            "right": null,
            "top": null,
            "visibility": null,
            "width": null
          }
        },
        "2cc258c788c143dbbcba91e32b29dbd3": {
          "model_module": "@jupyter-widgets/controls",
          "model_name": "DescriptionStyleModel",
          "model_module_version": "1.5.0",
          "state": {
            "_model_module": "@jupyter-widgets/controls",
            "_model_module_version": "1.5.0",
            "_model_name": "DescriptionStyleModel",
            "_view_count": null,
            "_view_module": "@jupyter-widgets/base",
            "_view_module_version": "1.2.0",
            "_view_name": "StyleView",
            "description_width": ""
          }
        },
        "90cdfbbd63ef4d03a1f536275fb19c97": {
          "model_module": "@jupyter-widgets/controls",
          "model_name": "HBoxModel",
          "model_module_version": "1.5.0",
          "state": {
            "_dom_classes": [],
            "_model_module": "@jupyter-widgets/controls",
            "_model_module_version": "1.5.0",
            "_model_name": "HBoxModel",
            "_view_count": null,
            "_view_module": "@jupyter-widgets/controls",
            "_view_module_version": "1.5.0",
            "_view_name": "HBoxView",
            "box_style": "",
            "children": [
              "IPY_MODEL_aabebb3a35a144cfa00bd87e47ffdc85",
              "IPY_MODEL_9a78894072ab4e4ca4235ae6cc1fc68a",
              "IPY_MODEL_5a89e2ebe56642ce9731a2cdcc885144"
            ],
            "layout": "IPY_MODEL_0dd9f965bf984725b3aa768c960aa78a"
          }
        },
        "aabebb3a35a144cfa00bd87e47ffdc85": {
          "model_module": "@jupyter-widgets/controls",
          "model_name": "HTMLModel",
          "model_module_version": "1.5.0",
          "state": {
            "_dom_classes": [],
            "_model_module": "@jupyter-widgets/controls",
            "_model_module_version": "1.5.0",
            "_model_name": "HTMLModel",
            "_view_count": null,
            "_view_module": "@jupyter-widgets/controls",
            "_view_module_version": "1.5.0",
            "_view_name": "HTMLView",
            "description": "",
            "description_tooltip": null,
            "layout": "IPY_MODEL_cc3b0225a6254ded81dee21d1158c7ee",
            "placeholder": "​",
            "style": "IPY_MODEL_a3928826e1f84b11b0e6d7d547072ec5",
            "value": "100%"
          }
        },
        "9a78894072ab4e4ca4235ae6cc1fc68a": {
          "model_module": "@jupyter-widgets/controls",
          "model_name": "FloatProgressModel",
          "model_module_version": "1.5.0",
          "state": {
            "_dom_classes": [],
            "_model_module": "@jupyter-widgets/controls",
            "_model_module_version": "1.5.0",
            "_model_name": "FloatProgressModel",
            "_view_count": null,
            "_view_module": "@jupyter-widgets/controls",
            "_view_module_version": "1.5.0",
            "_view_name": "ProgressView",
            "bar_style": "success",
            "description": "",
            "description_tooltip": null,
            "layout": "IPY_MODEL_76bc0042c40b403cb801054edd12dd77",
            "max": 1386,
            "min": 0,
            "orientation": "horizontal",
            "style": "IPY_MODEL_0a59766cf1444b2482a36d4e2a0bc243",
            "value": 1386
          }
        },
        "5a89e2ebe56642ce9731a2cdcc885144": {
          "model_module": "@jupyter-widgets/controls",
          "model_name": "HTMLModel",
          "model_module_version": "1.5.0",
          "state": {
            "_dom_classes": [],
            "_model_module": "@jupyter-widgets/controls",
            "_model_module_version": "1.5.0",
            "_model_name": "HTMLModel",
            "_view_count": null,
            "_view_module": "@jupyter-widgets/controls",
            "_view_module_version": "1.5.0",
            "_view_name": "HTMLView",
            "description": "",
            "description_tooltip": null,
            "layout": "IPY_MODEL_09e123cd8c754e54a068d2a627012522",
            "placeholder": "​",
            "style": "IPY_MODEL_864f43b2e5e74e44a8251147d402e4a2",
            "value": " 1386/1386 [00:00&lt;00:00, 2637.41it/s]"
          }
        },
        "0dd9f965bf984725b3aa768c960aa78a": {
          "model_module": "@jupyter-widgets/base",
          "model_name": "LayoutModel",
          "model_module_version": "1.2.0",
          "state": {
            "_model_module": "@jupyter-widgets/base",
            "_model_module_version": "1.2.0",
            "_model_name": "LayoutModel",
            "_view_count": null,
            "_view_module": "@jupyter-widgets/base",
            "_view_module_version": "1.2.0",
            "_view_name": "LayoutView",
            "align_content": null,
            "align_items": null,
            "align_self": null,
            "border": null,
            "bottom": null,
            "display": null,
            "flex": null,
            "flex_flow": null,
            "grid_area": null,
            "grid_auto_columns": null,
            "grid_auto_flow": null,
            "grid_auto_rows": null,
            "grid_column": null,
            "grid_gap": null,
            "grid_row": null,
            "grid_template_areas": null,
            "grid_template_columns": null,
            "grid_template_rows": null,
            "height": null,
            "justify_content": null,
            "justify_items": null,
            "left": null,
            "margin": null,
            "max_height": null,
            "max_width": null,
            "min_height": null,
            "min_width": null,
            "object_fit": null,
            "object_position": null,
            "order": null,
            "overflow": null,
            "overflow_x": null,
            "overflow_y": null,
            "padding": null,
            "right": null,
            "top": null,
            "visibility": null,
            "width": null
          }
        },
        "cc3b0225a6254ded81dee21d1158c7ee": {
          "model_module": "@jupyter-widgets/base",
          "model_name": "LayoutModel",
          "model_module_version": "1.2.0",
          "state": {
            "_model_module": "@jupyter-widgets/base",
            "_model_module_version": "1.2.0",
            "_model_name": "LayoutModel",
            "_view_count": null,
            "_view_module": "@jupyter-widgets/base",
            "_view_module_version": "1.2.0",
            "_view_name": "LayoutView",
            "align_content": null,
            "align_items": null,
            "align_self": null,
            "border": null,
            "bottom": null,
            "display": null,
            "flex": null,
            "flex_flow": null,
            "grid_area": null,
            "grid_auto_columns": null,
            "grid_auto_flow": null,
            "grid_auto_rows": null,
            "grid_column": null,
            "grid_gap": null,
            "grid_row": null,
            "grid_template_areas": null,
            "grid_template_columns": null,
            "grid_template_rows": null,
            "height": null,
            "justify_content": null,
            "justify_items": null,
            "left": null,
            "margin": null,
            "max_height": null,
            "max_width": null,
            "min_height": null,
            "min_width": null,
            "object_fit": null,
            "object_position": null,
            "order": null,
            "overflow": null,
            "overflow_x": null,
            "overflow_y": null,
            "padding": null,
            "right": null,
            "top": null,
            "visibility": null,
            "width": null
          }
        },
        "a3928826e1f84b11b0e6d7d547072ec5": {
          "model_module": "@jupyter-widgets/controls",
          "model_name": "DescriptionStyleModel",
          "model_module_version": "1.5.0",
          "state": {
            "_model_module": "@jupyter-widgets/controls",
            "_model_module_version": "1.5.0",
            "_model_name": "DescriptionStyleModel",
            "_view_count": null,
            "_view_module": "@jupyter-widgets/base",
            "_view_module_version": "1.2.0",
            "_view_name": "StyleView",
            "description_width": ""
          }
        },
        "76bc0042c40b403cb801054edd12dd77": {
          "model_module": "@jupyter-widgets/base",
          "model_name": "LayoutModel",
          "model_module_version": "1.2.0",
          "state": {
            "_model_module": "@jupyter-widgets/base",
            "_model_module_version": "1.2.0",
            "_model_name": "LayoutModel",
            "_view_count": null,
            "_view_module": "@jupyter-widgets/base",
            "_view_module_version": "1.2.0",
            "_view_name": "LayoutView",
            "align_content": null,
            "align_items": null,
            "align_self": null,
            "border": null,
            "bottom": null,
            "display": null,
            "flex": null,
            "flex_flow": null,
            "grid_area": null,
            "grid_auto_columns": null,
            "grid_auto_flow": null,
            "grid_auto_rows": null,
            "grid_column": null,
            "grid_gap": null,
            "grid_row": null,
            "grid_template_areas": null,
            "grid_template_columns": null,
            "grid_template_rows": null,
            "height": null,
            "justify_content": null,
            "justify_items": null,
            "left": null,
            "margin": null,
            "max_height": null,
            "max_width": null,
            "min_height": null,
            "min_width": null,
            "object_fit": null,
            "object_position": null,
            "order": null,
            "overflow": null,
            "overflow_x": null,
            "overflow_y": null,
            "padding": null,
            "right": null,
            "top": null,
            "visibility": null,
            "width": null
          }
        },
        "0a59766cf1444b2482a36d4e2a0bc243": {
          "model_module": "@jupyter-widgets/controls",
          "model_name": "ProgressStyleModel",
          "model_module_version": "1.5.0",
          "state": {
            "_model_module": "@jupyter-widgets/controls",
            "_model_module_version": "1.5.0",
            "_model_name": "ProgressStyleModel",
            "_view_count": null,
            "_view_module": "@jupyter-widgets/base",
            "_view_module_version": "1.2.0",
            "_view_name": "StyleView",
            "bar_color": null,
            "description_width": ""
          }
        },
        "09e123cd8c754e54a068d2a627012522": {
          "model_module": "@jupyter-widgets/base",
          "model_name": "LayoutModel",
          "model_module_version": "1.2.0",
          "state": {
            "_model_module": "@jupyter-widgets/base",
            "_model_module_version": "1.2.0",
            "_model_name": "LayoutModel",
            "_view_count": null,
            "_view_module": "@jupyter-widgets/base",
            "_view_module_version": "1.2.0",
            "_view_name": "LayoutView",
            "align_content": null,
            "align_items": null,
            "align_self": null,
            "border": null,
            "bottom": null,
            "display": null,
            "flex": null,
            "flex_flow": null,
            "grid_area": null,
            "grid_auto_columns": null,
            "grid_auto_flow": null,
            "grid_auto_rows": null,
            "grid_column": null,
            "grid_gap": null,
            "grid_row": null,
            "grid_template_areas": null,
            "grid_template_columns": null,
            "grid_template_rows": null,
            "height": null,
            "justify_content": null,
            "justify_items": null,
            "left": null,
            "margin": null,
            "max_height": null,
            "max_width": null,
            "min_height": null,
            "min_width": null,
            "object_fit": null,
            "object_position": null,
            "order": null,
            "overflow": null,
            "overflow_x": null,
            "overflow_y": null,
            "padding": null,
            "right": null,
            "top": null,
            "visibility": null,
            "width": null
          }
        },
        "864f43b2e5e74e44a8251147d402e4a2": {
          "model_module": "@jupyter-widgets/controls",
          "model_name": "DescriptionStyleModel",
          "model_module_version": "1.5.0",
          "state": {
            "_model_module": "@jupyter-widgets/controls",
            "_model_module_version": "1.5.0",
            "_model_name": "DescriptionStyleModel",
            "_view_count": null,
            "_view_module": "@jupyter-widgets/base",
            "_view_module_version": "1.2.0",
            "_view_name": "StyleView",
            "description_width": ""
          }
        },
        "6c7938ec2cc0477fa0819884f07128be": {
          "model_module": "@jupyter-widgets/controls",
          "model_name": "HBoxModel",
          "model_module_version": "1.5.0",
          "state": {
            "_dom_classes": [],
            "_model_module": "@jupyter-widgets/controls",
            "_model_module_version": "1.5.0",
            "_model_name": "HBoxModel",
            "_view_count": null,
            "_view_module": "@jupyter-widgets/controls",
            "_view_module_version": "1.5.0",
            "_view_name": "HBoxView",
            "box_style": "",
            "children": [
              "IPY_MODEL_f4a99a448b4a41d6b8a371ca241c5157",
              "IPY_MODEL_b43396377e5d465d9d0469b28e36c7a6",
              "IPY_MODEL_f08bcbf489184c84bea80704dea4c945"
            ],
            "layout": "IPY_MODEL_4c8f7431c9cc4425a11c311e555f1dbb"
          }
        },
        "f4a99a448b4a41d6b8a371ca241c5157": {
          "model_module": "@jupyter-widgets/controls",
          "model_name": "HTMLModel",
          "model_module_version": "1.5.0",
          "state": {
            "_dom_classes": [],
            "_model_module": "@jupyter-widgets/controls",
            "_model_module_version": "1.5.0",
            "_model_name": "HTMLModel",
            "_view_count": null,
            "_view_module": "@jupyter-widgets/controls",
            "_view_module_version": "1.5.0",
            "_view_name": "HTMLView",
            "description": "",
            "description_tooltip": null,
            "layout": "IPY_MODEL_fcc1f2d427094bd480e8a716131aa91c",
            "placeholder": "​",
            "style": "IPY_MODEL_a53f795ed8164a03abd93ad3b6e28ec0",
            "value": "100%"
          }
        },
        "b43396377e5d465d9d0469b28e36c7a6": {
          "model_module": "@jupyter-widgets/controls",
          "model_name": "FloatProgressModel",
          "model_module_version": "1.5.0",
          "state": {
            "_dom_classes": [],
            "_model_module": "@jupyter-widgets/controls",
            "_model_module_version": "1.5.0",
            "_model_name": "FloatProgressModel",
            "_view_count": null,
            "_view_module": "@jupyter-widgets/controls",
            "_view_module_version": "1.5.0",
            "_view_name": "ProgressView",
            "bar_style": "success",
            "description": "",
            "description_tooltip": null,
            "layout": "IPY_MODEL_d683acfbca084b3badb14b6c6a714576",
            "max": 1386,
            "min": 0,
            "orientation": "horizontal",
            "style": "IPY_MODEL_12c40d446312457e8c22d56e37831a68",
            "value": 1386
          }
        },
        "f08bcbf489184c84bea80704dea4c945": {
          "model_module": "@jupyter-widgets/controls",
          "model_name": "HTMLModel",
          "model_module_version": "1.5.0",
          "state": {
            "_dom_classes": [],
            "_model_module": "@jupyter-widgets/controls",
            "_model_module_version": "1.5.0",
            "_model_name": "HTMLModel",
            "_view_count": null,
            "_view_module": "@jupyter-widgets/controls",
            "_view_module_version": "1.5.0",
            "_view_name": "HTMLView",
            "description": "",
            "description_tooltip": null,
            "layout": "IPY_MODEL_7bf0ff015ee549f8b9f15e7449c9c435",
            "placeholder": "​",
            "style": "IPY_MODEL_685d564b0db94671b91dd36d79b3a0af",
            "value": " 1386/1386 [00:19&lt;00:00, 75.14it/s]"
          }
        },
        "4c8f7431c9cc4425a11c311e555f1dbb": {
          "model_module": "@jupyter-widgets/base",
          "model_name": "LayoutModel",
          "model_module_version": "1.2.0",
          "state": {
            "_model_module": "@jupyter-widgets/base",
            "_model_module_version": "1.2.0",
            "_model_name": "LayoutModel",
            "_view_count": null,
            "_view_module": "@jupyter-widgets/base",
            "_view_module_version": "1.2.0",
            "_view_name": "LayoutView",
            "align_content": null,
            "align_items": null,
            "align_self": null,
            "border": null,
            "bottom": null,
            "display": null,
            "flex": null,
            "flex_flow": null,
            "grid_area": null,
            "grid_auto_columns": null,
            "grid_auto_flow": null,
            "grid_auto_rows": null,
            "grid_column": null,
            "grid_gap": null,
            "grid_row": null,
            "grid_template_areas": null,
            "grid_template_columns": null,
            "grid_template_rows": null,
            "height": null,
            "justify_content": null,
            "justify_items": null,
            "left": null,
            "margin": null,
            "max_height": null,
            "max_width": null,
            "min_height": null,
            "min_width": null,
            "object_fit": null,
            "object_position": null,
            "order": null,
            "overflow": null,
            "overflow_x": null,
            "overflow_y": null,
            "padding": null,
            "right": null,
            "top": null,
            "visibility": null,
            "width": null
          }
        },
        "fcc1f2d427094bd480e8a716131aa91c": {
          "model_module": "@jupyter-widgets/base",
          "model_name": "LayoutModel",
          "model_module_version": "1.2.0",
          "state": {
            "_model_module": "@jupyter-widgets/base",
            "_model_module_version": "1.2.0",
            "_model_name": "LayoutModel",
            "_view_count": null,
            "_view_module": "@jupyter-widgets/base",
            "_view_module_version": "1.2.0",
            "_view_name": "LayoutView",
            "align_content": null,
            "align_items": null,
            "align_self": null,
            "border": null,
            "bottom": null,
            "display": null,
            "flex": null,
            "flex_flow": null,
            "grid_area": null,
            "grid_auto_columns": null,
            "grid_auto_flow": null,
            "grid_auto_rows": null,
            "grid_column": null,
            "grid_gap": null,
            "grid_row": null,
            "grid_template_areas": null,
            "grid_template_columns": null,
            "grid_template_rows": null,
            "height": null,
            "justify_content": null,
            "justify_items": null,
            "left": null,
            "margin": null,
            "max_height": null,
            "max_width": null,
            "min_height": null,
            "min_width": null,
            "object_fit": null,
            "object_position": null,
            "order": null,
            "overflow": null,
            "overflow_x": null,
            "overflow_y": null,
            "padding": null,
            "right": null,
            "top": null,
            "visibility": null,
            "width": null
          }
        },
        "a53f795ed8164a03abd93ad3b6e28ec0": {
          "model_module": "@jupyter-widgets/controls",
          "model_name": "DescriptionStyleModel",
          "model_module_version": "1.5.0",
          "state": {
            "_model_module": "@jupyter-widgets/controls",
            "_model_module_version": "1.5.0",
            "_model_name": "DescriptionStyleModel",
            "_view_count": null,
            "_view_module": "@jupyter-widgets/base",
            "_view_module_version": "1.2.0",
            "_view_name": "StyleView",
            "description_width": ""
          }
        },
        "d683acfbca084b3badb14b6c6a714576": {
          "model_module": "@jupyter-widgets/base",
          "model_name": "LayoutModel",
          "model_module_version": "1.2.0",
          "state": {
            "_model_module": "@jupyter-widgets/base",
            "_model_module_version": "1.2.0",
            "_model_name": "LayoutModel",
            "_view_count": null,
            "_view_module": "@jupyter-widgets/base",
            "_view_module_version": "1.2.0",
            "_view_name": "LayoutView",
            "align_content": null,
            "align_items": null,
            "align_self": null,
            "border": null,
            "bottom": null,
            "display": null,
            "flex": null,
            "flex_flow": null,
            "grid_area": null,
            "grid_auto_columns": null,
            "grid_auto_flow": null,
            "grid_auto_rows": null,
            "grid_column": null,
            "grid_gap": null,
            "grid_row": null,
            "grid_template_areas": null,
            "grid_template_columns": null,
            "grid_template_rows": null,
            "height": null,
            "justify_content": null,
            "justify_items": null,
            "left": null,
            "margin": null,
            "max_height": null,
            "max_width": null,
            "min_height": null,
            "min_width": null,
            "object_fit": null,
            "object_position": null,
            "order": null,
            "overflow": null,
            "overflow_x": null,
            "overflow_y": null,
            "padding": null,
            "right": null,
            "top": null,
            "visibility": null,
            "width": null
          }
        },
        "12c40d446312457e8c22d56e37831a68": {
          "model_module": "@jupyter-widgets/controls",
          "model_name": "ProgressStyleModel",
          "model_module_version": "1.5.0",
          "state": {
            "_model_module": "@jupyter-widgets/controls",
            "_model_module_version": "1.5.0",
            "_model_name": "ProgressStyleModel",
            "_view_count": null,
            "_view_module": "@jupyter-widgets/base",
            "_view_module_version": "1.2.0",
            "_view_name": "StyleView",
            "bar_color": null,
            "description_width": ""
          }
        },
        "7bf0ff015ee549f8b9f15e7449c9c435": {
          "model_module": "@jupyter-widgets/base",
          "model_name": "LayoutModel",
          "model_module_version": "1.2.0",
          "state": {
            "_model_module": "@jupyter-widgets/base",
            "_model_module_version": "1.2.0",
            "_model_name": "LayoutModel",
            "_view_count": null,
            "_view_module": "@jupyter-widgets/base",
            "_view_module_version": "1.2.0",
            "_view_name": "LayoutView",
            "align_content": null,
            "align_items": null,
            "align_self": null,
            "border": null,
            "bottom": null,
            "display": null,
            "flex": null,
            "flex_flow": null,
            "grid_area": null,
            "grid_auto_columns": null,
            "grid_auto_flow": null,
            "grid_auto_rows": null,
            "grid_column": null,
            "grid_gap": null,
            "grid_row": null,
            "grid_template_areas": null,
            "grid_template_columns": null,
            "grid_template_rows": null,
            "height": null,
            "justify_content": null,
            "justify_items": null,
            "left": null,
            "margin": null,
            "max_height": null,
            "max_width": null,
            "min_height": null,
            "min_width": null,
            "object_fit": null,
            "object_position": null,
            "order": null,
            "overflow": null,
            "overflow_x": null,
            "overflow_y": null,
            "padding": null,
            "right": null,
            "top": null,
            "visibility": null,
            "width": null
          }
        },
        "685d564b0db94671b91dd36d79b3a0af": {
          "model_module": "@jupyter-widgets/controls",
          "model_name": "DescriptionStyleModel",
          "model_module_version": "1.5.0",
          "state": {
            "_model_module": "@jupyter-widgets/controls",
            "_model_module_version": "1.5.0",
            "_model_name": "DescriptionStyleModel",
            "_view_count": null,
            "_view_module": "@jupyter-widgets/base",
            "_view_module_version": "1.2.0",
            "_view_name": "StyleView",
            "description_width": ""
          }
        }
      }
    }
  },
  "cells": [
    {
      "cell_type": "markdown",
      "metadata": {
        "id": "Fvps0543kTqo"
      },
      "source": [
        "# Astrophysical inference for gravitational-wave transients\n",
        "\n",
        "In this colab notebook we will review some of tools `Bilby` has for doing Bayesian inference on gravitational-wave transients.\n",
        "\n",
        "The BILBY paper is: https://ui.adsabs.harvard.edu/abs/2019ApJS..241...27A/abstract\n",
        "\n",
        "***From the Abstract:*** Bayesian parameter estimation is fast becoming the language of gravitational-wave astronomy. It is the method by which gravitational-wave data is used to infer the sources’ astrophysical properties. It allows users to perform accurate and reliable gravitational-wave parameter estimation on both real, freely available data from LIGO/Virgo and simulated data. We provide a suite of examples for the analysis of compact binary mergersand other types of signal models, including supernovae and the remnants of binary neutron star mergers. These examples illustrate how to change the signal model, implement new likelihood functions, and add new detectors.\n",
        "\n",
        "More recently, PYCBC INFERENCE, a modern, PYTHON-based tool kit designed\n",
        "for compact binary coalescence parameter estimation, was released. This package provides access to several different samplers and builds on the PYCBC package, an open-source tool kit for gravitational-wave astronomy.\n",
        "\n",
        "The ***CHALLENGE*** is to Determine 15 parameters for a Black Hole Binary (typically calculated 1 or 2 at a time): \n",
        "\n",
        "***Intrinsic (8):*** 2 black hole masses, spin of black holes (6 parameters)\n",
        "\n",
        "***Extrinsic (7):*** luminosity distance,R.A, Decl., inclination angle between observer and angular momentum, polarization angle, phase at coalescence, coalescence time.\n",
        "\n",
        "There are more [examples](https://git.ligo.org/lscsoft/bilby/tree/master/examples/gw_examples) in the `Bilby` git repository."
      ]
    },
    {
      "cell_type": "markdown",
      "source": [
        "# Bayesian Analysis and Terms\n",
        "\n",
        "P(Θ|D) = P(D|Θ) P(Θ) / P(D)\n",
        "\n",
        "P(D|Θ) is the **likelihood**. This is the probability of seeing the data D generated by a model with parameter **Θ**.\n",
        "\n",
        "P(Θ) is the **prior**. Our belief of the value of Θ before considering the evidence D.\n",
        "\n",
        "P(D) is the **evidence**. This is the probability of the data determined by integrating across all possible values of **Θ**, weighted by how strongly we believe in those particular values of **Θ**.\n",
        "\n",
        "P(Θ|D) is the **posterior**. This is the (refined) strength of our belief of **Θ** once the evidence **D** has been taken into account.\n",
        "\n",
        "The goal of Bayesian inference is to provide a mathematically sound procedure for incorporating prior beliefs, with any evidence at hand, in order to produce an updated posterior belief.\n",
        "\n",
        "Notes on these pieces are included below."
      ],
      "metadata": {
        "id": "sq3qQ-a2OHTf"
      }
    },
    {
      "cell_type": "markdown",
      "metadata": {
        "id": "gXe5czb3jXVo"
      },
      "source": [
        "### Install packages\n",
        "\n",
        "Since this notebook was written for [colab](colab.research.google.com) we have to install the relevant packages using `pip install`.\n",
        "\n",
        "We install\n",
        "- `Bilby`: this is the library used for Bayesian inference, it also has tools for gravitational-wave transients.\n",
        "- `LALSuite`: the LIGO Algorithms Library, `Bilby` (generally) uses `lalsimulation` to generate waveforms.\n",
        "- `gwpy`: a package for interfacing with gravitational-wave data, it is the most convenient way to access open or proprietary data.\n",
        "\n",
        "### HEED THE WARNING and RESTART THE RUNTIME"
      ]
    },
    {
      "cell_type": "code",
      "metadata": {
        "id": "vSYJzFG5FwP1",
        "outputId": "0fea3aac-f81f-4f3c-d5aa-1482d1864052",
        "colab": {
          "base_uri": "https://localhost:8080/"
        }
      },
      "source": [
        "!pip install bilby lalsuite gwpy"
      ],
      "execution_count": null,
      "outputs": [
        {
          "output_type": "stream",
          "name": "stdout",
          "text": [
            "Requirement already satisfied: bilby in /usr/local/lib/python3.7/dist-packages (1.1.5)\n",
            "Requirement already satisfied: lalsuite in /usr/local/lib/python3.7/dist-packages (7.5)\n",
            "Requirement already satisfied: gwpy in /usr/local/lib/python3.7/dist-packages (2.1.3)\n",
            "Requirement already satisfied: emcee in /usr/local/lib/python3.7/dist-packages (from bilby) (3.1.1)\n",
            "Requirement already satisfied: attrs in /usr/local/lib/python3.7/dist-packages (from bilby) (21.4.0)\n",
            "Requirement already satisfied: numpy in /usr/local/lib/python3.7/dist-packages (from bilby) (1.21.6)\n",
            "Requirement already satisfied: dynesty<1.1 in /usr/local/lib/python3.7/dist-packages (from bilby) (1.0.1)\n",
            "Requirement already satisfied: h5py in /usr/local/lib/python3.7/dist-packages (from bilby) (3.1.0)\n",
            "Requirement already satisfied: corner in /usr/local/lib/python3.7/dist-packages (from bilby) (2.2.1)\n",
            "Requirement already satisfied: scipy>=1.5 in /usr/local/lib/python3.7/dist-packages (from bilby) (1.7.3)\n",
            "Requirement already satisfied: pandas in /usr/local/lib/python3.7/dist-packages (from bilby) (1.3.5)\n",
            "Requirement already satisfied: matplotlib>=2.1 in /usr/local/lib/python3.7/dist-packages (from bilby) (3.5.1)\n",
            "Requirement already satisfied: astropy in /usr/local/lib/python3.7/dist-packages (from bilby) (4.3.1)\n",
            "Requirement already satisfied: tables in /usr/local/lib/python3.7/dist-packages (from bilby) (3.7.0)\n",
            "Requirement already satisfied: tqdm in /usr/local/lib/python3.7/dist-packages (from bilby) (4.64.0)\n",
            "Requirement already satisfied: mock in /usr/local/lib/python3.7/dist-packages (from bilby) (4.0.3)\n",
            "Requirement already satisfied: dill in /usr/local/lib/python3.7/dist-packages (from bilby) (0.3.4)\n",
            "Requirement already satisfied: six in /usr/local/lib/python3.7/dist-packages (from dynesty<1.1->bilby) (1.15.0)\n",
            "Requirement already satisfied: kiwisolver>=1.0.1 in /usr/local/lib/python3.7/dist-packages (from matplotlib>=2.1->bilby) (1.4.2)\n",
            "Requirement already satisfied: cycler>=0.10 in /usr/local/lib/python3.7/dist-packages (from matplotlib>=2.1->bilby) (0.11.0)\n",
            "Requirement already satisfied: pyparsing>=2.2.1 in /usr/local/lib/python3.7/dist-packages (from matplotlib>=2.1->bilby) (3.0.8)\n",
            "Requirement already satisfied: packaging>=20.0 in /usr/local/lib/python3.7/dist-packages (from matplotlib>=2.1->bilby) (21.3)\n",
            "Requirement already satisfied: fonttools>=4.22.0 in /usr/local/lib/python3.7/dist-packages (from matplotlib>=2.1->bilby) (4.33.3)\n",
            "Requirement already satisfied: python-dateutil>=2.7 in /usr/local/lib/python3.7/dist-packages (from matplotlib>=2.1->bilby) (2.8.2)\n",
            "Requirement already satisfied: pillow>=6.2.0 in /usr/local/lib/python3.7/dist-packages (from matplotlib>=2.1->bilby) (7.1.2)\n",
            "Requirement already satisfied: typing-extensions in /usr/local/lib/python3.7/dist-packages (from kiwisolver>=1.0.1->matplotlib>=2.1->bilby) (4.2.0)\n",
            "Requirement already satisfied: lscsoft-glue in /usr/local/lib/python3.7/dist-packages (from lalsuite) (3.0.1)\n",
            "Requirement already satisfied: ligo-segments in /usr/local/lib/python3.7/dist-packages (from lalsuite) (1.4.0)\n",
            "Requirement already satisfied: dqsegdb2 in /usr/local/lib/python3.7/dist-packages (from gwpy) (1.1.1)\n",
            "Requirement already satisfied: gwdatafind in /usr/local/lib/python3.7/dist-packages (from gwpy) (1.1.0)\n",
            "Requirement already satisfied: gwosc>=0.5.3 in /usr/local/lib/python3.7/dist-packages (from gwpy) (0.6.1)\n",
            "Requirement already satisfied: ligotimegps>=1.2.1 in /usr/local/lib/python3.7/dist-packages (from gwpy) (2.0.1)\n",
            "Requirement already satisfied: pyerfa>=1.7.3 in /usr/local/lib/python3.7/dist-packages (from astropy->bilby) (2.0.0.1)\n",
            "Requirement already satisfied: importlib-metadata in /usr/local/lib/python3.7/dist-packages (from astropy->bilby) (4.11.3)\n",
            "Requirement already satisfied: requests>=1.0.0 in /usr/local/lib/python3.7/dist-packages (from gwosc>=0.5.3->gwpy) (2.23.0)\n",
            "Requirement already satisfied: cached-property in /usr/local/lib/python3.7/dist-packages (from h5py->bilby) (1.5.2)\n",
            "Requirement already satisfied: urllib3!=1.25.0,!=1.25.1,<1.26,>=1.21.1 in /usr/local/lib/python3.7/dist-packages (from requests>=1.0.0->gwosc>=0.5.3->gwpy) (1.24.3)\n",
            "Requirement already satisfied: chardet<4,>=3.0.2 in /usr/local/lib/python3.7/dist-packages (from requests>=1.0.0->gwosc>=0.5.3->gwpy) (3.0.4)\n",
            "Requirement already satisfied: idna<3,>=2.5 in /usr/local/lib/python3.7/dist-packages (from requests>=1.0.0->gwosc>=0.5.3->gwpy) (2.10)\n",
            "Requirement already satisfied: certifi>=2017.4.17 in /usr/local/lib/python3.7/dist-packages (from requests>=1.0.0->gwosc>=0.5.3->gwpy) (2021.10.8)\n",
            "Requirement already satisfied: igwn-auth-utils[requests] in /usr/local/lib/python3.7/dist-packages (from dqsegdb2->gwpy) (0.2.2)\n",
            "Requirement already satisfied: scitokens>=1.7.0 in /usr/local/lib/python3.7/dist-packages (from igwn-auth-utils[requests]->dqsegdb2->gwpy) (1.7.0)\n",
            "Requirement already satisfied: cryptography>=2.3 in /usr/local/lib/python3.7/dist-packages (from igwn-auth-utils[requests]->dqsegdb2->gwpy) (37.0.1)\n",
            "Requirement already satisfied: safe-netrc>=1.0.0 in /usr/local/lib/python3.7/dist-packages (from igwn-auth-utils[requests]->dqsegdb2->gwpy) (1.0.0)\n",
            "Requirement already satisfied: cffi>=1.12 in /usr/local/lib/python3.7/dist-packages (from cryptography>=2.3->igwn-auth-utils[requests]->dqsegdb2->gwpy) (1.15.0)\n",
            "Requirement already satisfied: pycparser in /usr/local/lib/python3.7/dist-packages (from cffi>=1.12->cryptography>=2.3->igwn-auth-utils[requests]->dqsegdb2->gwpy) (2.21)\n",
            "Requirement already satisfied: PyJWT>=1.6.1 in /usr/local/lib/python3.7/dist-packages (from scitokens>=1.7.0->igwn-auth-utils[requests]->dqsegdb2->gwpy) (2.3.0)\n",
            "Requirement already satisfied: zipp>=0.5 in /usr/local/lib/python3.7/dist-packages (from importlib-metadata->astropy->bilby) (3.8.0)\n",
            "Requirement already satisfied: pyRXP in /usr/local/lib/python3.7/dist-packages (from lscsoft-glue->lalsuite) (3.0.1)\n",
            "Requirement already satisfied: pyOpenSSL in /usr/local/lib/python3.7/dist-packages (from lscsoft-glue->lalsuite) (22.0.0)\n",
            "Requirement already satisfied: pytz>=2017.3 in /usr/local/lib/python3.7/dist-packages (from pandas->bilby) (2022.1)\n",
            "Requirement already satisfied: numexpr>=2.6.2 in /usr/local/lib/python3.7/dist-packages (from tables->bilby) (2.8.1)\n"
          ]
        }
      ]
    },
    {
      "cell_type": "markdown",
      "metadata": {
        "id": "Ie_ycPGek-CN"
      },
      "source": [
        "## Imports\n",
        "\n",
        "Most of the imports are here.\n",
        "Explanations of elements will be given where they're first used."
      ]
    },
    {
      "cell_type": "code",
      "metadata": {
        "id": "UlY2Uc54jNnm"
      },
      "source": [
        "import numpy as np\n",
        "import matplotlib.pyplot as plt\n",
        "\n",
        "import bilby\n",
        "\n",
        "from bilby import run_sampler\n",
        "\n",
        "from bilby.core.prior import Constraint, Uniform\n",
        "\n",
        "from bilby.gw.conversion import (\n",
        "    convert_to_lal_binary_black_hole_parameters,\n",
        "    generate_all_bbh_parameters\n",
        ")\n",
        "from bilby.gw.detector.networks import InterferometerList\n",
        "from bilby.gw.detector.psd import PowerSpectralDensity\n",
        "from bilby.gw.likelihood import GravitationalWaveTransient\n",
        "from bilby.gw.prior import BBHPriorDict\n",
        "from bilby.gw.result import CBCResult\n",
        "from bilby.gw.source import lal_binary_black_hole\n",
        "from bilby.gw.utils import get_event_time\n",
        "from bilby.gw.waveform_generator import WaveformGenerator\n",
        "\n",
        "from gwpy.timeseries import TimeSeries"
      ],
      "execution_count": null,
      "outputs": []
    },
    {
      "cell_type": "markdown",
      "metadata": {
        "id": "r4kYgF6JleY4"
      },
      "source": [
        "## Accessing data\n",
        "\n",
        "In this example we access the data to analyse the end of the inspiral for GW170814. The original notebook omitted the \"GW\" preface.\n",
        "\n",
        "To make the analysis run in a reasonable time we're going to just look at the final ~3s of the inspiral.\n",
        "\n",
        "We ask for 128s of data after the signal in order to estimate the power spectral density.\n",
        "\n",
        "The methods below are adapted from [`bilby_pipe.data_generation`](https://git.ligo.org/lscsoft/bilby_pipe/blob/master/bilby_pipe/data_generation.py)."
      ]
    },
    {
      "cell_type": "markdown",
      "source": [
        "Using 2 LIGO and 1 Virgo detectors (interferometers)"
      ],
      "metadata": {
        "id": "Jkyk-3pTNB00"
      }
    },
    {
      "cell_type": "code",
      "metadata": {
        "id": "-7tFpOB0mY3w"
      },
      "source": [
        "interferometers = InterferometerList([\"H1\", \"L1\", \"V1\"])\n",
        "trigger_time = get_event_time(\"GW170814\")"
      ],
      "execution_count": null,
      "outputs": []
    },
    {
      "cell_type": "markdown",
      "metadata": {
        "id": "B50pVUSJsbpB"
      },
      "source": [
        "### First we need to specify information on how much data to get and how it should be processed.\n",
        "\n",
        "We fetch a 4s stretch of data and put the trigger time `3`s through the\n",
        "segment.\n",
        "\n",
        "We also specify the \"roll_off\", this tells use how quickly the [tukey window]() applied to the data before performing the fast fourier transform of the data should fall off.\n",
        "This is in units of seconds.\n",
        "A fall off of `0` is a rectangular window and leads to issues due to the \"lines\" (sharp features in the power spectrum).\n",
        "We should always be careful to not apply the window to part of the signal being analysed.\n",
        "\n",
        "This is where using wavelets would be advantageous."
      ]
    },
    {
      "cell_type": "code",
      "metadata": {
        "id": "02lrbi2isYkx",
        "outputId": "77e1f360-6aa5-4393-c5a7-ecf90d5cb5d9",
        "colab": {
          "base_uri": "https://localhost:8080/"
        }
      },
      "source": [
        "start_time = trigger_time - 3\n",
        "duration = 4\n",
        "end_time = start_time + duration\n",
        "roll_off = 0.2\n",
        "\n",
        "for interferometer in interferometers:\n",
        "    print(\n",
        "        \"Getting analysis segment data for {}\".format(interferometer.name)\n",
        "    )\n",
        "    analysis_data = TimeSeries.fetch_open_data(\n",
        "        interferometer.name, start_time, end_time\n",
        "    )\n",
        "    interferometer.strain_data.roll_off = roll_off\n",
        "    interferometer.strain_data.set_from_gwpy_timeseries(analysis_data)\n"
      ],
      "execution_count": null,
      "outputs": [
        {
          "output_type": "stream",
          "name": "stdout",
          "text": [
            "Getting analysis segment data for H1\n",
            "Getting analysis segment data for L1\n",
            "Getting analysis segment data for V1\n"
          ]
        }
      ]
    },
    {
      "cell_type": "markdown",
      "metadata": {
        "id": "MC1rlu8ZwZV8"
      },
      "source": [
        "### Now we need to get the data to compute the power spectral density (PSD).\n",
        "This uses FFT (Fast Fourier Transforms) to transform a time series to the frequency domain.\n",
        "\n",
        "We average over multiple segments.\n",
        "We take the median average."
      ]
    },
    {
      "cell_type": "code",
      "metadata": {
        "id": "R800b5Nvtois",
        "outputId": "4a396f7a-1aa3-41b2-d088-5fbdff64310d",
        "colab": {
          "base_uri": "https://localhost:8080/"
        }
      },
      "source": [
        "actual_psd_start_time = start_time + duration\n",
        "psd_duration = 128\n",
        "actual_psd_end_time = actual_psd_start_time + psd_duration\n",
        "psd_tukey_alpha = 2 * roll_off / duration\n",
        "overlap = duration / 2\n",
        "\n",
        "for interferometer in interferometers:\n",
        "    print(\"Getting psd segment data for {}\".format(interferometer.name))\n",
        "    psd_data = TimeSeries.fetch_open_data(\n",
        "        interferometer.name, actual_psd_start_time, actual_psd_end_time\n",
        "    )\n",
        "    psd = psd_data.psd(\n",
        "        fftlength=duration, overlap=overlap, window=(\"tukey\", psd_tukey_alpha),\n",
        "        method=\"median\"\n",
        "    )\n",
        "    interferometer.power_spectral_density = PowerSpectralDensity(\n",
        "        frequency_array=psd.frequencies.value, psd_array=psd.value\n",
        "    )\n"
      ],
      "execution_count": null,
      "outputs": [
        {
          "output_type": "stream",
          "name": "stdout",
          "text": [
            "Getting psd segment data for H1\n",
            "Getting psd segment data for L1\n",
            "Getting psd segment data for V1\n"
          ]
        }
      ]
    },
    {
      "cell_type": "markdown",
      "metadata": {
        "id": "Ri3suek-weSv"
      },
      "source": [
        "### Finally let's plot the data\n",
        "Strain is the power of the signal (deformation of the interferometer) by frequency. Think of frequency as a pitch in sound."
      ]
    },
    {
      "cell_type": "code",
      "source": [
        "for interferometer in interferometers:\n",
        "  plt.loglog(interferometer.frequency_array, abs(interferometer.frequency_domain_strain))\n",
        "  plt.show()\n",
        "  plt.close()"
      ],
      "metadata": {
        "id": "dfXNRMrw9Shk",
        "outputId": "b009a571-73b8-4a54-96c5-f2513552b5fe",
        "colab": {
          "base_uri": "https://localhost:8080/",
          "height": 877
        }
      },
      "execution_count": null,
      "outputs": [
        {
          "output_type": "stream",
          "name": "stderr",
          "text": [
            "22:52 bilby INFO    : Generating frequency domain strain from given time domain strain.\n",
            "22:52 bilby INFO    : Applying a tukey window with alpha=0.1, roll off=0.2\n"
          ]
        },
        {
          "output_type": "display_data",
          "data": {
            "text/plain": [
              "<Figure size 432x288 with 1 Axes>"
            ],
            "image/png": "[encoded data removed]"
          },
          "metadata": {
            "needs_background": "light"
          }
        },
        {
          "output_type": "stream",
          "name": "stderr",
          "text": [
            "22:52 bilby INFO    : Generating frequency domain strain from given time domain strain.\n",
            "22:52 bilby INFO    : Applying a tukey window with alpha=0.1, roll off=0.2\n"
          ]
        },
        {
          "output_type": "display_data",
          "data": {
            "text/plain": [
              "<Figure size 432x288 with 1 Axes>"
            ],
            "image/png": "[encoded data removed]"
          },
          "metadata": {
            "needs_background": "light"
          }
        },
        {
          "output_type": "stream",
          "name": "stderr",
          "text": [
            "22:52 bilby INFO    : Generating frequency domain strain from given time domain strain.\n",
            "22:52 bilby INFO    : Applying a tukey window with alpha=0.1, roll off=0.2\n"
          ]
        },
        {
          "output_type": "display_data",
          "data": {
            "text/plain": [
              "<Figure size 432x288 with 1 Axes>"
            ],
            "image/png": "[encoded data removed]"
          },
          "metadata": {
            "needs_background": "light"
          }
        }
      ]
    },
    {
      "cell_type": "code",
      "metadata": {
        "id": "Im0skix1vldL",
        "outputId": "e72c1081-ee19-42ad-ab7c-cedb728996e2",
        "colab": {
          "base_uri": "https://localhost:8080/",
          "height": 767
        }
      },
      "source": [
        "for interferometer in interferometers:\n",
        "    plt.loglog(interferometer.frequency_array, abs(interferometer.frequency_domain_strain))\n",
        "    plt.loglog(interferometer.frequency_array, abs(interferometer.amplitude_spectral_density_array))\n",
        "    plt.xlim(interferometer.minimum_frequency, interferometer.maximum_frequency)\n",
        "    plt.show()\n",
        "    plt.close()"
      ],
      "execution_count": null,
      "outputs": [
        {
          "output_type": "display_data",
          "data": {
            "text/plain": [
              "<Figure size 432x288 with 1 Axes>"
            ],
            "image/png": "[encoded data removed]"
          },
          "metadata": {
            "needs_background": "light"
          }
        },
        {
          "output_type": "display_data",
          "data": {
            "text/plain": [
              "<Figure size 432x288 with 1 Axes>"
            ],
            "image/png": "[encoded data removed]"
          },
          "metadata": {
            "needs_background": "light"
          }
        },
        {
          "output_type": "display_data",
          "data": {
            "text/plain": [
              "<Figure size 432x288 with 1 Axes>"
            ],
            "image/png": "[encoded data removed]"
          },
          "metadata": {
            "needs_background": "light"
          }
        }
      ]
    },
    {
      "cell_type": "markdown",
      "metadata": {
        "id": "lJCFxg-Plm8K"
      },
      "source": [
        "## Setting up our model"
      ]
    },
    {
      "cell_type": "markdown",
      "metadata": {
        "id": "RsaAi7IewpxR"
      },
      "source": [
        "### Now that we have data we need a model to construct out likelihood\n",
        "\n",
        "In this case our model will be a gravitational-wave template for a binary black hole merger.\n",
        "\n",
        "This is accessed using a `waveform_generator`.\n",
        "\n",
        "This is given:\n",
        "- the duration and sampling frequency of the data that we want to compare the model to.\n",
        "- a `frequency_domain_source_model`, this is a python function which returns the waveform template given the parameters. For details of how to define such a model see [here](https://git.ligo.org/lscsoft/bilby/blob/master/bilby/gw/source.py).\n",
        "- a `parameter_conversion` function, this enables the user to sample in parameters that aren't directly used by the source model, e.g., sampling in chirp mass and mass ratio instead of component masses.\n",
        "- `waveform_arguments`, this is a dictionary of arguments which are passed to the source model which should not be sampled, e.g., the waveform approximant/reference frequency.\n",
        "\n",
        "This source model calls down to `lalsimulation` and should be able to use any waveform model implemented in that pakage.\n",
        "\n",
        "Other options:\n",
        "- a `time_domain_source_model` can be passed as an alternative to the `frequency_domain_source_model`, this will then be FFT'd if used in the likelihood below."
      ]
    },
    {
      "cell_type": "code",
      "metadata": {
        "id": "xlN1uDiFwpW9",
        "colab": {
          "base_uri": "https://localhost:8080/"
        },
        "outputId": "0d8d34a9-6922-4f2d-dcba-00d053c2212a"
      },
      "source": [
        "waveform_arguments = dict(\n",
        "    waveform_approximant=\"IMRPhenomPv2\",\n",
        "    reference_frequency=20\n",
        ")\n",
        "\n",
        "waveform_generator = WaveformGenerator(\n",
        "    duration=interferometers.duration,\n",
        "    sampling_frequency=interferometers.sampling_frequency,\n",
        "    frequency_domain_source_model=lal_binary_black_hole,\n",
        "    parameter_conversion=convert_to_lal_binary_black_hole_parameters,\n",
        "    waveform_arguments=waveform_arguments\n",
        ")"
      ],
      "execution_count": null,
      "outputs": [
        {
          "output_type": "stream",
          "name": "stderr",
          "text": [
            "22:52 bilby INFO    : Waveform generator initiated with\n",
            "  frequency_domain_source_model: bilby.gw.source.lal_binary_black_hole\n",
            "  time_domain_source_model: None\n",
            "  parameter_conversion: bilby.gw.conversion.convert_to_lal_binary_black_hole_parameters\n"
          ]
        }
      ]
    },
    {
      "cell_type": "markdown",
      "metadata": {
        "id": "3GU0ErXPlxqC"
      },
      "source": [
        "## Prior choice\n",
        "\n",
        "`Bilby` has a built in `BBHPriorDict` class which has all the necessary parameters for sampling a binary black hole system.\n",
        "\n",
        "We'll use that as a base but then make a few adjustments.\n",
        "\n",
        "- we specify to use aligned spins rather than the full six-dimensional spins.\n",
        "- we need to add a prior for time as that is difficult to define a default prior for.\n",
        "- we remove the priors on the component masses and repace them with priors on the chirp mass and mass ratio as those are parameters which are easier to sample in."
      ]
    },
    {
      "cell_type": "code",
      "metadata": {
        "id": "ycRlKeJrx_22",
        "outputId": "0f69cce2-1261-45a2-883e-19f34d87d88a",
        "colab": {
          "base_uri": "https://localhost:8080/"
        }
      },
      "source": [
        "priors = BBHPriorDict(aligned_spin=True)\n",
        "priors[\"chirp_mass\"] = Uniform(\n",
        "    minimum=24, maximum=30,\n",
        "    latex_label=\"$\\\\mathcal{M}$\", unit=\"$M_{\\\\odot}$\", boundary=\"reflective\"\n",
        ")\n",
        "priors[\"mass_ratio\"] = Uniform(\n",
        "    minimum=0.4, maximum=1, latex_label=\"$q$\", boundary=\"reflective\"\n",
        ")\n",
        "del priors[\"mass_1\"], priors[\"mass_2\"]\n",
        "\n",
        "priors[\"geocent_time\"] = Uniform(\n",
        "    minimum=trigger_time - 0.1, maximum=trigger_time + 0.1,\n",
        "    latex_label=\"$t_c$\", unit=\"$s$\", boundary=\"reflective\"\n",
        ")"
      ],
      "execution_count": null,
      "outputs": [
        {
          "output_type": "stream",
          "name": "stderr",
          "text": [
            "22:52 bilby INFO    : Using aligned spin prior\n",
            "22:52 bilby INFO    : No prior given, using default BBH priors in /usr/local/lib/python3.7/dist-packages/bilby/gw/prior_files/aligned_spins_bbh.prior.\n"
          ]
        }
      ]
    },
    {
      "cell_type": "code",
      "metadata": {
        "id": "gPAVxPdvvIjK",
        "outputId": "dcae9502-a4a6-4a3b-9a14-0b02b0065ac7",
        "colab": {
          "base_uri": "https://localhost:8080/"
        }
      },
      "source": [
        "for key in priors:\n",
        "    print(f\"{key}: {priors[key]}\")"
      ],
      "execution_count": null,
      "outputs": [
        {
          "output_type": "stream",
          "name": "stdout",
          "text": [
            "mass_ratio: Uniform(minimum=0.4, maximum=1, name=None, latex_label='$q$', unit=None, boundary='reflective')\n",
            "chirp_mass: Uniform(minimum=24, maximum=30, name=None, latex_label='$\\\\mathcal{M}$', unit='$M_{\\\\odot}$', boundary='reflective')\n",
            "luminosity_distance: UniformSourceFrame(minimum=100.0, maximum=5000.0, cosmology=FlatLambdaCDM(name=\"Planck15\", H0=67.7 km / (Mpc s), Om0=0.307, Tcmb0=2.725 K, Neff=3.05, m_nu=[0.   0.   0.06] eV, Ob0=0.0486), name='luminosity_distance', latex_label='$d_L$', unit=Unit(\"Mpc\"), boundary=None)\n",
            "dec: Cosine(minimum=-1.5707963267948966, maximum=1.5707963267948966, name='dec', latex_label='$\\\\mathrm{DEC}$', unit=None, boundary=None)\n",
            "ra: Uniform(minimum=0, maximum=6.283185307179586, name='ra', latex_label='$\\\\mathrm{RA}$', unit=None, boundary='periodic')\n",
            "theta_jn: Sine(minimum=0, maximum=3.141592653589793, name='theta_jn', latex_label='$\\\\theta_{JN}$', unit=None, boundary=None)\n",
            "psi: Uniform(minimum=0, maximum=3.141592653589793, name='psi', latex_label='$\\\\psi$', unit=None, boundary='periodic')\n",
            "phase: Uniform(minimum=0, maximum=6.283185307179586, name='phase', latex_label='$\\\\phi$', unit=None, boundary='periodic')\n",
            "chi_1: AlignedSpin(a_prior=Uniform(minimum=0, maximum=0.99, name=None, latex_label=None, unit=None, boundary=None), z_prior=Uniform(minimum=-1, maximum=1, name=None, latex_label=None, unit=None, boundary=None), name='chi_1', latex_label='$\\\\chi_1$', unit=None, boundary=None, minimum=-0.99, maximum=0.99)\n",
            "chi_2: AlignedSpin(a_prior=Uniform(minimum=0, maximum=0.99, name=None, latex_label=None, unit=None, boundary=None), z_prior=Uniform(minimum=-1, maximum=1, name=None, latex_label=None, unit=None, boundary=None), name='chi_2', latex_label='$\\\\chi_2$', unit=None, boundary=None, minimum=-0.99, maximum=0.99)\n",
            "geocent_time: Uniform(minimum=1186741861.4, maximum=1186741861.6, name=None, latex_label='$t_c$', unit='$s$', boundary='reflective')\n"
          ]
        }
      ]
    },
    {
      "cell_type": "markdown",
      "metadata": {
        "id": "SaZN6wTtvJTl"
      },
      "source": [
        "Let's take a look at what priors we have.\n",
        "\n",
        "These are mostly uniform with just a few exceptions.\n",
        "\n",
        "- Since we're only considering aligned spins we are using the `bilby.gw.prior.AlignedSpin` class.\n",
        "This takes a prior on spin magnitude $a$ and _cosine_ spin tilt $z$ and calculates the implied prior on the aligned component of the spin.\n",
        "- For luminosity distance we use the `bilby.gw.prior.UniformSourceFrame` prior. This ensures that our prior belief on distance is that events happen uniformly throughout the universe. The `cosmology` argument can either be an astropy `Cosmology` object or the name of a known cosmology, e.g., `WMAP9`.\n",
        "- `dec` and `theta_jn` have `Cosine` and `Sine` priors respectively, these are saying that the prior distribution is proportional to the appropriate trignometric function.\n",
        "These are chose so that the prior is uniform over the sphere."
      ]
    },
    {
      "cell_type": "code",
      "metadata": {
        "id": "NYmn_DbXjAwE",
        "colab": {
          "base_uri": "https://localhost:8080/",
          "height": 517
        },
        "outputId": "027072da-eb2c-4ac8-91bd-8a9daf2f09b3"
      },
      "source": [
        "prior_samples = priors.sample(10000)\n",
        "\n",
        "plt.hist(prior_samples[\"chi_1\"], bins=100)\n",
        "plt.show()\n",
        "plt.close()\n",
        "\n",
        "plt.hist(prior_samples[\"luminosity_distance\"], bins=100)\n",
        "plt.show()\n",
        "plt.close()"
      ],
      "execution_count": null,
      "outputs": [
        {
          "output_type": "display_data",
          "data": {
            "text/plain": [
              "<Figure size 432x288 with 1 Axes>"
            ],
            "image/png": "[encoded data removed]"
          },
          "metadata": {
            "needs_background": "light"
          }
        },
        {
          "output_type": "display_data",
          "data": {
            "text/plain": [
              "<Figure size 432x288 with 1 Axes>"
            ],
            "image/png": "[encoded data removed]"
          },
          "metadata": {
            "needs_background": "light"
          }
        }
      ]
    },
    {
      "cell_type": "markdown",
      "metadata": {
        "id": "NE0DKfntlpc5"
      },
      "source": [
        "## Let's make a likelihood!\n",
        "\n",
        "The standard likelihood used in gravitational-wave transient inference is the [Whittle Likelihood](https://en.wikipedia.org/wiki/Whittle_likelihood)\n",
        "$$\\mathcal{L}(d | \\theta) = \\prod_{i} \\prod_{j} \\frac{1}{2 \\pi S_{i,j} } \\exp\\left( -\\frac{|\\tilde{d}_{i,j} - \\tilde{h}_{i,j}(\\theta)|^2}{2S_{i,j} } \\right).$$\n",
        "The product here is over detectors $i$ and frequency bins $j$.\n",
        "$\\tilde{d}$ is the frequency-domain strain data, $\\tilde{h}$ is the template waveform, and $S$ is the noise power spectral density.\n",
        "\n",
        "In practice we are only interested in the (logarithm of) the terms which depend on the binary parameters.\n",
        "In this case we define the \"log likelihood ratio\" as follows\n",
        "$$\\ln \\mathcal{L} = \\sum_{j} \\sum_{j} - \\frac{1}{2} |\\tilde{h}_{i,j}|^2 + \\mathbb{R}\\left( \\tilde{d}_{i,j}^{*} \\tilde{h}_{i,j} \\right).$$\n",
        "\n",
        "_Note_: There are exceptions, e.g., when the power spectral density is modeled.\n",
        "\n",
        "There are some parameters which alter the template (and by extension the likelihood) in simple ways. The `GravitationalWaveTransient` likelihood in `Bilby` has implementation of marginalisation over the distance, time, and phase.\n",
        "\n",
        "The likelihood takes the following arguments\n",
        "- `interferometers`: this is the data for our likelihood\n",
        "- `waveform_generator`: this is our model for the signal\n",
        "- `priors`: if we use any of the marginalisations we need to provide the prior. The priors for the marginalised parameters are modified in place to fiducial values\n",
        "- `distance_marginalization`: whether to marginalize the likelihood over distance. I generally recommend using this as it removes the distance/inclination degeneracy and the posterior can be generated in post-processing. I've disabled it in this example as it takes a few minutes to set up the required lookup table.\n",
        "- `phase_marginalization`: whether to marginalize the likelihood over phase. Marginalising over phase analytically removes the degeneracy with polarisation. Note that this is only valid when there are no higher-order modes in the waveform.\n",
        "- `time_marginalization`: whether to marginalize the likelihood over time. This uses a FFT to marginalise over time.\n",
        "- `jitter_time`: when using the `time_marginalization` option the likelihood is evaluated on a fixed grid of times. To avoid coarse-graining issues on this grid we have the ablililty to sample in the position of the grid.\n",
        "\n",
        "_Note_: If you're using `bilby<0.5.6` there is a message `Time jittering requested with non-time-marginalised likelihood, ignoring.`. Ignore this."
      ]
    },
    {
      "cell_type": "code",
      "metadata": {
        "id": "aOb4fmu7xtxm"
      },
      "source": [
        "likelihood = GravitationalWaveTransient(\n",
        "    interferometers=interferometers, waveform_generator=waveform_generator,\n",
        "    priors=priors, time_marginalization=False, distance_marginalization=False,\n",
        "    phase_marginalization=True\n",
        ")"
      ],
      "execution_count": null,
      "outputs": []
    },
    {
      "cell_type": "markdown",
      "metadata": {
        "id": "n6qOe8Vbl_g9"
      },
      "source": [
        "## It's samplin' time. This uses Markov Chain Monte Carlo (MCMC)\n",
        "\n",
        "To make this run in just a few minutes the sampler setting are woefully inadequate to have faith in the results.\n",
        "\n",
        "The do a better run increase `nlive` and `walks`, for the review we are using nlive $= O(1000)$ and walks $= O(100)$.\n",
        "For details on the specific sampler and others, see the documentation either in [`Bilby`](https://docs.ligo.org/lscsoft/bilby/samplers.html) or the individual samplers, e.g., [`dynesty`](https://dynesty.readthedocs.io/en/latest/api.html).\n",
        "\n",
        "We pass a `conversion_function` which is applied after the sampling has finished. In this case we tell it to `generate_all_bbh_parameters`, this generates all the parameters that `Bilby` knows how to produce for binary black hole systems. This includes constructing the posterior for the marginalised parameters."
      ]
    },
    {
      "cell_type": "code",
      "metadata": {
        "id": "LdnFZAQEz77b",
        "outputId": "fb5dbbde-52eb-49a1-f331-a6fda77bcb38",
        "colab": {
          "base_uri": "https://localhost:8080/",
          "height": 859,
          "referenced_widgets": [
            "a855fdcb696a4f6e84846fa885ca0fed",
            "3174059e49724330864a7e8947bde69c",
            "514b4461150b4fbbaffc59a2429b7263",
            "275d6662bfa94dbd80fb581652ade6ab",
            "f0faa8ab1a924cdd8b4e6136ca9a3256",
            "ca3aa2141c7944199c7ed39aa426945e",
            "8ce1e29c1e2d4cf682962edcc07b198f",
            "5dec81b9b62d4097ac935e51d12bee32",
            "c92a7d6490f244afa2f6ec6b89c90f8a",
            "7d41a9132a1c4a89b3dcf7089d5975bf",
            "02ec80bdbd594c14b17215374bb420ca",
            "6bb95bdf6b164baa9b8463c4b675355e",
            "f121416ffd494268a795ccaa5d50103b",
            "41def102c6f14686a9284b5a277a5d50",
            "e21ae30530064d7797c284effcbc11e9",
            "0c5eb3cd634e4eeb94e0ef0f5aaaf3be",
            "9ed4370eb6fa4a1b846f398316eebf8d",
            "be26bc029125447bb9db5900bb90f6cf",
            "c328276711c2421581a52a185a0792da",
            "a73375998df74daab1ba30d282096ac3",
            "ddb63a1628474e6c8969d1dca2a3cca6",
            "2cc258c788c143dbbcba91e32b29dbd3",
            "90cdfbbd63ef4d03a1f536275fb19c97",
            "aabebb3a35a144cfa00bd87e47ffdc85",
            "9a78894072ab4e4ca4235ae6cc1fc68a",
            "5a89e2ebe56642ce9731a2cdcc885144",
            "0dd9f965bf984725b3aa768c960aa78a",
            "cc3b0225a6254ded81dee21d1158c7ee",
            "a3928826e1f84b11b0e6d7d547072ec5",
            "76bc0042c40b403cb801054edd12dd77",
            "0a59766cf1444b2482a36d4e2a0bc243",
            "09e123cd8c754e54a068d2a627012522",
            "864f43b2e5e74e44a8251147d402e4a2",
            "6c7938ec2cc0477fa0819884f07128be",
            "f4a99a448b4a41d6b8a371ca241c5157",
            "b43396377e5d465d9d0469b28e36c7a6",
            "f08bcbf489184c84bea80704dea4c945",
            "4c8f7431c9cc4425a11c311e555f1dbb",
            "fcc1f2d427094bd480e8a716131aa91c",
            "a53f795ed8164a03abd93ad3b6e28ec0",
            "d683acfbca084b3badb14b6c6a714576",
            "12c40d446312457e8c22d56e37831a68",
            "7bf0ff015ee549f8b9f15e7449c9c435",
            "685d564b0db94671b91dd36d79b3a0af"
          ]
        }
      },
      "source": [
        "result = run_sampler(\n",
        "    likelihood=likelihood, priors=priors, save=False,\n",
        "    nlive=50, walks=25,\n",
        "    conversion_function=generate_all_bbh_parameters,\n",
        "    result_class=CBCResult)"
      ],
      "execution_count": null,
      "outputs": [
        {
          "output_type": "stream",
          "name": "stderr",
          "text": [
            "22:53 bilby INFO    : Running for label 'label', output will be saved to 'outdir'\n",
            "22:53 bilby INFO    : Using lal version 7.1.7\n",
            "22:53 bilby INFO    : Using lal git version Branch: None;Tag: lalsuite-v7.5;Id: bd2ad8ca448e9761e3010e519a656789332ea28a;;Builder: Unknown User <>;Repository status: UNCLEAN: Modified working tree\n",
            "22:53 bilby INFO    : Using lalsimulation version 3.1.2\n",
            "22:53 bilby INFO    : Using lalsimulation git version Branch: None;Tag: lalsuite-v7.5;Id: bd2ad8ca448e9761e3010e519a656789332ea28a;;Builder: Unknown User <>;Repository status: UNCLEAN: Modified working tree\n",
            "22:53 bilby INFO    : Search parameters:\n",
            "22:53 bilby INFO    :   mass_ratio = Uniform(minimum=0.4, maximum=1, name=None, latex_label='$q$', unit=None, boundary='reflective')\n",
            "22:53 bilby INFO    :   chirp_mass = Uniform(minimum=24, maximum=30, name=None, latex_label='$\\\\mathcal{M}$', unit='$M_{\\\\odot}$', boundary='reflective')\n",
            "22:53 bilby INFO    :   luminosity_distance = UniformSourceFrame(minimum=100.0, maximum=5000.0, cosmology=FlatLambdaCDM(name=\"Planck15\", H0=67.7 km / (Mpc s), Om0=0.307, Tcmb0=2.725 K, Neff=3.05, m_nu=[0.   0.   0.06] eV, Ob0=0.0486), name='luminosity_distance', latex_label='$d_L$', unit=Unit(\"Mpc\"), boundary=None)\n",
            "22:53 bilby INFO    :   dec = Cosine(minimum=-1.5707963267948966, maximum=1.5707963267948966, name='dec', latex_label='$\\\\mathrm{DEC}$', unit=None, boundary=None)\n",
            "22:53 bilby INFO    :   ra = Uniform(minimum=0, maximum=6.283185307179586, name='ra', latex_label='$\\\\mathrm{RA}$', unit=None, boundary='periodic')\n",
            "22:53 bilby INFO    :   theta_jn = Sine(minimum=0, maximum=3.141592653589793, name='theta_jn', latex_label='$\\\\theta_{JN}$', unit=None, boundary=None)\n",
            "22:53 bilby INFO    :   psi = Uniform(minimum=0, maximum=3.141592653589793, name='psi', latex_label='$\\\\psi$', unit=None, boundary='periodic')\n",
            "22:53 bilby INFO    :   chi_1 = AlignedSpin(a_prior=Uniform(minimum=0, maximum=0.99, name=None, latex_label=None, unit=None, boundary=None), z_prior=Uniform(minimum=-1, maximum=1, name=None, latex_label=None, unit=None, boundary=None), name='chi_1', latex_label='$\\\\chi_1$', unit=None, boundary=None, minimum=-0.99, maximum=0.99)\n",
            "22:53 bilby INFO    :   chi_2 = AlignedSpin(a_prior=Uniform(minimum=0, maximum=0.99, name=None, latex_label=None, unit=None, boundary=None), z_prior=Uniform(minimum=-1, maximum=1, name=None, latex_label=None, unit=None, boundary=None), name='chi_2', latex_label='$\\\\chi_2$', unit=None, boundary=None, minimum=-0.99, maximum=0.99)\n",
            "22:53 bilby INFO    :   geocent_time = Uniform(minimum=1186741861.4, maximum=1186741861.6, name=None, latex_label='$t_c$', unit='$s$', boundary='reflective')\n",
            "22:53 bilby INFO    :   phase = 0.0\n",
            "22:53 bilby INFO    : Single likelihood evaluation took 2.876e-02 s\n"
          ]
        },
        {
          "output_type": "display_data",
          "data": {
            "text/plain": [
              "0it [00:00, ?it/s]"
            ],
            "application/vnd.jupyter.widget-view+json": {
              "version_major": 2,
              "version_minor": 0,
              "model_id": "a855fdcb696a4f6e84846fa885ca0fed"
            }
          },
          "metadata": {}
        },
        {
          "output_type": "stream",
          "name": "stderr",
          "text": [
            "22:53 bilby INFO    : Using sampler Dynesty with kwargs {'bound': 'multi', 'sample': 'rwalk', 'verbose': True, 'periodic': None, 'reflective': None, 'check_point_delta_t': 1800, 'nlive': 50, 'first_update': None, 'walks': 25, 'npdim': None, 'rstate': None, 'queue_size': 1, 'pool': None, 'use_pool': None, 'live_points': None, 'logl_args': None, 'logl_kwargs': None, 'ptform_args': None, 'ptform_kwargs': None, 'enlarge': 1.5, 'bootstrap': None, 'vol_dec': 0.5, 'vol_check': 8.0, 'facc': 0.2, 'slices': 5, 'update_interval': 30, 'print_func': <bound method Dynesty._print_func of <bilby.core.sampler.dynesty.Dynesty object at 0x7f41d6cff1d0>>, 'dlogz': 0.1, 'maxiter': None, 'maxcall': None, 'logl_max': inf, 'add_live': True, 'print_progress': True, 'save_bounds': False, 'n_effective': None, 'maxmcmc': 5000, 'nact': 5, 'print_method': 'tqdm'}\n",
            "22:53 bilby INFO    : Checkpoint every check_point_delta_t = 600s\n",
            "22:53 bilby INFO    : Using dynesty version 1.0.1\n",
            "22:53 bilby INFO    : Using the bilby-implemented rwalk sample method with ACT estimated walks\n",
            "22:53 bilby INFO    : Resume file outdir/label_resume.pickle does not exist.\n",
            "22:53 bilby INFO    : Generating initial points from the prior\n",
            "/usr/local/lib/python3.7/dist-packages/dynesty/dynesty.py:373: UserWarning: A note of caution: having `nlive < ndim * (ndim + 1) // 2` may result in unconstrained bounding distributions.\n",
            "  warnings.warn(\"A note of caution: \"\n",
            "23:03 bilby INFO    : Written checkpoint file outdir/label_resume.pickle\n",
            "23:13 bilby INFO    : Written checkpoint file outdir/label_resume.pickle\n",
            "23:14 bilby INFO    : Written checkpoint file outdir/label_resume.pickle\n",
            "23:14 bilby INFO    : Sampling time: 0:20:52.605716\n",
            "23:14 bilby INFO    : Reconstructing marginalised parameters.\n"
          ]
        },
        {
          "output_type": "stream",
          "name": "stdout",
          "text": [
            "\n"
          ]
        },
        {
          "output_type": "display_data",
          "data": {
            "text/plain": [
              "  0%|          | 0/1386 [00:00<?, ?it/s]"
            ],
            "application/vnd.jupyter.widget-view+json": {
              "version_major": 2,
              "version_minor": 0,
              "model_id": "6bb95bdf6b164baa9b8463c4b675355e"
            }
          },
          "metadata": {}
        },
        {
          "output_type": "stream",
          "name": "stderr",
          "text": [
            "23:14 bilby INFO    : Generating sky frame parameters.\n"
          ]
        },
        {
          "output_type": "display_data",
          "data": {
            "text/plain": [
              "  0%|          | 0/1386 [00:00<?, ?it/s]"
            ],
            "application/vnd.jupyter.widget-view+json": {
              "version_major": 2,
              "version_minor": 0,
              "model_id": "90cdfbbd63ef4d03a1f536275fb19c97"
            }
          },
          "metadata": {}
        },
        {
          "output_type": "stream",
          "name": "stderr",
          "text": [
            "23:14 bilby INFO    : Computing SNRs for every sample.\n"
          ]
        },
        {
          "output_type": "display_data",
          "data": {
            "text/plain": [
              "  0%|          | 0/1386 [00:00<?, ?it/s]"
            ],
            "application/vnd.jupyter.widget-view+json": {
              "version_major": 2,
              "version_minor": 0,
              "model_id": "6c7938ec2cc0477fa0819884f07128be"
            }
          },
          "metadata": {}
        },
        {
          "output_type": "stream",
          "name": "stderr",
          "text": [
            "23:14 bilby INFO    : Summary of results:\n",
            "nsamples: 1386\n",
            "ln_noise_evidence: -24870.652\n",
            "ln_evidence: -24728.588 +/-  0.922\n",
            "ln_bayes_factor: 142.064 +/-  0.922\n",
            "\n"
          ]
        }
      ]
    },
    {
      "cell_type": "markdown",
      "metadata": {
        "id": "sC7I-6qomJtN"
      },
      "source": [
        "## and finally some plotting.\n",
        "\n",
        "First we'll make plots of the inferred waveform. Hopefully this will line up with a feature in the whitened time-domain strain."
      ]
    },
    {
      "cell_type": "code",
      "metadata": {
        "id": "R6wxfsXA0cBt",
        "outputId": "f9db729a-eb5e-45b7-caa1-410da7d34c84",
        "colab": {
          "base_uri": "https://localhost:8080/"
        }
      },
      "source": [
        "for interferometer in interferometers:\n",
        "    fig = result.plot_interferometer_waveform_posterior(\n",
        "        interferometer=interferometer\n",
        "    )\n",
        "    plt.show()\n",
        "    plt.close()"
      ],
      "execution_count": null,
      "outputs": [
        {
          "output_type": "stream",
          "name": "stderr",
          "text": [
            "23:15 bilby INFO    : Generating waveform figure for H1\n",
            "23:15 bilby INFO    : Waveform generator initiated with\n",
            "  frequency_domain_source_model: bilby.gw.source.lal_binary_black_hole\n",
            "  time_domain_source_model: None\n",
            "  parameter_conversion: bilby.gw.conversion.convert_to_lal_binary_black_hole_parameters\n",
            "23:15 bilby INFO    : Generating waveform figure for L1\n",
            "23:15 bilby INFO    : Waveform generator initiated with\n",
            "  frequency_domain_source_model: bilby.gw.source.lal_binary_black_hole\n",
            "  time_domain_source_model: None\n",
            "  parameter_conversion: bilby.gw.conversion.convert_to_lal_binary_black_hole_parameters\n",
            "23:16 bilby INFO    : Generating waveform figure for V1\n",
            "23:16 bilby INFO    : Waveform generator initiated with\n",
            "  frequency_domain_source_model: bilby.gw.source.lal_binary_black_hole\n",
            "  time_domain_source_model: None\n",
            "  parameter_conversion: bilby.gw.conversion.convert_to_lal_binary_black_hole_parameters\n"
          ]
        }
      ]
    },
    {
      "cell_type": "markdown",
      "metadata": {
        "id": "SfVw1zb0x9Lz"
      },
      "source": [
        "Now let's make a couple of corner plots on same parameters.\n",
        "\n",
        "In this first one we plot the source-frame masses and effective aligned spin, then we'll look at the distance and right ascension/declination."
      ]
    },
    {
      "cell_type": "code",
      "metadata": {
        "id": "f1NUyDG77szh",
        "outputId": "88d0e964-ad7f-488a-89c9-9c6088fbf236",
        "colab": {
          "base_uri": "https://localhost:8080/",
          "height": 559
        }
      },
      "source": [
        "result.plot_corner(parameters=[\"mass_1_source\", \"mass_2_source\", \"chi_eff\"])"
      ],
      "execution_count": null,
      "outputs": [
        {
          "output_type": "execute_result",
          "data": {
            "text/plain": [
              "<Figure size 547.2x547.2 with 9 Axes>"
            ],
            "image/png": "[encoded data removed]"
          },
          "metadata": {},
          "execution_count": 14
        }
      ]
    },
    {
      "cell_type": "code",
      "metadata": {
        "id": "NYA463zT-OeN",
        "outputId": "3ddfc514-29b1-41ae-ef80-872f07a9b02f",
        "colab": {
          "base_uri": "https://localhost:8080/",
          "height": 563
        }
      },
      "source": [
        "result.plot_corner(parameters=[\"luminosity_distance\", \"ra\", \"dec\"])"
      ],
      "execution_count": null,
      "outputs": [
        {
          "output_type": "execute_result",
          "data": {
            "text/plain": [
              "<Figure size 547.2x547.2 with 9 Axes>"
            ],
            "image/png": "[encoded data removed]"
          },
          "metadata": {},
          "execution_count": 15
        }
      ]
    },
    {
      "cell_type": "markdown",
      "metadata": {
        "id": "nQtY18Vgl1m0"
      },
      "source": [
        "## Additional cells\n",
        "\n",
        "Here's a small set of examples showing other things which are possible."
      ]
    },
    {
      "cell_type": "markdown",
      "metadata": {
        "id": "jvCfDgXf0Nf5"
      },
      "source": [
        "## Generating synthetic data\n",
        "\n",
        "A standard use-case for `Bilby` is analysing signals injected into sythetic data.\n",
        "The standard example for this is [here](https://git.ligo.org/lscsoft/bilby/blob/master/examples/gw_examples/injection_examples/fast_tutorial.py)\n",
        "\n",
        "Creating the data and injecting the signal in this case is by doing the following.\n",
        "\n",
        "```python\n",
        "injection_parameters = dict(\n",
        "    mass_1=36., mass_2=29., a_1=0.4, a_2=0.3, tilt_1=0.5, tilt_2=1.0,\n",
        "    phi_12=1.7, phi_jl=0.3, luminosity_distance=2000., theta_jn=0.4, psi=2.659,\n",
        "    phase=1.3, geocent_time=1126259642.413, ra=1.375, dec=-1.2108)\n",
        "\n",
        "ifos = bilby.gw.detector.InterferometerList(['H1', 'L1', 'V1', 'K1'])\n",
        "ifos.set_strain_data_from_power_spectral_densities(\n",
        "    sampling_frequency=sampling_frequency, duration=duration,\n",
        "    start_time=injection_parameters['geocent_time'] - 3)\n",
        "ifos.inject_signal(waveform_generator=waveform_generator,\n",
        "                   parameters=injection_parameters)\n",
        "```"
      ]
    },
    {
      "cell_type": "markdown",
      "metadata": {
        "id": "FkxhgCFdGQKp"
      },
      "source": [
        "## Defining a new source model\n",
        "\n",
        "Defining a new source model in `Bilby` just requires writing a python function.\n",
        "There are a few conventions that must be followed.\n",
        "\n",
        "```python\n",
        "def time_domain_sine_gaussian(\n",
        "        time_array, amplitude, phase, frequency, sigma\n",
        "):\n",
        "    \"\"\"\n",
        "    A time-domain sine-gaussian source model.\n",
        "\n",
        "    This assumes the waveform is circularly polarised so we are free to set the\n",
        "    cross term to be zero.\n",
        "\n",
        "    This is based on https://lscsoft.docs.ligo.org/lalsuite/lalinference/group___l_a_l_inference_template__h.html#ga61ea5a03b8aeffaeb3155df1866cbdcf\n",
        "\n",
        "    Parameters\n",
        "    ----------\n",
        "    time_array: array-like\n",
        "        This is the array of times that the waveform will be evaluated at.\n",
        "        This will be determined automatically by the WaveformGenerator that\n",
        "        calls this function.\n",
        "    amplitude: float\n",
        "        Peak amplitude of the sine-gaussian burst.\n",
        "    phase: float\n",
        "        Phase of the burst at the time of peak amplitude.\n",
        "    frequency: float\n",
        "        Frequency of the sine wave.\n",
        "    Sigma: float\n",
        "        Width of the Gaussian in seconds.\n",
        "    \n",
        "    Returns\n",
        "    -------\n",
        "    dict: Dictionary containing array of plus polarisation.\n",
        "    \"\"\"\n",
        "    if 20 * sigma >= time_array:\n",
        "        raise ValueError(\"Sine-gaussian isn't contained in segment.\")\n",
        "    h_plus = np.zeros_like(time_array)\n",
        "    \n",
        "    idxs_after = time_array <= 10 * sigma\n",
        "    time_after = time_array[idxs_after]\n",
        "    scaled_time_after = time_after * sigma\n",
        "    gaussian_term = np.exp(- scaled_time_after)\n",
        "    sine_term = np.sin(2 * np.pi * frequency * time_after + phi)\n",
        "    h_plus[times_after] = gaussian_term * sine_term\n",
        "\n",
        "    idxs_before = time_array <= time_array[-1] - 10 * sigma\n",
        "    time_before = time_array[idxs_before] - time_array[-1]\n",
        "    scaled_time_before = time_before * sigma\n",
        "    gaussian_term = np.exp(- scaled_time_before)\n",
        "    sine_term = np.sin(2 * np.pi * frequency * time_before + phi)\n",
        "    h_plus[times_after] = gaussian_term * sine_term\n",
        "\n",
        "    return{'plus': h_plus}\n",
        "```"
      ]
    }
  ]
}